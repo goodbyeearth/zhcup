{
 "cells": [
  {
   "cell_type": "code",
   "execution_count": 8,
   "metadata": {
    "scrolled": true
   },
   "outputs": [],
   "source": [
    "import pandas as pd"
   ]
  },
  {
   "cell_type": "code",
   "execution_count": 9,
   "metadata": {
    "scrolled": true
   },
   "outputs": [],
   "source": [
    "# 用户信息\n",
    "user_info = pd.read_csv('data/member_info_0926.txt', header=None, sep='\\t')\n",
    "user_info.columns = ['uid','gender','visit_freq','u_2_cat_a','u_2_cat_b','u_2_cat_c','u_2_cat_d',\n",
    "                     'u_2_cat_e','u_multi_cat_a','u_multi_cat_b','u_multi_cat_c','u_multi_cat_d',\n",
    "                     'u_multi_cat_e','u_salt_value','u_focus_topic','u_like_topic']\n",
    "\n",
    "\n",
    "# 问题信息\n",
    "question_info = pd.read_csv('data/question_info_0926.txt', header=None, sep='\\t')\n",
    "question_info.columns = ['qid','q_start_date','q_head_sw','q_head_w','q_desc_sw','q_desc_w',\n",
    "                         'q_topic']\n",
    "\n",
    "# 回答信息\n",
    "answer_info = pd.read_csv('data/answer_info_0926.txt', header=None, sep='\\t')\n",
    "answer_info.columns = ['aid', 'qid', 'uid', 'a_start_date', 'a_sw', 'a_w', 'good', 'recommend', \n",
    "                       'round_table', 'picture', 'video', 'num_word', 'num_agree', 'num_cancel',\n",
    "                       'num_commend', 'num_collect', 'num_thank', 'num_report', 'num_helpless', 'num_disagree']"
   ]
  },
  {
   "cell_type": "code",
   "execution_count": 10,
   "metadata": {},
   "outputs": [],
   "source": [
    "# 训练数据\n",
    "train = pd.read_csv('data/invite_info_0926.txt', header=None, sep='\\t')\n",
    "train.columns = ['qid', 'uid', 'i_start_date','answer']\n",
    "train = pd.merge(train, user_info, how='left', on='uid')\n",
    "train = pd.merge(train, question_info, how='left', on='qid')\n",
    "\n",
    "# 测试数据\n",
    "test = pd.read_csv('data/invite_info_evaluate_0926.txt', header=None, sep='\\t')\n",
    "test.columns = ['qid', 'uid', 'i_start_date']\n",
    "test = pd.merge(test, user_info, how='left', on='uid')\n",
    "test = pd.merge(test, question_info, how='left', on='qid')"
   ]
  },
  {
   "cell_type": "code",
   "execution_count": 13,
   "metadata": {},
   "outputs": [
    {
     "data": {
      "text/plain": [
       "0"
      ]
     },
     "execution_count": 13,
     "metadata": {},
     "output_type": "execute_result"
    }
   ],
   "source": [
    "len(test[test['q_topic'].isnull()])"
   ]
  },
  {
   "cell_type": "code",
   "execution_count": null,
   "metadata": {},
   "outputs": [],
   "source": []
  }
 ],
 "metadata": {
  "kernelspec": {
   "display_name": "Python 3",
   "language": "python",
   "name": "python3"
  },
  "language_info": {
   "codemirror_mode": {
    "name": "ipython",
    "version": 3
   },
   "file_extension": ".py",
   "mimetype": "text/x-python",
   "name": "python",
   "nbconvert_exporter": "python",
   "pygments_lexer": "ipython3",
   "version": "3.6.9"
  }
 },
 "nbformat": 4,
 "nbformat_minor": 2
}
