{
 "cells": [
  {
   "cell_type": "code",
   "execution_count": 1,
   "metadata": {},
   "outputs": [],
   "source": [
    "import pandas as pd\n",
    "import numpy as np\n",
    "import os\n",
    "from sklearn.preprocessing import LabelEncoder\n",
    "from sklearn.model_selection import KFold, StratifiedKFold\n",
    "from lightgbm import LGBMClassifier\n",
    "import logging\n",
    "import multiprocessing\n",
    "import traceback\n",
    "import pickle\n",
    "import gc"
   ]
  },
  {
   "cell_type": "code",
   "execution_count": 2,
   "metadata": {},
   "outputs": [],
   "source": [
    "log_fmt = \"[%(asctime)s] %(levelname)s in %(module)s: %(message)s\"\n",
    "logging.basicConfig(format=log_fmt, level=logging.INFO)\n",
    "\n",
    "base_path = './data'\n",
    "feature_path = './feature'"
   ]
  },
  {
   "cell_type": "code",
   "execution_count": 3,
   "metadata": {},
   "outputs": [
    {
     "name": "stderr",
     "output_type": "stream",
     "text": [
      "[2019-12-12 12:31:31,515] INFO in <ipython-input-3-af34e33feb4f>: invite (9489162, 4)\n",
      "[2019-12-12 12:31:33,520] INFO in <ipython-input-3-af34e33feb4f>: test (1141683, 3)\n"
     ]
    }
   ],
   "source": [
    "train = pd.read_csv(f'{base_path}/invite_info_0926.txt', sep='\\t', header=None)\n",
    "train.columns = ['qid', 'uid', 'dt', 'label']\n",
    "logging.info(\"invite %s\", train.shape)\n",
    "\n",
    "test = pd.read_csv(f'{base_path}/invite_info_evaluate_0926.txt', sep='\\t', header=None)\n",
    "test.columns = ['qid', 'uid', 'dt']\n",
    "logging.info(\"test %s\", test.shape)"
   ]
  },
  {
   "cell_type": "code",
   "execution_count": 4,
   "metadata": {},
   "outputs": [],
   "source": [
    "def extract_day(s):\n",
    "    return s.apply(lambda x: int(x.split('-')[0][1:]))\n",
    "\n",
    "\n",
    "def extract_hour(s):\n",
    "    return s.apply(lambda x: int(x.split('-')[1][1:]))\n",
    "\n",
    "train['day'] = extract_day(train['dt'])\n",
    "train['week'] = train['day'] % 7\n",
    "train['hour'] = extract_hour(train['dt'])\n",
    "\n",
    "test['day'] = extract_day(test['dt'])\n",
    "test['week'] = test['day'] % 7\n",
    "test['hour'] = extract_hour(test['dt'])"
   ]
  },
  {
   "cell_type": "code",
   "execution_count": 5,
   "metadata": {},
   "outputs": [
    {
     "name": "stderr",
     "output_type": "stream",
     "text": [
      "[2019-12-12 12:33:05,324] INFO in <ipython-input-5-5451e5d8303c>: user (1931654, 14)\n"
     ]
    },
    {
     "data": {
      "text/plain": [
       "0"
      ]
     },
     "execution_count": 5,
     "metadata": {},
     "output_type": "execute_result"
    }
   ],
   "source": [
    "# 加载用户\n",
    "user = pd.read_csv(f'{base_path}/member_info_0926.txt', header=None, sep='\\t')\n",
    "user.columns = ['uid', 'gender', 'freq', 'uf_b1', 'uf_b2','uf_b3', 'uf_b4', 'uf_b5', \n",
    "                'uf_c1', 'uf_c2', 'uf_c3', 'uf_c4', 'uf_c5',  'score', 'follow_topic', 'inter_topic']\n",
    "del user['follow_topic'], user['inter_topic']\n",
    "logging.info(\"user %s\", user.shape)\n",
    "\n",
    "# merge user\n",
    "train = pd.merge(train, user, on='uid', how='left')\n",
    "test = pd.merge(test, user, on='uid', how='left')\n",
    "\n",
    "del user\n",
    "gc.collect()"
   ]
  },
  {
   "cell_type": "code",
   "execution_count": 6,
   "metadata": {},
   "outputs": [
    {
     "name": "stderr",
     "output_type": "stream",
     "text": [
      "[2019-12-12 12:34:20,053] INFO in <ipython-input-6-56a30ffdc19b>: ques (1829900, 2)\n"
     ]
    },
    {
     "data": {
      "text/plain": [
       "0"
      ]
     },
     "execution_count": 6,
     "metadata": {},
     "output_type": "execute_result"
    }
   ],
   "source": [
    "# 加载问题\n",
    "ques = pd.read_csv(f'{base_path}/question_info_0926.txt', header=None, sep='\\t')\n",
    "ques.columns = ['qid', 'q_dt', 'title_t1', 'title_t2', 'desc_t1', 'desc_t2', 'topic']\n",
    "del ques['title_t1'], ques['title_t2'], ques['desc_t1'], ques['desc_t2'], ques['topic']\n",
    "logging.info(\"ques %s\", ques.shape)\n",
    "\n",
    "ques['q_day'] = extract_day(ques['q_dt'])\n",
    "ques['q_hour'] = extract_hour(ques['q_dt'])\n",
    "ques['q_week'] = ques['q_day'] % 7\n",
    "\n",
    "del ques['q_dt']\n",
    "\n",
    "# merge ques\n",
    "train = pd.merge(train, ques, on='qid', how='left')\n",
    "test = pd.merge(test, ques, on='qid', how='left')\n",
    "\n",
    "del ques\n",
    "gc.collect()"
   ]
  },
  {
   "cell_type": "code",
   "execution_count": 7,
   "metadata": {},
   "outputs": [],
   "source": [
    "train['diff_iq_day'] = train['day'] - train['q_day']\n",
    "train['diff_iq_hour'] = train['diff_iq_day'] * 24 + (train['hour'] - train['q_hour'])\n",
    "\n",
    "test['diff_iq_day'] = test['day'] - test['q_day']\n",
    "test['diff_iq_hour'] = test['diff_iq_day'] * 24 + (test['hour'] - test['q_hour'])"
   ]
  },
  {
   "cell_type": "code",
   "execution_count": 8,
   "metadata": {},
   "outputs": [],
   "source": [
    "def diff_iq_day_map(x):\n",
    "    if x>=31:\n",
    "        return 31\n",
    "    if x<0:\n",
    "        return 0\n",
    "    return x\n",
    "\n",
    "train['diff_iq_day'] = train['diff_iq_day'].apply(diff_iq_day_map)\n",
    "test['diff_iq_day'] = test['diff_iq_day'].apply(diff_iq_day_map)\n",
    "\n",
    "def diff_iq_hour_map(x):\n",
    "    if x<0:\n",
    "        return 0\n",
    "    if x>200:\n",
    "        return 40\n",
    "    return x // 5\n",
    "\n",
    "train['diff_iq_hour'] = train['diff_iq_hour'].apply(diff_iq_hour_map)\n",
    "test['diff_iq_day'] = test['diff_iq_day'].apply(diff_iq_day_map)"
   ]
  },
  {
   "cell_type": "code",
   "execution_count": 9,
   "metadata": {},
   "outputs": [],
   "source": [
    "def score_map(x):\n",
    "    if x<=280:\n",
    "        return -1\n",
    "    if x<=300:\n",
    "        return 0\n",
    "    if 300<x<=350:\n",
    "        return 1\n",
    "    if 350<x<=400:\n",
    "        return 2\n",
    "    if 400<x<=500:\n",
    "        return 3\n",
    "    if 500<x<=600:\n",
    "        return 4\n",
    "    if 600<x<=700:\n",
    "        return 5\n",
    "    if 700<x<=800:\n",
    "        return 6\n",
    "    return 7\n",
    "\n",
    "train['score'] = train['score'].apply(score_map)\n",
    "test['score'] = test['score'].apply(score_map)"
   ]
  },
  {
   "cell_type": "code",
   "execution_count": 10,
   "metadata": {},
   "outputs": [],
   "source": [
    "# 加载 invete feature 2: intersection_ft_count, intersection_it_count\n",
    "t1 = pd.read_csv(f'{feature_path}/train_invite_feature_2.txt', sep='\\t', \n",
    "                 usecols=['intersection_ft_count', 'intersection_it_count'])\n",
    "train = pd.concat([train, t1], axis=1)\n",
    "\n",
    "t1 = pd.read_csv(f'{feature_path}/test_invite_feature_2.txt', sep='\\t', \n",
    "                 usecols=['intersection_ft_count', 'intersection_it_count'])\n",
    "test = pd.concat([test, t1], axis=1)\n",
    "\n",
    "# 划分 intersection_ft_count\n",
    "def to_bin_1(x):\n",
    "    if x>=3:\n",
    "        return 3\n",
    "    return x\n",
    "\n",
    "train['intersection_ft_count'] = train['intersection_ft_count'].apply(to_bin_1)\n",
    "test['intersection_ft_count'] = test['intersection_ft_count'].apply(to_bin_1)\n",
    "\n",
    "# 划分 intersection_it_count\n",
    "def to_bin_2(x):\n",
    "    if x>=4:\n",
    "        return 4\n",
    "    return x\n",
    "\n",
    "train['intersection_it_count'] = train['intersection_it_count'].apply(to_bin_2)\n",
    "test['intersection_it_count'] = test['intersection_it_count'].apply(to_bin_2)"
   ]
  },
  {
   "cell_type": "code",
   "execution_count": 11,
   "metadata": {},
   "outputs": [],
   "source": [
    "# 加载 kfold topic feature, QU\n",
    "t1 = pd.read_csv(f'./feature/train_kfold_topic_feature.txt', sep='\\t', \n",
    "                 usecols=['qu_topic_count_weight', 'qu_topic_count'])\n",
    "train = pd.concat([train, t1], axis=1)\n",
    "\n",
    "t1 = pd.read_csv(f'./feature/test_kfold_topic_feature.txt', sep='\\t', \n",
    "                 usecols=['qu_topic_count_weight', 'qu_topic_count'])\n",
    "test = pd.concat([test, t1], axis=1)\n",
    "\n",
    "def qu_weight_map(x):\n",
    "    if x<=2:\n",
    "        return x\n",
    "    if x<=4:\n",
    "        return x\n",
    "    for i in range(1, 16):\n",
    "        if x<=4+5*i:\n",
    "            return 4+i\n",
    "    return 20\n",
    "train['qu_topic_count_weight'] = train['qu_topic_count_weight'].apply(qu_weight_map)\n",
    "test['qu_topic_count_weight'] = test['qu_topic_count_weight'].apply(qu_weight_map)\n",
    "\n",
    "def qu_count_map(x):\n",
    "    if x>=6:\n",
    "        return 5\n",
    "    return x\n",
    "train['qu_topic_count'] = train['qu_topic_count'].apply(qu_count_map)\n",
    "test['qu_topic_count'] = test['qu_topic_count'].apply(qu_count_map)"
   ]
  },
  {
   "cell_type": "code",
   "execution_count": 12,
   "metadata": {},
   "outputs": [],
   "source": [
    "# 4折统计\n",
    "def fold_fn(x):\n",
    "    if 3838<=x<=3846:\n",
    "        return 0\n",
    "    if 3847<=x<=3853:\n",
    "        return 1\n",
    "    if 3854<=x<=3860:\n",
    "        return 2\n",
    "    if 3861<=x<=3867:\n",
    "        return 3\n",
    "    \n",
    "train['fold'] = train['day'].apply(fold_fn)"
   ]
  },
  {
   "cell_type": "code",
   "execution_count": 13,
   "metadata": {},
   "outputs": [
    {
     "data": {
      "text/plain": [
       "Index(['qid', 'uid', 'dt', 'label', 'day', 'week', 'hour', 'gender', 'freq',\n",
       "       'uf_b1', 'uf_b2', 'uf_b3', 'uf_b4', 'uf_b5', 'uf_c1', 'uf_c2', 'uf_c3',\n",
       "       'uf_c4', 'uf_c5', 'score', 'q_day', 'q_hour', 'q_week', 'diff_iq_day',\n",
       "       'diff_iq_hour', 'intersection_ft_count', 'intersection_it_count',\n",
       "       'qu_topic_count_weight', 'qu_topic_count', 'fold'],\n",
       "      dtype='object')"
      ]
     },
     "execution_count": 13,
     "metadata": {},
     "output_type": "execute_result"
    }
   ],
   "source": [
    "train.columns"
   ]
  },
  {
   "cell_type": "markdown",
   "metadata": {},
   "source": [
    "# 当天基础统计信息"
   ]
  },
  {
   "cell_type": "code",
   "execution_count": 47,
   "metadata": {},
   "outputs": [],
   "source": [
    "# 训练集上当天统计\n",
    "def day_stat(train_df, f):\n",
    "    logging.info('day answer stat on: %s', f)\n",
    "    name_prefix = f + '_day_'\n",
    "    extract_feat = [name_prefix+'labelcnt', name_prefix+'labelsum', name_prefix+'labelrate', name_prefix+'labelneg']\n",
    "    t1 = train_df.groupby([f,'day'], as_index=False)['label'].agg({\n",
    "        name_prefix + 'labelcnt': 'count',\n",
    "        name_prefix + 'labelsum': 'sum',\n",
    "        name_prefix + 'labelrate': 'mean',\n",
    "    })\n",
    "    t1[name_prefix+'labelneg'] = t1[name_prefix+'labelcnt'] - t1[name_prefix+'labelsum']  # 负样本\n",
    "    res = pd.merge(train_df, t1, on=[f,'day'], how='left')\n",
    "    return res[extract_feat]"
   ]
  },
  {
   "cell_type": "code",
   "execution_count": null,
   "metadata": {},
   "outputs": [],
   "source": [
    "single_feat = ['uid', 'qid', 'freq', 'gender', 'score', 'week', 'hour', \n",
    "               'uf_b1', 'uf_b2','uf_b3', 'uf_b4', 'uf_b5', \n",
    "               'uf_c1', 'uf_c2', 'uf_c3', 'uf_c4', 'uf_c5',\n",
    "               'diff_iq_day', 'diff_iq_hour', \n",
    "               'intersection_ft_count', 'intersection_it_count']  # 少了 uid, qid\n",
    "for feat in single_feat:\n",
    "    t1 = day_stat(train, feat)\n",
    "    logging.info('stat on %s by day, extract finished. shape: %s', feat, t1.shape)\n",
    "    # 压缩数据\n",
    "    t = t1.dtypes\n",
    "    for x in t[t == 'int64'].index:\n",
    "        t1[x] = t1[x].astype('int32')\n",
    "\n",
    "    for x in t[t == 'float64'].index:\n",
    "        t1[x] = t1[x].astype('float32')\n",
    "    \n",
    "    pickle.dump(t1, open(f'./temp_label_feat/{feat}_day.pkl', 'wb'))"
   ]
  },
  {
   "cell_type": "markdown",
   "metadata": {},
   "source": [
    "# Kfold 一阶"
   ]
  },
  {
   "cell_type": "code",
   "execution_count": 48,
   "metadata": {},
   "outputs": [],
   "source": [
    "feat = 'gender'\n",
    "t1 = pickle.load(open(f'./temp_label_feat/{feat}_day.pkl', 'rb'))\n",
    "t1 = pd.concat([train, t1], axis=1)"
   ]
  },
  {
   "cell_type": "code",
   "execution_count": 49,
   "metadata": {},
   "outputs": [
    {
     "data": {
      "text/html": [
       "<div>\n",
       "<style scoped>\n",
       "    .dataframe tbody tr th:only-of-type {\n",
       "        vertical-align: middle;\n",
       "    }\n",
       "\n",
       "    .dataframe tbody tr th {\n",
       "        vertical-align: top;\n",
       "    }\n",
       "\n",
       "    .dataframe thead th {\n",
       "        text-align: right;\n",
       "    }\n",
       "</style>\n",
       "<table border=\"1\" class=\"dataframe\">\n",
       "  <thead>\n",
       "    <tr style=\"text-align: right;\">\n",
       "      <th></th>\n",
       "      <th>qid</th>\n",
       "      <th>uid</th>\n",
       "      <th>dt</th>\n",
       "      <th>label</th>\n",
       "      <th>day</th>\n",
       "      <th>week</th>\n",
       "      <th>hour</th>\n",
       "      <th>gender</th>\n",
       "      <th>freq</th>\n",
       "      <th>uf_b1</th>\n",
       "      <th>...</th>\n",
       "      <th>diff_iq_hour</th>\n",
       "      <th>intersection_ft_count</th>\n",
       "      <th>intersection_it_count</th>\n",
       "      <th>qu_topic_count_weight</th>\n",
       "      <th>qu_topic_count</th>\n",
       "      <th>fold</th>\n",
       "      <th>gender_day_labelcnt</th>\n",
       "      <th>gender_day_labelsum</th>\n",
       "      <th>gender_day_labelrate</th>\n",
       "      <th>gender_day_labelneg</th>\n",
       "    </tr>\n",
       "  </thead>\n",
       "  <tbody>\n",
       "    <tr>\n",
       "      <th>0</th>\n",
       "      <td>Q2166419046</td>\n",
       "      <td>M401693808</td>\n",
       "      <td>D3865-H22</td>\n",
       "      <td>0</td>\n",
       "      <td>3865</td>\n",
       "      <td>1</td>\n",
       "      <td>22</td>\n",
       "      <td>unknown</td>\n",
       "      <td>weekly</td>\n",
       "      <td>0</td>\n",
       "      <td>...</td>\n",
       "      <td>19</td>\n",
       "      <td>1</td>\n",
       "      <td>0</td>\n",
       "      <td>0.0</td>\n",
       "      <td>0.0</td>\n",
       "      <td>3</td>\n",
       "      <td>186746</td>\n",
       "      <td>29398</td>\n",
       "      <td>0.157422</td>\n",
       "      <td>157348</td>\n",
       "    </tr>\n",
       "    <tr>\n",
       "      <th>1</th>\n",
       "      <td>Q1550017551</td>\n",
       "      <td>M3392373099</td>\n",
       "      <td>D3844-H11</td>\n",
       "      <td>0</td>\n",
       "      <td>3844</td>\n",
       "      <td>1</td>\n",
       "      <td>11</td>\n",
       "      <td>unknown</td>\n",
       "      <td>monthly</td>\n",
       "      <td>1</td>\n",
       "      <td>...</td>\n",
       "      <td>40</td>\n",
       "      <td>0</td>\n",
       "      <td>0</td>\n",
       "      <td>0.0</td>\n",
       "      <td>0.0</td>\n",
       "      <td>0</td>\n",
       "      <td>115731</td>\n",
       "      <td>19632</td>\n",
       "      <td>0.169635</td>\n",
       "      <td>96099</td>\n",
       "    </tr>\n",
       "    <tr>\n",
       "      <th>2</th>\n",
       "      <td>Q604029601</td>\n",
       "      <td>M2317670257</td>\n",
       "      <td>D3862-H15</td>\n",
       "      <td>0</td>\n",
       "      <td>3862</td>\n",
       "      <td>5</td>\n",
       "      <td>15</td>\n",
       "      <td>unknown</td>\n",
       "      <td>weekly</td>\n",
       "      <td>1</td>\n",
       "      <td>...</td>\n",
       "      <td>4</td>\n",
       "      <td>0</td>\n",
       "      <td>0</td>\n",
       "      <td>0.0</td>\n",
       "      <td>0.0</td>\n",
       "      <td>3</td>\n",
       "      <td>176253</td>\n",
       "      <td>28267</td>\n",
       "      <td>0.160377</td>\n",
       "      <td>147986</td>\n",
       "    </tr>\n",
       "    <tr>\n",
       "      <th>3</th>\n",
       "      <td>Q2350061229</td>\n",
       "      <td>M1618461867</td>\n",
       "      <td>D3849-H11</td>\n",
       "      <td>0</td>\n",
       "      <td>3849</td>\n",
       "      <td>6</td>\n",
       "      <td>11</td>\n",
       "      <td>unknown</td>\n",
       "      <td>daily</td>\n",
       "      <td>1</td>\n",
       "      <td>...</td>\n",
       "      <td>7</td>\n",
       "      <td>0</td>\n",
       "      <td>1</td>\n",
       "      <td>0.0</td>\n",
       "      <td>0.0</td>\n",
       "      <td>1</td>\n",
       "      <td>113738</td>\n",
       "      <td>21990</td>\n",
       "      <td>0.193339</td>\n",
       "      <td>91748</td>\n",
       "    </tr>\n",
       "    <tr>\n",
       "      <th>4</th>\n",
       "      <td>Q2443223942</td>\n",
       "      <td>M3544409350</td>\n",
       "      <td>D3867-H4</td>\n",
       "      <td>0</td>\n",
       "      <td>3867</td>\n",
       "      <td>3</td>\n",
       "      <td>4</td>\n",
       "      <td>unknown</td>\n",
       "      <td>monthly</td>\n",
       "      <td>1</td>\n",
       "      <td>...</td>\n",
       "      <td>40</td>\n",
       "      <td>0</td>\n",
       "      <td>0</td>\n",
       "      <td>0.0</td>\n",
       "      <td>0.0</td>\n",
       "      <td>3</td>\n",
       "      <td>163102</td>\n",
       "      <td>26149</td>\n",
       "      <td>0.160323</td>\n",
       "      <td>136953</td>\n",
       "    </tr>\n",
       "    <tr>\n",
       "      <th>...</th>\n",
       "      <td>...</td>\n",
       "      <td>...</td>\n",
       "      <td>...</td>\n",
       "      <td>...</td>\n",
       "      <td>...</td>\n",
       "      <td>...</td>\n",
       "      <td>...</td>\n",
       "      <td>...</td>\n",
       "      <td>...</td>\n",
       "      <td>...</td>\n",
       "      <td>...</td>\n",
       "      <td>...</td>\n",
       "      <td>...</td>\n",
       "      <td>...</td>\n",
       "      <td>...</td>\n",
       "      <td>...</td>\n",
       "      <td>...</td>\n",
       "      <td>...</td>\n",
       "      <td>...</td>\n",
       "      <td>...</td>\n",
       "      <td>...</td>\n",
       "    </tr>\n",
       "    <tr>\n",
       "      <th>9489157</th>\n",
       "      <td>Q2372512458</td>\n",
       "      <td>M4285896253</td>\n",
       "      <td>D3849-H11</td>\n",
       "      <td>1</td>\n",
       "      <td>3849</td>\n",
       "      <td>6</td>\n",
       "      <td>11</td>\n",
       "      <td>male</td>\n",
       "      <td>daily</td>\n",
       "      <td>1</td>\n",
       "      <td>...</td>\n",
       "      <td>40</td>\n",
       "      <td>0</td>\n",
       "      <td>0</td>\n",
       "      <td>2.0</td>\n",
       "      <td>1.0</td>\n",
       "      <td>1</td>\n",
       "      <td>79039</td>\n",
       "      <td>15646</td>\n",
       "      <td>0.197953</td>\n",
       "      <td>63393</td>\n",
       "    </tr>\n",
       "    <tr>\n",
       "      <th>9489158</th>\n",
       "      <td>Q3516644442</td>\n",
       "      <td>M4285896253</td>\n",
       "      <td>D3862-H12</td>\n",
       "      <td>1</td>\n",
       "      <td>3862</td>\n",
       "      <td>5</td>\n",
       "      <td>12</td>\n",
       "      <td>male</td>\n",
       "      <td>daily</td>\n",
       "      <td>1</td>\n",
       "      <td>...</td>\n",
       "      <td>0</td>\n",
       "      <td>1</td>\n",
       "      <td>0</td>\n",
       "      <td>0.0</td>\n",
       "      <td>0.0</td>\n",
       "      <td>3</td>\n",
       "      <td>104151</td>\n",
       "      <td>16073</td>\n",
       "      <td>0.154324</td>\n",
       "      <td>88078</td>\n",
       "    </tr>\n",
       "    <tr>\n",
       "      <th>9489159</th>\n",
       "      <td>Q3847094730</td>\n",
       "      <td>M4285896253</td>\n",
       "      <td>D3852-H8</td>\n",
       "      <td>0</td>\n",
       "      <td>3852</td>\n",
       "      <td>2</td>\n",
       "      <td>8</td>\n",
       "      <td>male</td>\n",
       "      <td>daily</td>\n",
       "      <td>1</td>\n",
       "      <td>...</td>\n",
       "      <td>1</td>\n",
       "      <td>1</td>\n",
       "      <td>0</td>\n",
       "      <td>3.0</td>\n",
       "      <td>1.0</td>\n",
       "      <td>1</td>\n",
       "      <td>87353</td>\n",
       "      <td>15310</td>\n",
       "      <td>0.175266</td>\n",
       "      <td>72043</td>\n",
       "    </tr>\n",
       "    <tr>\n",
       "      <th>9489160</th>\n",
       "      <td>Q2358485548</td>\n",
       "      <td>M4285896253</td>\n",
       "      <td>D3864-H7</td>\n",
       "      <td>0</td>\n",
       "      <td>3864</td>\n",
       "      <td>0</td>\n",
       "      <td>7</td>\n",
       "      <td>male</td>\n",
       "      <td>daily</td>\n",
       "      <td>1</td>\n",
       "      <td>...</td>\n",
       "      <td>0</td>\n",
       "      <td>0</td>\n",
       "      <td>0</td>\n",
       "      <td>0.0</td>\n",
       "      <td>0.0</td>\n",
       "      <td>3</td>\n",
       "      <td>99346</td>\n",
       "      <td>15398</td>\n",
       "      <td>0.154994</td>\n",
       "      <td>83948</td>\n",
       "    </tr>\n",
       "    <tr>\n",
       "      <th>9489161</th>\n",
       "      <td>Q488828057</td>\n",
       "      <td>M4285896253</td>\n",
       "      <td>D3839-H7</td>\n",
       "      <td>0</td>\n",
       "      <td>3839</td>\n",
       "      <td>3</td>\n",
       "      <td>7</td>\n",
       "      <td>male</td>\n",
       "      <td>daily</td>\n",
       "      <td>1</td>\n",
       "      <td>...</td>\n",
       "      <td>26</td>\n",
       "      <td>0</td>\n",
       "      <td>0</td>\n",
       "      <td>0.0</td>\n",
       "      <td>0.0</td>\n",
       "      <td>0</td>\n",
       "      <td>76501</td>\n",
       "      <td>16482</td>\n",
       "      <td>0.215448</td>\n",
       "      <td>60019</td>\n",
       "    </tr>\n",
       "  </tbody>\n",
       "</table>\n",
       "<p>9489162 rows × 34 columns</p>\n",
       "</div>"
      ],
      "text/plain": [
       "                 qid          uid         dt  label   day  week  hour  \\\n",
       "0        Q2166419046   M401693808  D3865-H22      0  3865     1    22   \n",
       "1        Q1550017551  M3392373099  D3844-H11      0  3844     1    11   \n",
       "2         Q604029601  M2317670257  D3862-H15      0  3862     5    15   \n",
       "3        Q2350061229  M1618461867  D3849-H11      0  3849     6    11   \n",
       "4        Q2443223942  M3544409350   D3867-H4      0  3867     3     4   \n",
       "...              ...          ...        ...    ...   ...   ...   ...   \n",
       "9489157  Q2372512458  M4285896253  D3849-H11      1  3849     6    11   \n",
       "9489158  Q3516644442  M4285896253  D3862-H12      1  3862     5    12   \n",
       "9489159  Q3847094730  M4285896253   D3852-H8      0  3852     2     8   \n",
       "9489160  Q2358485548  M4285896253   D3864-H7      0  3864     0     7   \n",
       "9489161   Q488828057  M4285896253   D3839-H7      0  3839     3     7   \n",
       "\n",
       "          gender     freq  uf_b1  ...  diff_iq_hour  intersection_ft_count  \\\n",
       "0        unknown   weekly      0  ...            19                      1   \n",
       "1        unknown  monthly      1  ...            40                      0   \n",
       "2        unknown   weekly      1  ...             4                      0   \n",
       "3        unknown    daily      1  ...             7                      0   \n",
       "4        unknown  monthly      1  ...            40                      0   \n",
       "...          ...      ...    ...  ...           ...                    ...   \n",
       "9489157     male    daily      1  ...            40                      0   \n",
       "9489158     male    daily      1  ...             0                      1   \n",
       "9489159     male    daily      1  ...             1                      1   \n",
       "9489160     male    daily      1  ...             0                      0   \n",
       "9489161     male    daily      1  ...            26                      0   \n",
       "\n",
       "         intersection_it_count  qu_topic_count_weight qu_topic_count fold  \\\n",
       "0                            0                    0.0            0.0    3   \n",
       "1                            0                    0.0            0.0    0   \n",
       "2                            0                    0.0            0.0    3   \n",
       "3                            1                    0.0            0.0    1   \n",
       "4                            0                    0.0            0.0    3   \n",
       "...                        ...                    ...            ...  ...   \n",
       "9489157                      0                    2.0            1.0    1   \n",
       "9489158                      0                    0.0            0.0    3   \n",
       "9489159                      0                    3.0            1.0    1   \n",
       "9489160                      0                    0.0            0.0    3   \n",
       "9489161                      0                    0.0            0.0    0   \n",
       "\n",
       "        gender_day_labelcnt gender_day_labelsum gender_day_labelrate  \\\n",
       "0                    186746               29398             0.157422   \n",
       "1                    115731               19632             0.169635   \n",
       "2                    176253               28267             0.160377   \n",
       "3                    113738               21990             0.193339   \n",
       "4                    163102               26149             0.160323   \n",
       "...                     ...                 ...                  ...   \n",
       "9489157               79039               15646             0.197953   \n",
       "9489158              104151               16073             0.154324   \n",
       "9489159               87353               15310             0.175266   \n",
       "9489160               99346               15398             0.154994   \n",
       "9489161               76501               16482             0.215448   \n",
       "\n",
       "         gender_day_labelneg  \n",
       "0                     157348  \n",
       "1                      96099  \n",
       "2                     147986  \n",
       "3                      91748  \n",
       "4                     136953  \n",
       "...                      ...  \n",
       "9489157                63393  \n",
       "9489158                88078  \n",
       "9489159                72043  \n",
       "9489160                83948  \n",
       "9489161                60019  \n",
       "\n",
       "[9489162 rows x 34 columns]"
      ]
     },
     "execution_count": 49,
     "metadata": {},
     "output_type": "execute_result"
    }
   ],
   "source": [
    "t1"
   ]
  },
  {
   "cell_type": "markdown",
   "metadata": {},
   "source": [
    "# Kfold 二阶交叉"
   ]
  },
  {
   "cell_type": "code",
   "execution_count": 16,
   "metadata": {},
   "outputs": [],
   "source": [
    "def kfold_train_label_stat(train_df, test_df, base_feat, other_feat):\n",
    "    t1 = train_df.copy()\n",
    "    t2 = test_df.copy()\n",
    "    extract_feat = []\n",
    "    for of in other_feat:\n",
    "        logging.info('at %s', of)\n",
    "        for bf in base_feat:\n",
    "            colname1 = of + '_' + bf + '_kfold_mean'\n",
    "            colname2 = of + '_' + bf + '_kfold_median'\n",
    "            extract_feat += [colname1, colname2]\n",
    "            \n",
    "            # train\n",
    "            for fold_ in range(4):\n",
    "                log_df = train_df[train_df['fold']!=fold_]\n",
    "                val_df = train_df[train_df['fold']==fold_]\n",
    "                # mean\n",
    "                order_label = log_df.groupby(of)[bf].mean()\n",
    "                t1.loc[t1['fold']==fold_, colname1] = val_df[of].map(order_label)\n",
    "                # median\n",
    "                order_label = log_df.groupby(of)[bf].median()\n",
    "                t1.loc[t1['fold']==fold_, colname2] = val_df[of].map(order_label)\n",
    "                \n",
    "            # test\n",
    "            order_label = train_df.groupby(of)[bf].mean()\n",
    "            t2[colname1] = test_df[of].map(order_label)\n",
    "            order_label = train_df.groupby(of)[bf].median()\n",
    "            t2[colname2] = test_df[of].map(order_label)\n",
    "            \n",
    "    return t1[extract_feat], t2[extract_feat]"
   ]
  },
  {
   "cell_type": "markdown",
   "metadata": {},
   "source": [
    "## uid 交叉"
   ]
  },
  {
   "cell_type": "code",
   "execution_count": 15,
   "metadata": {},
   "outputs": [],
   "source": [
    "t1 = pickle.load(open('./temp_label_feat/uid_day.pkl', 'rb'))\n",
    "train = pd.concat([train, t1], axis=1)"
   ]
  },
  {
   "cell_type": "code",
   "execution_count": 20,
   "metadata": {
    "scrolled": true
   },
   "outputs": [
    {
     "name": "stderr",
     "output_type": "stream",
     "text": [
      "[2019-12-12 09:23:04,629] INFO in <ipython-input-16-96d675d44b46>: at week\n",
      "[2019-12-12 09:25:12,779] INFO in <ipython-input-16-96d675d44b46>: at hour\n",
      "[2019-12-12 09:26:44,464] INFO in <ipython-input-16-96d675d44b46>: at diff_iq_day\n",
      "[2019-12-12 09:27:56,639] INFO in <ipython-input-16-96d675d44b46>: at diff_iq_hour\n",
      "[2019-12-12 09:30:15,586] INFO in <ipython-input-16-96d675d44b46>: at intersection_ft_count\n",
      "[2019-12-12 09:33:00,103] INFO in <ipython-input-16-96d675d44b46>: at intersection_it_count\n",
      "[2019-12-12 09:35:49,799] INFO in <ipython-input-16-96d675d44b46>: at qu_topic_count\n",
      "[2019-12-12 09:38:56,780] INFO in <ipython-input-16-96d675d44b46>: at qu_topic_count_weight\n"
     ]
    }
   ],
   "source": [
    "base = ['uid_day_labelcnt', 'uid_day_labelsum', 'uid_day_labelrate', 'uid_day_labelneg']\n",
    "other = ['week', 'hour', 'diff_iq_day', 'diff_iq_hour', 'intersection_ft_count', 'intersection_it_count',\n",
    "        'qu_topic_count', 'qu_topic_count_weight']\n",
    "tt1, tt2 = kfold_train_label_stat(train, test, base, other)"
   ]
  },
  {
   "cell_type": "code",
   "execution_count": 37,
   "metadata": {
    "collapsed": true
   },
   "outputs": [
    {
     "name": "stdout",
     "output_type": "stream",
     "text": [
      "week_uid_day_labelcnt_kfold_median\n",
      "week_uid_day_labelsum_kfold_median\n",
      "week_uid_day_labelrate_kfold_median\n",
      "week_uid_day_labelneg_kfold_median\n",
      "hour_uid_day_labelsum_kfold_median\n",
      "hour_uid_day_labelrate_kfold_median\n",
      "diff_iq_day_uid_day_labelsum_kfold_median\n",
      "diff_iq_day_uid_day_labelrate_kfold_median\n",
      "diff_iq_day_uid_day_labelneg_kfold_median\n",
      "diff_iq_hour_uid_day_labelsum_kfold_median\n",
      "diff_iq_hour_uid_day_labelrate_kfold_median\n",
      "diff_iq_hour_uid_day_labelneg_kfold_median\n",
      "intersection_ft_count_uid_day_labelsum_kfold_median\n",
      "intersection_ft_count_uid_day_labelrate_kfold_median\n",
      "intersection_ft_count_uid_day_labelneg_kfold_median\n",
      "intersection_it_count_uid_day_labelcnt_kfold_median\n",
      "intersection_it_count_uid_day_labelsum_kfold_median\n",
      "intersection_it_count_uid_day_labelrate_kfold_median\n",
      "intersection_it_count_uid_day_labelneg_kfold_median\n",
      "qu_topic_count_weight_uid_day_labelneg_kfold_median\n"
     ]
    }
   ],
   "source": [
    "# 删掉所有取值都一样的列\n",
    "for i in tt1.columns:\n",
    "    if len(tt1[i].value_counts())==1:\n",
    "        print(i)\n",
    "        del tt1[i], tt2[i]"
   ]
  },
  {
   "cell_type": "code",
   "execution_count": 38,
   "metadata": {
    "scrolled": true
   },
   "outputs": [],
   "source": [
    "# 压缩数据\n",
    "t = tt1.dtypes\n",
    "for x in t[t == 'int64'].index:\n",
    "    tt1[x] = tt1[x].astype('int32')\n",
    "\n",
    "for x in t[t == 'float64'].index:\n",
    "    tt1[x] = tt1[x].astype('float32')\n",
    "    \n",
    "# 压缩数据\n",
    "t = tt2.dtypes\n",
    "for x in t[t == 'int64'].index:\n",
    "    tt2[x] = tt2[x].astype('int32')\n",
    "\n",
    "for x in t[t == 'float64'].index:\n",
    "    tt2[x] = tt2[x].astype('float32')"
   ]
  },
  {
   "cell_type": "code",
   "execution_count": 42,
   "metadata": {},
   "outputs": [],
   "source": [
    "pickle.dump(tt1, open(f'{feature_path}/train_kfold_uid_2order_label_feature.pkl', 'wb'))\n",
    "pickle.dump(tt2, open(f'{feature_path}/test_kfold_uid_2order_label_feature.pkl', 'wb'))"
   ]
  },
  {
   "cell_type": "markdown",
   "metadata": {},
   "source": [
    "## qid 交叉"
   ]
  },
  {
   "cell_type": "code",
   "execution_count": 14,
   "metadata": {},
   "outputs": [],
   "source": [
    "t1 = pickle.load(open('./temp_label_feat/qid_day.pkl', 'rb'))\n",
    "train = pd.concat([train, t1], axis=1)"
   ]
  },
  {
   "cell_type": "code",
   "execution_count": 17,
   "metadata": {
    "scrolled": true
   },
   "outputs": [
    {
     "name": "stderr",
     "output_type": "stream",
     "text": [
      "[2019-12-12 12:40:18,607] INFO in <ipython-input-16-8c7a1848765e>: at gender\n",
      "[2019-12-12 12:43:58,092] INFO in <ipython-input-16-8c7a1848765e>: at freq\n",
      "[2019-12-12 12:47:42,038] INFO in <ipython-input-16-8c7a1848765e>: at score\n",
      "[2019-12-12 12:50:29,617] INFO in <ipython-input-16-8c7a1848765e>: at uf_b1\n",
      "[2019-12-12 12:53:23,770] INFO in <ipython-input-16-8c7a1848765e>: at uf_b2\n",
      "[2019-12-12 12:56:19,026] INFO in <ipython-input-16-8c7a1848765e>: at uf_b3\n",
      "[2019-12-12 12:59:24,867] INFO in <ipython-input-16-8c7a1848765e>: at uf_b4\n",
      "[2019-12-12 13:02:40,236] INFO in <ipython-input-16-8c7a1848765e>: at uf_b5\n",
      "[2019-12-12 13:06:01,747] INFO in <ipython-input-16-8c7a1848765e>: at uf_c5\n",
      "[2019-12-12 13:10:23,723] INFO in <ipython-input-16-8c7a1848765e>: at diff_iq_day\n",
      "[2019-12-12 13:13:25,531] INFO in <ipython-input-16-8c7a1848765e>: at diff_iq_hour\n",
      "[2019-12-12 13:16:48,583] INFO in <ipython-input-16-8c7a1848765e>: at qu_topic_count\n",
      "[2019-12-12 13:20:46,114] INFO in <ipython-input-16-8c7a1848765e>: at qu_topic_count_weight\n"
     ]
    }
   ],
   "source": [
    "base = ['qid_day_labelcnt', 'qid_day_labelsum', 'qid_day_labelrate', 'qid_day_labelneg']\n",
    "other = ['gender', 'freq', 'score', \n",
    "         'uf_b1', 'uf_b2', 'uf_b3', 'uf_b4', 'uf_b5', 'uf_c5', \n",
    "         'diff_iq_day', 'diff_iq_hour', 'qu_topic_count', 'qu_topic_count_weight']\n",
    "tt1, tt2 = kfold_train_label_stat(train, test, base, other)"
   ]
  },
  {
   "cell_type": "code",
   "execution_count": 18,
   "metadata": {},
   "outputs": [
    {
     "name": "stdout",
     "output_type": "stream",
     "text": [
      "gender_qid_day_labelsum_kfold_median\n",
      "uf_b1_qid_day_labelcnt_kfold_median\n",
      "uf_b1_qid_day_labelsum_kfold_median\n",
      "uf_b2_qid_day_labelcnt_kfold_median\n",
      "uf_b2_qid_day_labelsum_kfold_median\n",
      "uf_b3_qid_day_labelcnt_kfold_median\n",
      "uf_b3_qid_day_labelsum_kfold_median\n",
      "uf_b4_qid_day_labelsum_kfold_median\n",
      "uf_b5_qid_day_labelcnt_kfold_median\n",
      "uf_b5_qid_day_labelsum_kfold_median\n",
      "uf_c5_qid_day_labelsum_kfold_median\n"
     ]
    },
    {
     "data": {
      "text/plain": [
       "0"
      ]
     },
     "execution_count": 18,
     "metadata": {},
     "output_type": "execute_result"
    }
   ],
   "source": [
    "# 删掉所有取值都一样的列\n",
    "for i in tt1.columns:\n",
    "    if len(tt1[i].value_counts())==1:\n",
    "        print(i)\n",
    "        del tt1[i], tt2[i]\n",
    "gc.collect()  "
   ]
  },
  {
   "cell_type": "code",
   "execution_count": 19,
   "metadata": {
    "scrolled": true
   },
   "outputs": [],
   "source": [
    "# 压缩数据\n",
    "t = tt1.dtypes\n",
    "for x in t[t == 'int64'].index:\n",
    "    tt1[x] = tt1[x].astype('int32')\n",
    "\n",
    "for x in t[t == 'float64'].index:\n",
    "    tt1[x] = tt1[x].astype('float32')\n",
    "    \n",
    "# 压缩数据\n",
    "t = tt2.dtypes\n",
    "for x in t[t == 'int64'].index:\n",
    "    tt2[x] = tt2[x].astype('int32')\n",
    "\n",
    "for x in t[t == 'float64'].index:\n",
    "    tt2[x] = tt2[x].astype('float32')"
   ]
  },
  {
   "cell_type": "code",
   "execution_count": 20,
   "metadata": {},
   "outputs": [],
   "source": [
    "pickle.dump(tt1, open(f'{feature_path}/train_kfold_qid_2order_label_feature.pkl', 'wb'))\n",
    "pickle.dump(tt2, open(f'{feature_path}/test_kfold_qid_2order_label_feature.pkl', 'wb'))"
   ]
  },
  {
   "cell_type": "markdown",
   "metadata": {},
   "source": [
    "## 二分类交叉"
   ]
  },
  {
   "cell_type": "code",
   "execution_count": null,
   "metadata": {},
   "outputs": [],
   "source": [
    "t1 = pickle.load(open('./temp_label_feat/uf_b2_day.pkl', 'rb'))\n",
    "train = pd.concat([train, t1], axis=1)"
   ]
  },
  {
   "cell_type": "code",
   "execution_count": null,
   "metadata": {},
   "outputs": [],
   "source": [
    "base = ['uf_b2_day_labelcnt', 'uf_b2_day_labelsum', 'uf_b2_day_labelrate', 'uf_b2_day_labelneg']\n",
    "other = ['uf_b1', 'uf_b3']\n",
    "tt1, tt2 = kfold_train_label_stat(train, test, base, other)"
   ]
  },
  {
   "cell_type": "code",
   "execution_count": 37,
   "metadata": {
    "collapsed": true
   },
   "outputs": [
    {
     "name": "stdout",
     "output_type": "stream",
     "text": [
      "week_uid_day_labelcnt_kfold_median\n",
      "week_uid_day_labelsum_kfold_median\n",
      "week_uid_day_labelrate_kfold_median\n",
      "week_uid_day_labelneg_kfold_median\n",
      "hour_uid_day_labelsum_kfold_median\n",
      "hour_uid_day_labelrate_kfold_median\n",
      "diff_iq_day_uid_day_labelsum_kfold_median\n",
      "diff_iq_day_uid_day_labelrate_kfold_median\n",
      "diff_iq_day_uid_day_labelneg_kfold_median\n",
      "diff_iq_hour_uid_day_labelsum_kfold_median\n",
      "diff_iq_hour_uid_day_labelrate_kfold_median\n",
      "diff_iq_hour_uid_day_labelneg_kfold_median\n",
      "intersection_ft_count_uid_day_labelsum_kfold_median\n",
      "intersection_ft_count_uid_day_labelrate_kfold_median\n",
      "intersection_ft_count_uid_day_labelneg_kfold_median\n",
      "intersection_it_count_uid_day_labelcnt_kfold_median\n",
      "intersection_it_count_uid_day_labelsum_kfold_median\n",
      "intersection_it_count_uid_day_labelrate_kfold_median\n",
      "intersection_it_count_uid_day_labelneg_kfold_median\n",
      "qu_topic_count_weight_uid_day_labelneg_kfold_median\n"
     ]
    }
   ],
   "source": [
    "# 删掉所有取值都一样的列\n",
    "for i in tt1.columns:\n",
    "    if len(tt1[i].value_counts())==1:\n",
    "        print(i)\n",
    "        del tt1[i], tt2[i]"
   ]
  },
  {
   "cell_type": "code",
   "execution_count": 38,
   "metadata": {
    "scrolled": true
   },
   "outputs": [],
   "source": [
    "# 压缩数据\n",
    "t = tt1.dtypes\n",
    "for x in t[t == 'int64'].index:\n",
    "    tt1[x] = tt1[x].astype('int32')\n",
    "\n",
    "for x in t[t == 'float64'].index:\n",
    "    tt1[x] = tt1[x].astype('float32')\n",
    "    \n",
    "# 压缩数据\n",
    "t = tt2.dtypes\n",
    "for x in t[t == 'int64'].index:\n",
    "    tt2[x] = tt2[x].astype('int32')\n",
    "\n",
    "for x in t[t == 'float64'].index:\n",
    "    tt2[x] = tt2[x].astype('float32')"
   ]
  },
  {
   "cell_type": "code",
   "execution_count": 42,
   "metadata": {},
   "outputs": [],
   "source": [
    "pickle.dump(tt1, open(f'{feature_path}/train_kfold_uid_2order_label_feature.pkl', 'wb'))\n",
    "pickle.dump(tt2, open(f'{feature_path}/test_kfold_uid_2order_label_feature.pkl', 'wb'))"
   ]
  }
 ],
 "metadata": {
  "kernelspec": {
   "display_name": "Python 3",
   "language": "python",
   "name": "python3"
  },
  "language_info": {
   "codemirror_mode": {
    "name": "ipython",
    "version": 3
   },
   "file_extension": ".py",
   "mimetype": "text/x-python",
   "name": "python",
   "nbconvert_exporter": "python",
   "pygments_lexer": "ipython3",
   "version": "3.6.9"
  }
 },
 "nbformat": 4,
 "nbformat_minor": 2
}
