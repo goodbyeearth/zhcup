{
 "cells": [
  {
   "cell_type": "code",
   "execution_count": 1,
   "metadata": {},
   "outputs": [],
   "source": [
    "import pandas as pd\n",
    "import numpy as np\n",
    "import os\n",
    "from sklearn.preprocessing import LabelEncoder\n",
    "from sklearn.model_selection import StratifiedKFold\n",
    "from lightgbm import LGBMClassifier\n",
    "import lightgbm as lgb\n",
    "import logging\n",
    "import pickle\n",
    "import gc"
   ]
  },
  {
   "cell_type": "code",
   "execution_count": 2,
   "metadata": {},
   "outputs": [],
   "source": [
    "log_fmt = \"[%(asctime)s] %(levelname)s in %(module)s: %(message)s\"\n",
    "logging.basicConfig(format=log_fmt, level=logging.INFO)"
   ]
  },
  {
   "cell_type": "code",
   "execution_count": 3,
   "metadata": {},
   "outputs": [],
   "source": [
    "base_path = './data'\n",
    "feature_path = './feature'"
   ]
  },
  {
   "cell_type": "code",
   "execution_count": 4,
   "metadata": {},
   "outputs": [
    {
     "name": "stderr",
     "output_type": "stream",
     "text": [
      "[2019-12-16 23:19:51,509] INFO in <ipython-input-4-30ad770d92d9>: test shape: (1141683, 372)\n"
     ]
    }
   ],
   "source": [
    "test = pickle.load(open(f'{feature_path}/test_373.pkl', 'rb'))\n",
    "logging.info('test shape: %s', test.shape)"
   ]
  },
  {
   "cell_type": "code",
   "execution_count": 5,
   "metadata": {},
   "outputs": [
    {
     "name": "stderr",
     "output_type": "stream",
     "text": [
      "[2019-12-16 23:21:18,451] INFO in <ipython-input-5-61ddb294d5c5>: test shape: (1141683, 387)\n"
     ]
    }
   ],
   "source": [
    "# member_basic_feature\n",
    "t1 = pd.read_pickle(f'{feature_path}/test_member_basic_feature.pkl')\n",
    "test = pd.concat([test, t1], axis=1)\n",
    "logging.info('test shape: %s', test.shape)"
   ]
  },
  {
   "cell_type": "code",
   "execution_count": null,
   "metadata": {},
   "outputs": [],
   "source": [
    "# 计数特征\n",
    "t1 = pd.read_csv(f'{feature_path}/count_features.txt', sep='\\t')[9489162:].reset_index(drop=True)\n",
    "logging.info('t1 shape: %s', t1.shape)\n",
    "\n",
    "test = pd.concat([test, t1], axis=1)\n",
    "logging.info('test shape: %s', test.shape)"
   ]
  },
  {
   "cell_type": "code",
   "execution_count": null,
   "metadata": {},
   "outputs": [],
   "source": [
    "drop_feat = ['label', 'uid', 'qid', 'dt']\n",
    "drop_feat += ['gender_count','qid_enc_day_diff_iq_day_mean','qid_enc_day_diff_iq_day_median','uid_enc_day_score_mean',\n",
    "              'uid_enc_day_score_median','uf_b1_day_diff_iq_hour_mean','uf_b2_day_diff_iq_hour_mean','uf_b3_day_diff_iq_hour_mean',\n",
    "              'qid_enc_day_hour_diff_iq_day_mean','qid_enc_day_hour_diff_iq_day_median','qid_enc_day_hour_diff_iq_hour_mean',\n",
    "              'qid_enc_day_hour_diff_iq_hour_median','uid_enc_day_hour_score_mean','uid_enc_day_hour_score_median',\n",
    "              'uid_enc_qid_enc_score_mean','uid_enc_qid_enc_score_median','uid_enc_wk_score_mean','uid_enc_wk_score_median',\n",
    "              'freq_wk_score_median','freq_wk_diff_iq_hour_mean','gender_wk_diff_iq_day_median','gender_wk_diff_iq_hour_mean',\n",
    "              'uf_b1_wk_diff_iq_day_median','uf_b1_wk_diff_iq_hour_mean','uf_b2_wk_score_median','uf_b2_wk_diff_iq_day_median',\n",
    "              'uf_b2_wk_diff_iq_hour_mean','uf_b3_wk_diff_iq_hour_mean','uf_b4_wk_score_median','uf_b4_wk_diff_iq_day_median',\n",
    "              'uf_b4_wk_diff_iq_hour_mean','uf_b5_wk_diff_iq_day_median','uf_b5_wk_diff_iq_hour_mean','uf_c5_wk_diff_iq_hour_mean']\n",
    "drop_feat += ['uf_b4_min','dayuf_b4_min','dayuf_b4_median','uf_c5_count','dayuf_b3_min','dayuf_b3_median',\n",
    "              'qid_wk_uf_b4_median','dayuf_b5_median','dayuf_b2_median','uf_b5_median','dayuf_b1_min',\n",
    "              'uf_b5_min','wk','uf_c5_min','dayuf_b2_min','dayuf_b5_min','qid_wk_uf_b5_median','uf_b3_median',\n",
    "              'qid_enc_day_score_mean','dayuf_c5_min','qid_enc_day_score_median','uf_b2_min','uf_b1_min',\n",
    "              'qid_wk_uf_b1_min','qid_wk_uf_c5_min','qid_wk_uf_b2_median','qid_wk_uf_b2_min',\n",
    "              'qid_wk_uf_b3_median','qid_wk_uf_b3_min','qid_wk_uf_b5_min','qid_wk_uf_b4_min']\n",
    "\n",
    "feature_with_day = [x for x in test.columns if x not in drop_feat]\n",
    "feature_cols = [x for x in test.columns if x not in drop_feat+['day']]\n",
    "print(len(feature_with_day))\n",
    "print(len(feature_cols))"
   ]
  },
  {
   "cell_type": "code",
   "execution_count": null,
   "metadata": {},
   "outputs": [],
   "source": [
    "sub = pd.read_csv('./result/2000_0.900947.txt', sep='\\t', header=None)"
   ]
  },
  {
   "cell_type": "code",
   "execution_count": null,
   "metadata": {},
   "outputs": [],
   "source": [
    "sub.mean()"
   ]
  },
  {
   "cell_type": "code",
   "execution_count": null,
   "metadata": {},
   "outputs": [],
   "source": []
  }
 ],
 "metadata": {
  "kernelspec": {
   "display_name": "Python 3",
   "language": "python",
   "name": "python3"
  },
  "language_info": {
   "codemirror_mode": {
    "name": "ipython",
    "version": 3
   },
   "file_extension": ".py",
   "mimetype": "text/x-python",
   "name": "python",
   "nbconvert_exporter": "python",
   "pygments_lexer": "ipython3",
   "version": "3.6.9"
  }
 },
 "nbformat": 4,
 "nbformat_minor": 2
}
