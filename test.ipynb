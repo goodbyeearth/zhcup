{
 "cells": [
  {
   "cell_type": "code",
   "execution_count": 15,
   "metadata": {},
   "outputs": [],
   "source": [
    "import pandas as pd"
   ]
  },
  {
   "cell_type": "code",
   "execution_count": 34,
   "metadata": {},
   "outputs": [],
   "source": [
    "import numpy as np"
   ]
  },
  {
   "cell_type": "code",
   "execution_count": 16,
   "metadata": {
    "scrolled": true
   },
   "outputs": [],
   "source": [
    "import pandas as pd\n",
    "import multiprocessing"
   ]
  },
  {
   "cell_type": "code",
   "execution_count": 11,
   "metadata": {},
   "outputs": [],
   "source": [
    "def fn(x, q):\n",
    "    q.put(x)"
   ]
  },
  {
   "cell_type": "code",
   "execution_count": 12,
   "metadata": {},
   "outputs": [],
   "source": [
    "pool = multiprocessing.Pool(processes=3)\n",
    "l = multiprocessing.Queue()\n",
    "for i in [100, 1000, 10000]:\n",
    "    pool.apply_async(fn, (i, l))\n",
    "pool.close()\n",
    "pool.join()"
   ]
  },
  {
   "cell_type": "code",
   "execution_count": 18,
   "metadata": {
    "collapsed": true
   },
   "outputs": [
    {
     "data": {
      "text/plain": [
       "Index(['day', 'hour', 'q_inv_kfold_mean', 'q_inv_kfold_sum', 'q_inv_kfold_std',\n",
       "       'q_inv_kfold_count', 'u_inv_kfold_mean', 'u_inv_kfold_sum',\n",
       "       'u_inv_kfold_std', 'u_inv_kfold_count',\n",
       "       ...\n",
       "       'q_reci_dis_mean', 'u_reci_dis_sum', 'u_reci_dis_max',\n",
       "       'u_reci_dis_mean', 'q_diff_qa_days_sum', 'q_diff_qa_days_max',\n",
       "       'q_diff_qa_days_mean', 'u_diff_qa_days_sum', 'u_diff_qa_days_max',\n",
       "       'u_diff_qa_days_mean'],\n",
       "      dtype='object', length=102)"
      ]
     },
     "execution_count": 18,
     "metadata": {},
     "output_type": "execute_result"
    }
   ],
   "source": [
    "# 加载 ans kfold feature\n",
    "t1 = pd.read_csv(f'./feature/train_kfold_feature.txt', sep='\\t')"
   ]
  },
  {
   "cell_type": "code",
   "execution_count": 44,
   "metadata": {},
   "outputs": [],
   "source": [
    "del t1"
   ]
  },
  {
   "cell_type": "code",
   "execution_count": 43,
   "metadata": {
    "scrolled": true
   },
   "outputs": [
    {
     "name": "stdout",
     "output_type": "stream",
     "text": [
      "['day', 'hour', 'q_inv_kfold_mean', 'q_inv_kfold_sum', 'q_inv_kfold_std', 'q_inv_kfold_count', 'u_inv_kfold_mean', 'u_inv_kfold_sum', 'u_inv_kfold_std', 'u_inv_kfold_count', 'q_ans_kfold_count', 'u_ans_kfold_count', 'q_is_good_sum', 'q_is_good_max', 'q_is_good_mean', 'u_is_good_sum', 'u_is_good_max', 'u_is_good_mean', 'q_is_rec_sum', 'q_is_rec_max', 'q_is_rec_mean', 'u_is_rec_sum', 'u_is_rec_max', 'u_is_rec_mean', 'q_is_dest_sum', 'q_is_dest_max', 'q_is_dest_mean', 'u_is_dest_sum', 'u_is_dest_max', 'u_is_dest_mean', 'q_has_img_sum', 'q_has_img_max', 'q_has_img_mean', 'u_has_img_sum', 'u_has_img_max', 'u_has_img_mean', 'q_has_video_sum', 'q_has_video_max', 'q_has_video_mean', 'u_has_video_sum', 'u_has_video_max', 'u_has_video_mean', 'q_word_count_sum', 'q_word_count_max', 'q_word_count_mean', 'u_word_count_sum', 'u_word_count_max', 'u_word_count_mean', 'q_reci_cheer_sum', 'q_reci_cheer_max', 'q_reci_cheer_mean', 'u_reci_cheer_sum', 'u_reci_cheer_max', 'u_reci_cheer_mean', 'q_reci_uncheer_sum', 'q_reci_uncheer_max', 'q_reci_uncheer_mean', 'u_reci_uncheer_sum', 'u_reci_uncheer_max', 'u_reci_uncheer_mean', 'q_reci_comment_sum', 'q_reci_comment_max', 'q_reci_comment_mean', 'u_reci_comment_sum', 'u_reci_comment_max', 'u_reci_comment_mean', 'q_reci_mark_sum', 'q_reci_mark_max', 'q_reci_mark_mean', 'u_reci_mark_sum', 'u_reci_mark_max', 'u_reci_mark_mean', 'q_reci_tks_sum', 'q_reci_tks_max', 'q_reci_tks_mean', 'u_reci_tks_sum', 'u_reci_tks_max', 'u_reci_tks_mean', 'q_reci_xxx_sum', 'q_reci_xxx_max', 'q_reci_xxx_mean', 'u_reci_xxx_sum', 'u_reci_xxx_max', 'u_reci_xxx_mean', 'q_reci_no_help_sum', 'q_reci_no_help_max', 'q_reci_no_help_mean', 'u_reci_no_help_sum', 'u_reci_no_help_max', 'u_reci_no_help_mean', 'q_reci_dis_sum', 'q_reci_dis_max', 'q_reci_dis_mean', 'u_reci_dis_sum', 'u_reci_dis_max', 'u_reci_dis_mean', 'q_diff_qa_days_sum', 'q_diff_qa_days_max', 'q_diff_qa_days_mean', 'u_diff_qa_days_sum', 'u_diff_qa_days_max', 'u_diff_qa_days_mean']\n"
     ]
    }
   ],
   "source": [
    "print(list(t1.columns))"
   ]
  },
  {
   "cell_type": "code",
   "execution_count": 19,
   "metadata": {
    "collapsed": true
   },
   "outputs": [
    {
     "data": {
      "text/plain": [
       "['day',\n",
       " 'hour',\n",
       " 'q_inv_kfold_mean',\n",
       " 'q_inv_kfold_sum',\n",
       " 'q_inv_kfold_std',\n",
       " 'q_inv_kfold_count',\n",
       " 'u_inv_kfold_mean',\n",
       " 'u_inv_kfold_sum',\n",
       " 'u_inv_kfold_std',\n",
       " 'u_inv_kfold_count',\n",
       " 'q_ans_kfold_count',\n",
       " 'u_ans_kfold_count',\n",
       " 'q_is_good_sum',\n",
       " 'q_is_good_max',\n",
       " 'q_is_good_mean',\n",
       " 'u_is_good_sum',\n",
       " 'u_is_good_max',\n",
       " 'u_is_good_mean',\n",
       " 'q_is_rec_sum',\n",
       " 'q_is_rec_max',\n",
       " 'q_is_rec_mean',\n",
       " 'u_is_rec_sum',\n",
       " 'u_is_rec_max',\n",
       " 'u_is_rec_mean',\n",
       " 'q_is_dest_sum',\n",
       " 'q_is_dest_max',\n",
       " 'q_is_dest_mean',\n",
       " 'u_is_dest_sum',\n",
       " 'u_is_dest_max',\n",
       " 'u_is_dest_mean',\n",
       " 'q_has_img_sum',\n",
       " 'q_has_img_max',\n",
       " 'q_has_img_mean',\n",
       " 'u_has_img_sum',\n",
       " 'u_has_img_max',\n",
       " 'u_has_img_mean',\n",
       " 'q_has_video_sum',\n",
       " 'q_has_video_max',\n",
       " 'q_has_video_mean',\n",
       " 'u_has_video_sum',\n",
       " 'u_has_video_max',\n",
       " 'u_has_video_mean',\n",
       " 'q_word_count_sum',\n",
       " 'q_word_count_max',\n",
       " 'q_word_count_mean',\n",
       " 'u_word_count_sum',\n",
       " 'u_word_count_max',\n",
       " 'u_word_count_mean',\n",
       " 'q_reci_cheer_sum',\n",
       " 'q_reci_cheer_max',\n",
       " 'q_reci_cheer_mean',\n",
       " 'u_reci_cheer_sum',\n",
       " 'u_reci_cheer_max',\n",
       " 'u_reci_cheer_mean',\n",
       " 'q_reci_uncheer_sum',\n",
       " 'q_reci_uncheer_max',\n",
       " 'q_reci_uncheer_mean',\n",
       " 'u_reci_uncheer_sum',\n",
       " 'u_reci_uncheer_max',\n",
       " 'u_reci_uncheer_mean',\n",
       " 'q_reci_comment_sum',\n",
       " 'q_reci_comment_max',\n",
       " 'q_reci_comment_mean',\n",
       " 'u_reci_comment_sum',\n",
       " 'u_reci_comment_max',\n",
       " 'u_reci_comment_mean',\n",
       " 'q_reci_mark_sum',\n",
       " 'q_reci_mark_max',\n",
       " 'q_reci_mark_mean',\n",
       " 'u_reci_mark_sum',\n",
       " 'u_reci_mark_max',\n",
       " 'u_reci_mark_mean',\n",
       " 'q_reci_tks_sum',\n",
       " 'q_reci_tks_max',\n",
       " 'q_reci_tks_mean',\n",
       " 'u_reci_tks_sum',\n",
       " 'u_reci_tks_max',\n",
       " 'u_reci_tks_mean',\n",
       " 'q_reci_xxx_sum',\n",
       " 'q_reci_xxx_max',\n",
       " 'q_reci_xxx_mean',\n",
       " 'u_reci_xxx_sum',\n",
       " 'u_reci_xxx_max',\n",
       " 'u_reci_xxx_mean',\n",
       " 'q_reci_no_help_sum',\n",
       " 'q_reci_no_help_max',\n",
       " 'q_reci_no_help_mean',\n",
       " 'u_reci_no_help_sum',\n",
       " 'u_reci_no_help_max',\n",
       " 'u_reci_no_help_mean',\n",
       " 'q_reci_dis_sum',\n",
       " 'q_reci_dis_max',\n",
       " 'q_reci_dis_mean',\n",
       " 'u_reci_dis_sum',\n",
       " 'u_reci_dis_max',\n",
       " 'u_reci_dis_mean',\n",
       " 'q_diff_qa_days_sum',\n",
       " 'q_diff_qa_days_max',\n",
       " 'q_diff_qa_days_mean',\n",
       " 'u_diff_qa_days_sum',\n",
       " 'u_diff_qa_days_max',\n",
       " 'u_diff_qa_days_mean']"
      ]
     },
     "execution_count": 19,
     "metadata": {},
     "output_type": "execute_result"
    }
   ],
   "source": [
    "list(t1.columns)"
   ]
  },
  {
   "cell_type": "code",
   "execution_count": 20,
   "metadata": {},
   "outputs": [],
   "source": [
    "a = pd.DataFrame({'a':[1,2,1,1], 'b':[0,4,0,6]})"
   ]
  },
  {
   "cell_type": "code",
   "execution_count": 22,
   "metadata": {},
   "outputs": [],
   "source": [
    "a['c'] = [10,20,30,40]"
   ]
  },
  {
   "cell_type": "code",
   "execution_count": 23,
   "metadata": {},
   "outputs": [
    {
     "data": {
      "text/html": [
       "<div>\n",
       "<style scoped>\n",
       "    .dataframe tbody tr th:only-of-type {\n",
       "        vertical-align: middle;\n",
       "    }\n",
       "\n",
       "    .dataframe tbody tr th {\n",
       "        vertical-align: top;\n",
       "    }\n",
       "\n",
       "    .dataframe thead th {\n",
       "        text-align: right;\n",
       "    }\n",
       "</style>\n",
       "<table border=\"1\" class=\"dataframe\">\n",
       "  <thead>\n",
       "    <tr style=\"text-align: right;\">\n",
       "      <th></th>\n",
       "      <th>a</th>\n",
       "      <th>b</th>\n",
       "      <th>c</th>\n",
       "    </tr>\n",
       "  </thead>\n",
       "  <tbody>\n",
       "    <tr>\n",
       "      <th>0</th>\n",
       "      <td>1</td>\n",
       "      <td>0</td>\n",
       "      <td>10</td>\n",
       "    </tr>\n",
       "    <tr>\n",
       "      <th>1</th>\n",
       "      <td>2</td>\n",
       "      <td>4</td>\n",
       "      <td>20</td>\n",
       "    </tr>\n",
       "    <tr>\n",
       "      <th>2</th>\n",
       "      <td>1</td>\n",
       "      <td>0</td>\n",
       "      <td>30</td>\n",
       "    </tr>\n",
       "    <tr>\n",
       "      <th>3</th>\n",
       "      <td>1</td>\n",
       "      <td>6</td>\n",
       "      <td>40</td>\n",
       "    </tr>\n",
       "  </tbody>\n",
       "</table>\n",
       "</div>"
      ],
      "text/plain": [
       "   a  b   c\n",
       "0  1  0  10\n",
       "1  2  4  20\n",
       "2  1  0  30\n",
       "3  1  6  40"
      ]
     },
     "execution_count": 23,
     "metadata": {},
     "output_type": "execute_result"
    }
   ],
   "source": [
    "a"
   ]
  },
  {
   "cell_type": "code",
   "execution_count": 24,
   "metadata": {},
   "outputs": [
    {
     "data": {
      "text/plain": [
       "a  b\n",
       "1  0    20\n",
       "   6    40\n",
       "2  4    20\n",
       "Name: c, dtype: int64"
      ]
     },
     "execution_count": 24,
     "metadata": {},
     "output_type": "execute_result"
    }
   ],
   "source": [
    "a.groupby(['a', 'b'])['c'].mean()"
   ]
  },
  {
   "cell_type": "code",
   "execution_count": 25,
   "metadata": {
    "scrolled": true
   },
   "outputs": [
    {
     "data": {
      "text/html": [
       "<div>\n",
       "<style scoped>\n",
       "    .dataframe tbody tr th:only-of-type {\n",
       "        vertical-align: middle;\n",
       "    }\n",
       "\n",
       "    .dataframe tbody tr th {\n",
       "        vertical-align: top;\n",
       "    }\n",
       "\n",
       "    .dataframe thead th {\n",
       "        text-align: right;\n",
       "    }\n",
       "</style>\n",
       "<table border=\"1\" class=\"dataframe\">\n",
       "  <thead>\n",
       "    <tr style=\"text-align: right;\">\n",
       "      <th></th>\n",
       "      <th>a</th>\n",
       "      <th>b</th>\n",
       "      <th>c</th>\n",
       "    </tr>\n",
       "  </thead>\n",
       "  <tbody>\n",
       "    <tr>\n",
       "      <th>0</th>\n",
       "      <td>1</td>\n",
       "      <td>0</td>\n",
       "      <td>20</td>\n",
       "    </tr>\n",
       "    <tr>\n",
       "      <th>1</th>\n",
       "      <td>1</td>\n",
       "      <td>6</td>\n",
       "      <td>40</td>\n",
       "    </tr>\n",
       "    <tr>\n",
       "      <th>2</th>\n",
       "      <td>2</td>\n",
       "      <td>4</td>\n",
       "      <td>20</td>\n",
       "    </tr>\n",
       "  </tbody>\n",
       "</table>\n",
       "</div>"
      ],
      "text/plain": [
       "   a  b   c\n",
       "0  1  0  20\n",
       "1  1  6  40\n",
       "2  2  4  20"
      ]
     },
     "execution_count": 25,
     "metadata": {},
     "output_type": "execute_result"
    }
   ],
   "source": [
    "b = a.groupby(['a', 'b'])['c'].mean()\n",
    "b.reset_index()"
   ]
  },
  {
   "cell_type": "code",
   "execution_count": 27,
   "metadata": {},
   "outputs": [
    {
     "name": "stdout",
     "output_type": "stream",
     "text": [
      "1\n",
      "3\n",
      "5\n",
      "7\n",
      "9\n"
     ]
    }
   ],
   "source": [
    "for i in range(1, 10, 2):\n",
    "    print(i)"
   ]
  },
  {
   "cell_type": "code",
   "execution_count": 39,
   "metadata": {
    "scrolled": true
   },
   "outputs": [
    {
     "data": {
      "text/html": [
       "<div>\n",
       "<style scoped>\n",
       "    .dataframe tbody tr th:only-of-type {\n",
       "        vertical-align: middle;\n",
       "    }\n",
       "\n",
       "    .dataframe tbody tr th {\n",
       "        vertical-align: top;\n",
       "    }\n",
       "\n",
       "    .dataframe thead th {\n",
       "        text-align: right;\n",
       "    }\n",
       "</style>\n",
       "<table border=\"1\" class=\"dataframe\">\n",
       "  <thead>\n",
       "    <tr style=\"text-align: right;\">\n",
       "      <th></th>\n",
       "      <th>a</th>\n",
       "      <th>b</th>\n",
       "      <th>c</th>\n",
       "      <th>d</th>\n",
       "    </tr>\n",
       "  </thead>\n",
       "  <tbody>\n",
       "    <tr>\n",
       "      <th>0</th>\n",
       "      <td>1</td>\n",
       "      <td>0</td>\n",
       "      <td>10</td>\n",
       "      <td>100.0</td>\n",
       "    </tr>\n",
       "    <tr>\n",
       "      <th>1</th>\n",
       "      <td>2</td>\n",
       "      <td>4</td>\n",
       "      <td>20</td>\n",
       "      <td>NaN</td>\n",
       "    </tr>\n",
       "    <tr>\n",
       "      <th>2</th>\n",
       "      <td>1</td>\n",
       "      <td>0</td>\n",
       "      <td>30</td>\n",
       "      <td>200.0</td>\n",
       "    </tr>\n",
       "    <tr>\n",
       "      <th>3</th>\n",
       "      <td>1</td>\n",
       "      <td>6</td>\n",
       "      <td>40</td>\n",
       "      <td>420.0</td>\n",
       "    </tr>\n",
       "  </tbody>\n",
       "</table>\n",
       "</div>"
      ],
      "text/plain": [
       "   a  b   c      d\n",
       "0  1  0  10  100.0\n",
       "1  2  4  20    NaN\n",
       "2  1  0  30  200.0\n",
       "3  1  6  40  420.0"
      ]
     },
     "execution_count": 39,
     "metadata": {},
     "output_type": "execute_result"
    }
   ],
   "source": [
    "a['d'] = [100, np.nan,200,420]\n",
    "a"
   ]
  },
  {
   "cell_type": "code",
   "execution_count": 40,
   "metadata": {
    "scrolled": true
   },
   "outputs": [
    {
     "data": {
      "text/plain": [
       "0     76.666667\n",
       "1      0.000000\n",
       "2    153.333333\n",
       "3    322.000000\n",
       "Name: d, dtype: float64"
      ]
     },
     "execution_count": 40,
     "metadata": {},
     "output_type": "execute_result"
    }
   ],
   "source": [
    "((a['d'].fillna(0))*23/30)"
   ]
  },
  {
   "cell_type": "code",
   "execution_count": 41,
   "metadata": {},
   "outputs": [
    {
     "data": {
      "text/plain": [
       "0     76\n",
       "1      0\n",
       "2    153\n",
       "3    322\n",
       "Name: d, dtype: int32"
      ]
     },
     "execution_count": 41,
     "metadata": {},
     "output_type": "execute_result"
    }
   ],
   "source": [
    "((a['d'].fillna(0))*23/30).astype('int32')"
   ]
  }
 ],
 "metadata": {
  "kernelspec": {
   "display_name": "Python 3",
   "language": "python",
   "name": "python3"
  },
  "language_info": {
   "codemirror_mode": {
    "name": "ipython",
    "version": 3
   },
   "file_extension": ".py",
   "mimetype": "text/x-python",
   "name": "python",
   "nbconvert_exporter": "python",
   "pygments_lexer": "ipython3",
   "version": "3.6.9"
  }
 },
 "nbformat": 4,
 "nbformat_minor": 2
}
