{
 "cells": [
  {
   "cell_type": "code",
<<<<<<< HEAD
   "execution_count": 17,
=======
   "execution_count": null,
>>>>>>> eed18d6427642b71f888050a6749e6fe3bf1e86a
   "metadata": {},
   "outputs": [],
   "source": [
    "import pandas as pd\n",
    "import numpy as np\n",
    "import os\n",
    "from sklearn.preprocessing import LabelEncoder\n",
    "from sklearn.model_selection import StratifiedKFold\n",
    "from lightgbm import LGBMClassifier\n",
    "import lightgbm as lgb\n",
    "import logging\n",
    "import pickle\n",
    "import gc\n",
    "import matplotlib.pylab as plt"
   ]
  },
  {
   "cell_type": "code",
<<<<<<< HEAD
   "execution_count": 20,
=======
   "execution_count": null,
>>>>>>> eed18d6427642b71f888050a6749e6fe3bf1e86a
   "metadata": {},
   "outputs": [],
   "source": [
    "base_path = './data'\n",
    "feature_path = './feature'\n",
    "newfeature_path = './feature_test_2_ori'"
   ]
  },
  {
   "cell_type": "code",
   "execution_count": null,
   "metadata": {},
   "outputs": [],
   "source": [
<<<<<<< HEAD
    "d = pd.read_csv(f'{newfeature_path}/test2_kfold_feature.txt', sep='\\t', nrows=5)"
=======
    "model_lgb = pickle.load(open('./model/lgb_label_2000_round.pkl', 'rb'))"
>>>>>>> eed18d6427642b71f888050a6749e6fe3bf1e86a
   ]
  },
  {
   "cell_type": "code",
<<<<<<< HEAD
   "execution_count": 25,
   "metadata": {},
   "outputs": [
    {
     "data": {
      "text/html": [
       "<div>\n",
       "<style scoped>\n",
       "    .dataframe tbody tr th:only-of-type {\n",
       "        vertical-align: middle;\n",
       "    }\n",
       "\n",
       "    .dataframe tbody tr th {\n",
       "        vertical-align: top;\n",
       "    }\n",
       "\n",
       "    .dataframe thead th {\n",
       "        text-align: right;\n",
       "    }\n",
       "</style>\n",
       "<table border=\"1\" class=\"dataframe\">\n",
       "  <thead>\n",
       "    <tr style=\"text-align: right;\">\n",
       "      <th></th>\n",
       "      <th>qid</th>\n",
       "      <th>uid</th>\n",
       "      <th>day</th>\n",
       "      <th>hour</th>\n",
       "      <th>q_inv_kfold_mean</th>\n",
       "      <th>q_inv_kfold_sum</th>\n",
       "      <th>q_inv_kfold_std</th>\n",
       "      <th>q_inv_kfold_count</th>\n",
       "      <th>u_inv_kfold_mean</th>\n",
       "      <th>u_inv_kfold_sum</th>\n",
       "      <th>u_inv_kfold_std</th>\n",
       "      <th>u_inv_kfold_count</th>\n",
       "      <th>q_ans_kfold_count</th>\n",
       "      <th>u_ans_kfold_count</th>\n",
       "      <th>q_diff_qa_days_sum</th>\n",
       "      <th>q_diff_qa_days_max</th>\n",
       "      <th>q_diff_qa_days_mean</th>\n",
       "      <th>u_diff_qa_days_sum</th>\n",
       "      <th>u_diff_qa_days_max</th>\n",
       "      <th>u_diff_qa_days_mean</th>\n",
       "    </tr>\n",
       "  </thead>\n",
       "  <tbody>\n",
       "    <tr>\n",
       "      <th>0</th>\n",
       "      <td>Q3273481096</td>\n",
       "      <td>M1267743167</td>\n",
       "      <td>3871</td>\n",
       "      <td>6</td>\n",
       "      <td>NaN</td>\n",
       "      <td>NaN</td>\n",
       "      <td>NaN</td>\n",
       "      <td>NaN</td>\n",
       "      <td>0.333333</td>\n",
       "      <td>19.0</td>\n",
       "      <td>0.475595</td>\n",
       "      <td>57.0</td>\n",
       "      <td>NaN</td>\n",
       "      <td>49.0</td>\n",
       "      <td>NaN</td>\n",
       "      <td>NaN</td>\n",
       "      <td>NaN</td>\n",
       "      <td>6931.0</td>\n",
       "      <td>2566.0</td>\n",
       "      <td>141.44897</td>\n",
       "    </tr>\n",
       "    <tr>\n",
       "      <th>1</th>\n",
       "      <td>Q4224184733</td>\n",
       "      <td>M2715893043</td>\n",
       "      <td>3871</td>\n",
       "      <td>23</td>\n",
       "      <td>NaN</td>\n",
       "      <td>NaN</td>\n",
       "      <td>NaN</td>\n",
       "      <td>NaN</td>\n",
       "      <td>0.090909</td>\n",
       "      <td>2.0</td>\n",
       "      <td>0.294245</td>\n",
       "      <td>22.0</td>\n",
       "      <td>NaN</td>\n",
       "      <td>4.0</td>\n",
       "      <td>NaN</td>\n",
       "      <td>NaN</td>\n",
       "      <td>NaN</td>\n",
       "      <td>1862.0</td>\n",
       "      <td>1686.0</td>\n",
       "      <td>465.50000</td>\n",
       "    </tr>\n",
       "    <tr>\n",
       "      <th>2</th>\n",
       "      <td>Q1832714071</td>\n",
       "      <td>M2244950365</td>\n",
       "      <td>3874</td>\n",
       "      <td>15</td>\n",
       "      <td>NaN</td>\n",
       "      <td>NaN</td>\n",
       "      <td>NaN</td>\n",
       "      <td>NaN</td>\n",
       "      <td>0.125000</td>\n",
       "      <td>1.0</td>\n",
       "      <td>0.353553</td>\n",
       "      <td>8.0</td>\n",
       "      <td>NaN</td>\n",
       "      <td>2.0</td>\n",
       "      <td>NaN</td>\n",
       "      <td>NaN</td>\n",
       "      <td>NaN</td>\n",
       "      <td>30.0</td>\n",
       "      <td>16.0</td>\n",
       "      <td>15.00000</td>\n",
       "    </tr>\n",
       "    <tr>\n",
       "      <th>3</th>\n",
       "      <td>Q3594972263</td>\n",
       "      <td>M2321407666</td>\n",
       "      <td>3872</td>\n",
       "      <td>10</td>\n",
       "      <td>0.62963</td>\n",
       "      <td>17.0</td>\n",
       "      <td>0.492103</td>\n",
       "      <td>27.0</td>\n",
       "      <td>1.000000</td>\n",
       "      <td>1.0</td>\n",
       "      <td>NaN</td>\n",
       "      <td>1.0</td>\n",
       "      <td>15.0</td>\n",
       "      <td>1.0</td>\n",
       "      <td>64.0</td>\n",
       "      <td>11.0</td>\n",
       "      <td>4.266667</td>\n",
       "      <td>21.0</td>\n",
       "      <td>21.0</td>\n",
       "      <td>21.00000</td>\n",
       "    </tr>\n",
       "    <tr>\n",
       "      <th>4</th>\n",
       "      <td>Q403456350</td>\n",
       "      <td>M1091084170</td>\n",
       "      <td>3870</td>\n",
       "      <td>9</td>\n",
       "      <td>NaN</td>\n",
       "      <td>NaN</td>\n",
       "      <td>NaN</td>\n",
       "      <td>NaN</td>\n",
       "      <td>0.142857</td>\n",
       "      <td>1.0</td>\n",
       "      <td>0.377964</td>\n",
       "      <td>7.0</td>\n",
       "      <td>NaN</td>\n",
       "      <td>2.0</td>\n",
       "      <td>NaN</td>\n",
       "      <td>NaN</td>\n",
       "      <td>NaN</td>\n",
       "      <td>102.0</td>\n",
       "      <td>102.0</td>\n",
       "      <td>51.00000</td>\n",
       "    </tr>\n",
       "  </tbody>\n",
       "</table>\n",
       "</div>"
      ],
      "text/plain": [
       "           qid          uid   day  hour  q_inv_kfold_mean  q_inv_kfold_sum  \\\n",
       "0  Q3273481096  M1267743167  3871     6               NaN              NaN   \n",
       "1  Q4224184733  M2715893043  3871    23               NaN              NaN   \n",
       "2  Q1832714071  M2244950365  3874    15               NaN              NaN   \n",
       "3  Q3594972263  M2321407666  3872    10           0.62963             17.0   \n",
       "4   Q403456350  M1091084170  3870     9               NaN              NaN   \n",
       "\n",
       "   q_inv_kfold_std  q_inv_kfold_count  u_inv_kfold_mean  u_inv_kfold_sum  \\\n",
       "0              NaN                NaN          0.333333             19.0   \n",
       "1              NaN                NaN          0.090909              2.0   \n",
       "2              NaN                NaN          0.125000              1.0   \n",
       "3         0.492103               27.0          1.000000              1.0   \n",
       "4              NaN                NaN          0.142857              1.0   \n",
       "\n",
       "   u_inv_kfold_std  u_inv_kfold_count  q_ans_kfold_count  u_ans_kfold_count  \\\n",
       "0         0.475595               57.0                NaN               49.0   \n",
       "1         0.294245               22.0                NaN                4.0   \n",
       "2         0.353553                8.0                NaN                2.0   \n",
       "3              NaN                1.0               15.0                1.0   \n",
       "4         0.377964                7.0                NaN                2.0   \n",
       "\n",
       "   q_diff_qa_days_sum  q_diff_qa_days_max  q_diff_qa_days_mean  \\\n",
       "0                 NaN                 NaN                  NaN   \n",
       "1                 NaN                 NaN                  NaN   \n",
       "2                 NaN                 NaN                  NaN   \n",
       "3                64.0                11.0             4.266667   \n",
       "4                 NaN                 NaN                  NaN   \n",
       "\n",
       "   u_diff_qa_days_sum  u_diff_qa_days_max  u_diff_qa_days_mean  \n",
       "0              6931.0              2566.0            141.44897  \n",
       "1              1862.0              1686.0            465.50000  \n",
       "2                30.0                16.0             15.00000  \n",
       "3                21.0                21.0             21.00000  \n",
       "4               102.0               102.0             51.00000  "
      ]
     },
     "execution_count": 25,
     "metadata": {},
     "output_type": "execute_result"
    }
   ],
   "source": [
    "d"
=======
   "execution_count": null,
   "metadata": {
    "scrolled": true
   },
   "outputs": [],
   "source": [
    "plt.figure()"
   ]
  },
  {
   "cell_type": "code",
   "execution_count": null,
   "metadata": {},
   "outputs": [],
   "source": [
    "imp = model_lgb.feature_importance(importance_type='split')"
   ]
  },
  {
   "cell_type": "code",
   "execution_count": null,
   "metadata": {},
   "outputs": [],
   "source": [
    "feature_name = model_lgb.feature_name()"
   ]
  },
  {
   "cell_type": "code",
   "execution_count": null,
   "metadata": {},
   "outputs": [],
   "source": [
    "feature_importance = pd.DataFrame({'feature_name':feature_name,'importance':imp} )\n"
   ]
  },
  {
   "cell_type": "code",
   "execution_count": null,
   "metadata": {},
   "outputs": [],
   "source": [
    "fi_sorted = feature_importance.sort_values('importance')"
   ]
  },
  {
   "cell_type": "code",
   "execution_count": null,
   "metadata": {},
   "outputs": [],
   "source": [
    "fi_sorted['rate'] = fi_sorted['importance']/ fi_sorted['importance'].sum()"
   ]
  },
  {
   "cell_type": "code",
   "execution_count": null,
   "metadata": {},
   "outputs": [],
   "source": [
    "fi_sorted[:100]"
   ]
  },
  {
   "cell_type": "code",
   "execution_count": null,
   "metadata": {},
   "outputs": [],
   "source": [
    "pickle.dump(fi_sorted[:100]['feature_name'], open('./last100col.pkl', 'wb'))"
   ]
  },
  {
   "cell_type": "code",
   "execution_count": null,
   "metadata": {
    "scrolled": true
   },
   "outputs": [],
   "source": [
    "pickle.dump(fi_sorted, open('./fi/600plus_col.pkl', 'wb'))"
   ]
  },
  {
   "cell_type": "code",
   "execution_count": null,
   "metadata": {},
   "outputs": [],
   "source": [
    "list(fi_sorted['feature_name'])"
   ]
  },
  {
   "cell_type": "code",
   "execution_count": null,
   "metadata": {},
   "outputs": [],
   "source": [
    "for x in feature_name:\n",
    "    if 'inter' in x:\n",
    "        print(x)"
   ]
  },
  {
   "cell_type": "code",
   "execution_count": null,
   "metadata": {},
   "outputs": [],
   "source": [
    "d = pd.read_csv('/tmp/zhcup/feature_test_2_ori/test2_kfold_feature.txt', sep='\\t', nrows=5)"
   ]
  },
  {
   "cell_type": "code",
   "execution_count": null,
   "metadata": {},
   "outputs": [],
   "source": [
    "d.shape"
   ]
  },
  {
   "cell_type": "code",
   "execution_count": null,
   "metadata": {},
   "outputs": [],
   "source": [
    "d_train = pd.read_csv('/tmp/zhcup/feature/test_kfold_feature.txt', sep='\\t')"
   ]
  },
  {
   "cell_type": "code",
   "execution_count": null,
   "metadata": {
    "scrolled": true
   },
   "outputs": [],
   "source": [
    "d.shape"
>>>>>>> eed18d6427642b71f888050a6749e6fe3bf1e86a
   ]
  },
  {
   "cell_type": "code",
   "execution_count": null,
   "metadata": {},
   "outputs": [],
<<<<<<< HEAD
=======
   "source": [
    "12/700"
   ]
  },
  {
   "cell_type": "code",
   "execution_count": null,
   "metadata": {},
   "outputs": [],
>>>>>>> eed18d6427642b71f888050a6749e6fe3bf1e86a
   "source": []
  }
 ],
 "metadata": {
  "kernelspec": {
   "display_name": "Python 3",
   "language": "python",
   "name": "python3"
  },
  "language_info": {
   "codemirror_mode": {
    "name": "ipython",
    "version": 3
   },
   "file_extension": ".py",
   "mimetype": "text/x-python",
   "name": "python",
   "nbconvert_exporter": "python",
   "pygments_lexer": "ipython3",
   "version": "3.6.4"
  }
 },
 "nbformat": 4,
 "nbformat_minor": 2
}
