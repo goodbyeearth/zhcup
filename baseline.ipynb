{
 "cells": [
  {
   "cell_type": "code",
   "execution_count": 7,
   "metadata": {},
   "outputs": [],
   "source": [
    "import pandas as pd\n",
    "\n",
    "# 用户信息\n",
    "user_info = pd.read_csv('data/member_info_0926.txt', header=None, sep='\\t')\n",
    "user_info.columns = ['uid','gender','visit_freq','u_2_cat_a','u_2_cat_b','u_2_cat_c','u_2_cat_d',\n",
    "                     'u_2_cat_e','u_multi_cat_a','u_multi_cat_b','u_multi_cat_c','u_multi_cat_d',\n",
    "                     'u_multi_cat_e','u_salt_value','u_focus_topic','u_like_topic']\n",
    "\n",
    "# 问题信息\n",
    "question_info = pd.read_csv('data/question_info_0926.txt', header=None, sep='\\t')\n",
    "question_info.columns = ['qid','q_start_date','q_head_sw','q_head_w','q_desc_sw','q_desc_w',\n",
    "                         'q_topic']\n",
    "\n",
    "# 训练数据\n",
    "train = pd.read_csv('data/invite_info_0926.txt', header=None, sep='\\t')\n",
    "train.columns = ['qid', 'uid', 'i_start_date','answer']\n",
    "train = pd.merge(train, user_info, how='left', on='uid')\n",
    "train = pd.merge(train, question_info, how='left', on='qid')\n",
    "\n",
    "# 测试数据\n",
    "test = pd.read_csv('data/invite_info_evaluate_0926.txt', header=None, sep='\\t')\n",
    "test.columns = ['qid', 'uid', 'i_start_date']\n",
    "test = pd.merge(test, user_info, how='left', on='uid')\n",
    "test = pd.merge(test, question_info, how='left', on='qid')"
   ]
  },
  {
   "cell_type": "code",
   "execution_count": 90,
   "metadata": {},
   "outputs": [],
   "source": [
    "# 数据合并\n",
    "data = pd.concat([train, test], axis=0, sort=True)"
   ]
  },
  {
   "cell_type": "code",
   "execution_count": 91,
   "metadata": {},
   "outputs": [],
   "source": [
    "# 用于保存提交结果\n",
    "result_append = data[['qid', 'uid', 'i_start_date']][train.shape[0]:]"
   ]
  },
  {
   "cell_type": "code",
   "execution_count": 92,
   "metadata": {},
   "outputs": [],
   "source": [
    "# 时间解析\n",
    "data['i_start_day'] = data['i_start_date'].apply(lambda x: int(x.split('-')[0].split('D')[1]))\n",
    "data['i_start_hour'] = data['i_start_date'].apply(lambda x: int(x.split('-')[1].split('H')[1]))\n",
    "\n",
    "data['q_start_day'] = data['q_start_date'].apply(lambda x: int(x.split('-')[0].split('D')[1]))\n",
    "data['q_start_hour'] = data['q_start_date'].apply(lambda x: int(x.split('-')[1].split('H')[1]))"
   ]
  },
  {
   "cell_type": "code",
   "execution_count": 93,
   "metadata": {},
   "outputs": [],
   "source": [
    "# 答案\n",
    "answer_info = pd.read_csv('data/answer_info_0926.txt', header=None, sep='\\t')\n",
    "answer_info.columns = ['aid', 'qid', 'uid', 'a_start_date', 'a_sw', 'a_w', 'good', 'recommend', \n",
    "                       'round_table', 'picture', 'video', 'num_word', 'num_agree', 'num_cancel',\n",
    "                       'num_commend', 'num_collect', 'num_thank', 'num_report', 'num_helpless', 'num_disagree']\n",
    "\n",
    "answer_info = answer_info.drop(['aid', 'a_start_date', 'a_sw', 'a_w', 'good', 'recommend', 'round_table', \n",
    "                                'picture', 'video'], axis=1)"
   ]
  },
  {
   "cell_type": "code",
   "execution_count": 97,
   "metadata": {
    "scrolled": true
   },
   "outputs": [
    {
     "data": {
      "text/plain": [
       "['num_word',\n",
       " 'num_agree',\n",
       " 'num_cancel',\n",
       " 'num_commend',\n",
       " 'num_collect',\n",
       " 'num_thank',\n",
       " 'num_report',\n",
       " 'num_helpless',\n",
       " 'num_disagree']"
      ]
     },
     "execution_count": 97,
     "metadata": {},
     "output_type": "execute_result"
    }
   ],
   "source": [
    "int_columns"
   ]
  },
  {
   "cell_type": "code",
   "execution_count": 100,
   "metadata": {
    "scrolled": false
   },
   "outputs": [
    {
     "data": {
      "text/plain": [
       "Index(['answer', 'gender', 'i_start_date', 'q_desc_sw', 'q_desc_w',\n",
       "       'q_head_sw', 'q_head_w', 'q_start_date', 'q_topic', 'qid', 'u_2_cat_a',\n",
       "       'u_2_cat_b', 'u_2_cat_c', 'u_2_cat_d', 'u_2_cat_e', 'u_focus_topic',\n",
       "       'u_like_topic', 'u_multi_cat_a', 'u_multi_cat_b', 'u_multi_cat_c',\n",
       "       'u_multi_cat_d', 'u_multi_cat_e', 'u_salt_value', 'uid', 'visit_freq',\n",
       "       'i_start_day', 'i_start_hour', 'q_start_day', 'q_start_hour'],\n",
       "      dtype='object')"
      ]
     },
     "execution_count": 100,
     "metadata": {},
     "output_type": "execute_result"
    }
   ],
   "source": [
    "data.columns"
   ]
  },
  {
   "cell_type": "code",
   "execution_count": 101,
   "metadata": {},
   "outputs": [],
   "source": [
    "# 该条邀请的回答详情，包括各种点赞数等所有数量（若无回答，补0）\n",
    "data = data.merge(answer_info, on=['qid', 'uid'], how='left').fillna(0)\n",
    "\n",
    "# 数据类型转换\n",
    "int_columns = ['num_word', 'num_agree', 'num_cancel','num_commend', 'num_collect', \n",
    "               'num_thank', 'num_report', 'num_helpless', 'num_disagree']\n",
    "data[int_columns] = data[int_columns].astype('int64')"
   ]
  },
  {
   "cell_type": "code",
   "execution_count": 102,
   "metadata": {},
   "outputs": [],
   "source": [
    "# 用户历史回答统计特征\n",
    "user_stat_raw = pd.read_csv('feature/user_stat_raw.txt', sep='\\t')"
   ]
  },
  {
   "cell_type": "code",
   "execution_count": 103,
   "metadata": {},
   "outputs": [],
   "source": [
    "data = data.merge(user_stat_raw, on='uid', how='left')\n",
    "\n",
    "# 数据类型转换\n",
    "u_stat_columns = ['u_total_word_raw', 'u_total_agree_raw', 'u_total_cancel_raw','u_total_commend_raw', \n",
    "                'u_total_collect_raw', 'u_total_thank_raw','u_total_report_raw', 'u_total_helpless_raw', \n",
    "                'u_total_disagree_raw', 'u_total_invite_raw']\n",
    "data[u_stat_columns] = data[u_stat_columns].fillna(0).astype('int64')"
   ]
  },
  {
   "cell_type": "code",
   "execution_count": 104,
   "metadata": {},
   "outputs": [],
   "source": [
    "# 防标签泄露\n",
    "for c in u_stat_columns[:-1]:\n",
    "    temp = c.split('_')\n",
    "    c_1 = 'num_' + temp[2]    # 当前 num\n",
    "    c_2 = '_'.join([temp[0], temp[1], temp[2]])   # 处理后的新列名\n",
    "    \n",
    "    # total raw 减去当前的 num\n",
    "    data[c_2] = data[c] - data[c_1]\n"
   ]
  },
  {
   "cell_type": "code",
   "execution_count": 105,
   "metadata": {},
   "outputs": [
    {
     "data": {
      "text/plain": [
       "Index(['answer', 'gender', 'i_start_date', 'q_desc_sw', 'q_desc_w',\n",
       "       'q_head_sw', 'q_head_w', 'q_start_date', 'q_topic', 'qid', 'u_2_cat_a',\n",
       "       'u_2_cat_b', 'u_2_cat_c', 'u_2_cat_d', 'u_2_cat_e', 'u_focus_topic',\n",
       "       'u_like_topic', 'u_multi_cat_a', 'u_multi_cat_b', 'u_multi_cat_c',\n",
       "       'u_multi_cat_d', 'u_multi_cat_e', 'u_salt_value', 'uid', 'visit_freq',\n",
       "       'i_start_day', 'i_start_hour', 'q_start_day', 'q_start_hour',\n",
       "       'num_word', 'num_agree', 'num_cancel', 'num_commend', 'num_collect',\n",
       "       'num_thank', 'num_report', 'num_helpless', 'num_disagree',\n",
       "       'u_total_word_raw', 'u_total_agree_raw', 'u_total_cancel_raw',\n",
       "       'u_total_commend_raw', 'u_total_collect_raw', 'u_total_thank_raw',\n",
       "       'u_total_report_raw', 'u_total_helpless_raw', 'u_total_disagree_raw',\n",
       "       'u_total_invite_raw', 'u_total_word', 'u_total_agree', 'u_total_cancel',\n",
       "       'u_total_commend', 'u_total_collect', 'u_total_thank', 'u_total_report',\n",
       "       'u_total_helpless', 'u_total_disagree'],\n",
       "      dtype='object')"
      ]
     },
     "execution_count": 105,
     "metadata": {},
     "output_type": "execute_result"
    }
   ],
   "source": [
    "data.columns"
   ]
  },
  {
   "cell_type": "code",
   "execution_count": 106,
   "metadata": {},
   "outputs": [],
   "source": [
    "data['answer'] = data['answer'].astype('int64')"
   ]
  },
  {
   "cell_type": "code",
   "execution_count": 107,
   "metadata": {},
   "outputs": [],
   "source": [
    "# 类别特征 encoding\n",
    "from sklearn.preprocessing import LabelEncoder\n",
    "class_feat = ['uid','qid','gender', 'visit_freq','u_multi_cat_a','u_multi_cat_b',\n",
    "              'u_multi_cat_c','u_multi_cat_d','u_multi_cat_e']\n",
    "encoder = LabelEncoder()\n",
    "for feat in class_feat:\n",
    "    encoder.fit(data[feat])\n",
    "    data[feat] = encoder.transform(data[feat])"
   ]
  },
  {
   "cell_type": "code",
   "execution_count": 108,
   "metadata": {},
   "outputs": [],
   "source": [
    "# 计数特征\n",
    "for feat in ['uid','qid','gender', 'visit_freq','u_2_cat_a', 'u_2_cat_b', 'u_2_cat_c', 'u_2_cat_d',\n",
    "       'u_2_cat_e','u_multi_cat_a','u_multi_cat_b','u_multi_cat_c','u_multi_cat_d','u_multi_cat_e']:\n",
    "    col_name = '{}_count'.format(feat)\n",
    "    data[col_name] = data[feat].map(data[feat].value_counts().astype(int))\n",
    "    data.loc[data[col_name] < 2, feat] = -1\n",
    "    data[feat] += 1\n",
    "    data[col_name] = data[feat].map(data[feat].value_counts().astype(int))\n",
    "    data[col_name] = (data[col_name] - data[col_name].min()) / (data[col_name].max() - data[col_name].min())"
   ]
  },
  {
   "cell_type": "code",
   "execution_count": 125,
   "metadata": {},
   "outputs": [
    {
     "name": "stdout",
     "output_type": "stream",
     "text": [
      "used columns: Index(['answer', 'gender', 'qid', 'u_2_cat_a', 'u_2_cat_b', 'u_2_cat_c',\n",
      "       'u_2_cat_d', 'u_2_cat_e', 'u_multi_cat_a', 'u_multi_cat_b',\n",
      "       'u_multi_cat_c', 'u_multi_cat_d', 'u_multi_cat_e', 'u_salt_value',\n",
      "       'uid', 'visit_freq', 'i_start_day', 'i_start_hour', 'q_start_day',\n",
      "       'q_start_hour', 'u_total_invite_raw', 'u_total_word', 'u_total_agree',\n",
      "       'u_total_cancel', 'u_total_commend', 'u_total_collect', 'u_total_thank',\n",
      "       'u_total_report', 'u_total_helpless', 'u_total_disagree', 'uid_count',\n",
      "       'qid_count', 'gender_count', 'visit_freq_count', 'u_2_cat_a_count',\n",
      "       'u_2_cat_b_count', 'u_2_cat_c_count', 'u_2_cat_d_count',\n",
      "       'u_2_cat_e_count', 'u_multi_cat_a_count', 'u_multi_cat_b_count',\n",
      "       'u_multi_cat_c_count', 'u_multi_cat_d_count', 'u_multi_cat_e_count'],\n",
      "      dtype='object')\n"
     ]
    }
   ],
   "source": [
    "# 去掉特征\n",
    "drop_feat = ['q_head_sw','q_head_w','q_desc_sw','q_desc_w','q_topic', \n",
    "             'u_focus_topic','u_like_topic','q_start_date','i_start_date', \n",
    "#              '性别_count', \n",
    "#              '用户二分类特征a_count', '用户二分类特征b_count', '用户二分类特征c_count', \n",
    "#              '用户二分类特征d_count','用户二分类特征e_count'\n",
    "            ]\n",
    "\n",
    "# 去掉 answer_info\n",
    "drop_feat += ['num_word', 'num_agree', 'num_cancel','num_commend', 'num_collect', \n",
    "              'num_thank', 'num_report', 'num_helpless', 'num_disagree']\n",
    "\n",
    "# 去掉历史回答的 raw 统计特征\n",
    "drop_feat += ['u_total_word_raw', 'u_total_agree_raw', 'u_total_cancel_raw','u_total_commend_raw', \n",
    "              'u_total_collect_raw', 'u_total_thank_raw','u_total_report_raw', 'u_total_helpless_raw', \n",
    "              'u_total_disagree_raw']\n",
    "\n",
    "# 去掉历史回答处理后的统计特征\n",
    "# drop_feat += ['u_total_word', 'u_total_agree', 'u_total_cancel','u_total_commend', \n",
    "#               'u_total_collect', 'u_total_thank','u_total_report', 'u_total_helpless', \n",
    "#               'u_total_disagree']\n",
    "\n",
    "used_data = data.drop(drop_feat, axis=1)\n",
    "print('used columns:', used_data.columns)"
   ]
  },
  {
   "cell_type": "code",
   "execution_count": 126,
   "metadata": {},
   "outputs": [],
   "source": [
    "# 划分数据集\n",
    "from lightgbm import LGBMClassifier\n",
    "import lightgbm as lgb\n",
    "\n",
    "is_eval = True   # 若为 true，取训练集中的后面的 days_eval 天作为验证集\n",
    "days_eval = 1\n",
    "\n",
    "if not is_eval:\n",
    "    y_train = used_data[:train.shape[0]]['answer']\n",
    "    X_train = used_data[:train.shape[0]].drop(['answer'], axis=1)\n",
    "    \n",
    "    train_set_lgb = lgb.Dataset(X_train, y_train, free_raw_data=False, categorical_feature=class_feat)\n",
    "    eval_set_lgb = None\n",
    "#     eval_set = [(X_train, y_train)] \n",
    "else:\n",
    "    train_idx = used_data[:train.shape[0]]['i_start_day'] < (3867 - days_eval + 1)\n",
    "    y_train = used_data[:train.shape[0]][train_idx]['answer']\n",
    "    X_train = used_data[:train.shape[0]][train_idx].drop(['answer'], axis=1)\n",
    "    \n",
    "    y_eval = used_data[:train.shape[0]][~train_idx]['answer']\n",
    "    X_eval = used_data[:train.shape[0]][~train_idx].drop(['answer'], axis=1)\n",
    "    \n",
    "    train_set_lgb = lgb.Dataset(X_train, y_train, free_raw_data=False, categorical_feature=class_feat)\n",
    "    eval_set_lgb = lgb.Dataset(X_eval, y_eval, free_raw_data=False, categorical_feature=class_feat, reference=train_set_lgb)\n",
    "#     eval_set = [(X_eval, y_eval)]\n",
    "X_test = used_data[train.shape[0]:].drop(['answer'], axis=1)"
   ]
  },
  {
   "cell_type": "code",
   "execution_count": 127,
   "metadata": {},
   "outputs": [
    {
     "name": "stdout",
     "output_type": "stream",
     "text": [
      "(9141216,)\n",
      "(9141216, 43)\n",
      "(347946,)\n",
      "(347946, 43)\n"
     ]
    }
   ],
   "source": [
    "print(y_train.shape)\n",
    "print(X_train.shape)\n",
    "\n",
    "print(y_eval.shape)\n",
    "print(X_eval.shape)"
   ]
  },
  {
   "cell_type": "code",
   "execution_count": 128,
   "metadata": {},
   "outputs": [],
   "source": [
    "# model_lgb = LGBMClassifier(boosting_type='gbdt', num_leaves=64, learning_rate=0.01, n_estimators=200,\n",
    "#                            max_bin=425, subsample_for_bin=50000, objective='binary', min_split_gain=0,\n",
    "#                            min_child_weight=5, min_child_samples=10, subsample=0.8, subsample_freq=1,\n",
    "#                            colsample_bytree=1, reg_alpha=3, reg_lambda=5, seed=1000, n_jobs=-1, silent=True)\n",
    "params = {\n",
    "    'boosting_type': 'gbdt', \n",
    "    'num_leaves': 64, \n",
    "    'learning_rate': 0.01, \n",
    "#     'n_estimators': 200,\n",
    "    'max_bin': 425, \n",
    "    'subsample_for_bin': 50000, \n",
    "    'objective': 'binary', \n",
    "    'min_split_gain': 0,\n",
    "    'min_child_weight': 5,\n",
    "    'min_child_samples': 10, \n",
    "    'subsample': 0.8, \n",
    "    'subsample_freq': 1,\n",
    "    'colsample_bytree': 1, \n",
    "    'reg_alpha': 3, \n",
    "    'reg_lambda': 5, \n",
    "    'seed': 1000, \n",
    "    'n_jobs': -1, \n",
    "    'silent': True,\n",
    "    'metric': ['auc', 'binary_logloss'],\n",
    "}"
   ]
  },
  {
   "cell_type": "code",
   "execution_count": null,
   "metadata": {
    "scrolled": true
   },
   "outputs": [
    {
     "name": "stdout",
     "output_type": "stream",
     "text": [
      "[1]\tvalid_0's auc: 0.733875\tvalid_0's binary_logloss: 0.43253\n",
      "Training until validation scores don't improve for 10 rounds\n",
      "[2]\tvalid_0's auc: 0.73543\tvalid_0's binary_logloss: 0.431179\n",
      "[3]\tvalid_0's auc: 0.737146\tvalid_0's binary_logloss: 0.42982\n",
      "[4]\tvalid_0's auc: 0.736788\tvalid_0's binary_logloss: 0.42856\n",
      "[5]\tvalid_0's auc: 0.736694\tvalid_0's binary_logloss: 0.427282\n",
      "[6]\tvalid_0's auc: 0.736799\tvalid_0's binary_logloss: 0.426101\n",
      "[7]\tvalid_0's auc: 0.737909\tvalid_0's binary_logloss: 0.424904\n",
      "[8]\tvalid_0's auc: 0.73869\tvalid_0's binary_logloss: 0.42376\n",
      "[9]\tvalid_0's auc: 0.738584\tvalid_0's binary_logloss: 0.422665\n",
      "[10]\tvalid_0's auc: 0.744592\tvalid_0's binary_logloss: 0.421585\n",
      "[11]\tvalid_0's auc: 0.74485\tvalid_0's binary_logloss: 0.420518\n",
      "[12]\tvalid_0's auc: 0.745606\tvalid_0's binary_logloss: 0.419487\n",
      "[13]\tvalid_0's auc: 0.74705\tvalid_0's binary_logloss: 0.418438\n",
      "[14]\tvalid_0's auc: 0.747439\tvalid_0's binary_logloss: 0.417428\n",
      "[15]\tvalid_0's auc: 0.747714\tvalid_0's binary_logloss: 0.416486\n",
      "[16]\tvalid_0's auc: 0.748798\tvalid_0's binary_logloss: 0.415559\n",
      "[17]\tvalid_0's auc: 0.749671\tvalid_0's binary_logloss: 0.41466\n",
      "[18]\tvalid_0's auc: 0.74972\tvalid_0's binary_logloss: 0.41377\n",
      "[19]\tvalid_0's auc: 0.750027\tvalid_0's binary_logloss: 0.412881\n",
      "[20]\tvalid_0's auc: 0.750791\tvalid_0's binary_logloss: 0.412033\n",
      "[21]\tvalid_0's auc: 0.751146\tvalid_0's binary_logloss: 0.411206\n",
      "[22]\tvalid_0's auc: 0.751411\tvalid_0's binary_logloss: 0.410411\n",
      "[23]\tvalid_0's auc: 0.751487\tvalid_0's binary_logloss: 0.409591\n",
      "[24]\tvalid_0's auc: 0.751623\tvalid_0's binary_logloss: 0.408809\n",
      "[25]\tvalid_0's auc: 0.751941\tvalid_0's binary_logloss: 0.408025\n",
      "[26]\tvalid_0's auc: 0.752146\tvalid_0's binary_logloss: 0.40725\n",
      "[27]\tvalid_0's auc: 0.75325\tvalid_0's binary_logloss: 0.406504\n",
      "[28]\tvalid_0's auc: 0.753629\tvalid_0's binary_logloss: 0.40577\n",
      "[29]\tvalid_0's auc: 0.752988\tvalid_0's binary_logloss: 0.405048\n",
      "[30]\tvalid_0's auc: 0.753113\tvalid_0's binary_logloss: 0.40435\n",
      "[31]\tvalid_0's auc: 0.753467\tvalid_0's binary_logloss: 0.403652\n",
      "[32]\tvalid_0's auc: 0.75454\tvalid_0's binary_logloss: 0.402969\n",
      "[33]\tvalid_0's auc: 0.754744\tvalid_0's binary_logloss: 0.402285\n",
      "[34]\tvalid_0's auc: 0.754982\tvalid_0's binary_logloss: 0.401645\n",
      "[35]\tvalid_0's auc: 0.755306\tvalid_0's binary_logloss: 0.401023\n",
      "[36]\tvalid_0's auc: 0.755416\tvalid_0's binary_logloss: 0.400403\n",
      "[37]\tvalid_0's auc: 0.755732\tvalid_0's binary_logloss: 0.399744\n",
      "[38]\tvalid_0's auc: 0.756108\tvalid_0's binary_logloss: 0.399104\n",
      "[39]\tvalid_0's auc: 0.756385\tvalid_0's binary_logloss: 0.398485\n",
      "[40]\tvalid_0's auc: 0.756611\tvalid_0's binary_logloss: 0.397887\n",
      "[41]\tvalid_0's auc: 0.756854\tvalid_0's binary_logloss: 0.397308\n",
      "[42]\tvalid_0's auc: 0.757047\tvalid_0's binary_logloss: 0.396741\n",
      "[43]\tvalid_0's auc: 0.757108\tvalid_0's binary_logloss: 0.3962\n",
      "[44]\tvalid_0's auc: 0.757351\tvalid_0's binary_logloss: 0.395663\n",
      "[45]\tvalid_0's auc: 0.75767\tvalid_0's binary_logloss: 0.395126\n",
      "[46]\tvalid_0's auc: 0.757761\tvalid_0's binary_logloss: 0.394573\n",
      "[47]\tvalid_0's auc: 0.757966\tvalid_0's binary_logloss: 0.394036\n",
      "[48]\tvalid_0's auc: 0.758153\tvalid_0's binary_logloss: 0.393539\n",
      "[49]\tvalid_0's auc: 0.7583\tvalid_0's binary_logloss: 0.393048\n",
      "[50]\tvalid_0's auc: 0.758474\tvalid_0's binary_logloss: 0.392541\n",
      "[51]\tvalid_0's auc: 0.758621\tvalid_0's binary_logloss: 0.392053\n",
      "[52]\tvalid_0's auc: 0.759393\tvalid_0's binary_logloss: 0.391532\n",
      "[53]\tvalid_0's auc: 0.759764\tvalid_0's binary_logloss: 0.39102\n",
      "[54]\tvalid_0's auc: 0.76014\tvalid_0's binary_logloss: 0.390542\n",
      "[55]\tvalid_0's auc: 0.760193\tvalid_0's binary_logloss: 0.390083\n",
      "[56]\tvalid_0's auc: 0.760285\tvalid_0's binary_logloss: 0.389637\n",
      "[57]\tvalid_0's auc: 0.760577\tvalid_0's binary_logloss: 0.389182\n",
      "[58]\tvalid_0's auc: 0.760756\tvalid_0's binary_logloss: 0.388763\n",
      "[59]\tvalid_0's auc: 0.760984\tvalid_0's binary_logloss: 0.388299\n",
      "[60]\tvalid_0's auc: 0.76112\tvalid_0's binary_logloss: 0.387857\n",
      "[61]\tvalid_0's auc: 0.761317\tvalid_0's binary_logloss: 0.387449\n",
      "[62]\tvalid_0's auc: 0.761474\tvalid_0's binary_logloss: 0.387035\n",
      "[63]\tvalid_0's auc: 0.761611\tvalid_0's binary_logloss: 0.386636\n",
      "[64]\tvalid_0's auc: 0.761803\tvalid_0's binary_logloss: 0.38622\n",
      "[65]\tvalid_0's auc: 0.762073\tvalid_0's binary_logloss: 0.385792\n",
      "[66]\tvalid_0's auc: 0.762157\tvalid_0's binary_logloss: 0.385392\n",
      "[67]\tvalid_0's auc: 0.762274\tvalid_0's binary_logloss: 0.385003\n",
      "[68]\tvalid_0's auc: 0.762534\tvalid_0's binary_logloss: 0.384586\n",
      "[69]\tvalid_0's auc: 0.762706\tvalid_0's binary_logloss: 0.384226\n",
      "[70]\tvalid_0's auc: 0.762811\tvalid_0's binary_logloss: 0.383885\n",
      "[71]\tvalid_0's auc: 0.763056\tvalid_0's binary_logloss: 0.383512\n",
      "[72]\tvalid_0's auc: 0.76328\tvalid_0's binary_logloss: 0.38314\n",
      "[73]\tvalid_0's auc: 0.763516\tvalid_0's binary_logloss: 0.382788\n",
      "[74]\tvalid_0's auc: 0.763652\tvalid_0's binary_logloss: 0.38245\n",
      "[75]\tvalid_0's auc: 0.763695\tvalid_0's binary_logloss: 0.382126\n",
      "[76]\tvalid_0's auc: 0.763855\tvalid_0's binary_logloss: 0.381764\n",
      "[77]\tvalid_0's auc: 0.764013\tvalid_0's binary_logloss: 0.38141\n",
      "[78]\tvalid_0's auc: 0.764147\tvalid_0's binary_logloss: 0.381071\n",
      "[79]\tvalid_0's auc: 0.76432\tvalid_0's binary_logloss: 0.380739\n",
      "[80]\tvalid_0's auc: 0.764475\tvalid_0's binary_logloss: 0.38042\n",
      "[81]\tvalid_0's auc: 0.764602\tvalid_0's binary_logloss: 0.380107\n",
      "[82]\tvalid_0's auc: 0.764796\tvalid_0's binary_logloss: 0.37979\n",
      "[83]\tvalid_0's auc: 0.764891\tvalid_0's binary_logloss: 0.379493\n",
      "[84]\tvalid_0's auc: 0.765028\tvalid_0's binary_logloss: 0.379186\n",
      "[85]\tvalid_0's auc: 0.765219\tvalid_0's binary_logloss: 0.378877\n",
      "[86]\tvalid_0's auc: 0.765539\tvalid_0's binary_logloss: 0.378563\n",
      "[87]\tvalid_0's auc: 0.765666\tvalid_0's binary_logloss: 0.378258\n",
      "[88]\tvalid_0's auc: 0.765837\tvalid_0's binary_logloss: 0.377966\n",
      "[89]\tvalid_0's auc: 0.766048\tvalid_0's binary_logloss: 0.377665\n",
      "[90]\tvalid_0's auc: 0.766228\tvalid_0's binary_logloss: 0.377376\n",
      "[91]\tvalid_0's auc: 0.766349\tvalid_0's binary_logloss: 0.377077\n",
      "[92]\tvalid_0's auc: 0.766445\tvalid_0's binary_logloss: 0.376812\n",
      "[93]\tvalid_0's auc: 0.766649\tvalid_0's binary_logloss: 0.376531\n",
      "[94]\tvalid_0's auc: 0.766785\tvalid_0's binary_logloss: 0.376252\n",
      "[95]\tvalid_0's auc: 0.766886\tvalid_0's binary_logloss: 0.376007\n",
      "[96]\tvalid_0's auc: 0.766994\tvalid_0's binary_logloss: 0.375747\n",
      "[97]\tvalid_0's auc: 0.767106\tvalid_0's binary_logloss: 0.375486\n",
      "[98]\tvalid_0's auc: 0.767284\tvalid_0's binary_logloss: 0.375212\n",
      "[99]\tvalid_0's auc: 0.767399\tvalid_0's binary_logloss: 0.374958\n",
      "[100]\tvalid_0's auc: 0.767518\tvalid_0's binary_logloss: 0.374698\n",
      "[101]\tvalid_0's auc: 0.767649\tvalid_0's binary_logloss: 0.374449\n",
      "[102]\tvalid_0's auc: 0.767929\tvalid_0's binary_logloss: 0.374193\n",
      "[103]\tvalid_0's auc: 0.768107\tvalid_0's binary_logloss: 0.373945\n",
      "[104]\tvalid_0's auc: 0.768281\tvalid_0's binary_logloss: 0.373699\n",
      "[105]\tvalid_0's auc: 0.768429\tvalid_0's binary_logloss: 0.373461\n",
      "[106]\tvalid_0's auc: 0.7686\tvalid_0's binary_logloss: 0.37322\n",
      "[107]\tvalid_0's auc: 0.768772\tvalid_0's binary_logloss: 0.372971\n",
      "[108]\tvalid_0's auc: 0.768993\tvalid_0's binary_logloss: 0.372714\n",
      "[109]\tvalid_0's auc: 0.769087\tvalid_0's binary_logloss: 0.372497\n",
      "[110]\tvalid_0's auc: 0.769157\tvalid_0's binary_logloss: 0.372283\n",
      "[111]\tvalid_0's auc: 0.769328\tvalid_0's binary_logloss: 0.372048\n",
      "[112]\tvalid_0's auc: 0.769442\tvalid_0's binary_logloss: 0.371832\n",
      "[113]\tvalid_0's auc: 0.769647\tvalid_0's binary_logloss: 0.371608\n",
      "[114]\tvalid_0's auc: 0.769749\tvalid_0's binary_logloss: 0.371411\n",
      "[115]\tvalid_0's auc: 0.769836\tvalid_0's binary_logloss: 0.371212\n",
      "[116]\tvalid_0's auc: 0.769962\tvalid_0's binary_logloss: 0.37102\n",
      "[117]\tvalid_0's auc: 0.77009\tvalid_0's binary_logloss: 0.370823\n",
      "[118]\tvalid_0's auc: 0.770252\tvalid_0's binary_logloss: 0.370605\n",
      "[119]\tvalid_0's auc: 0.77042\tvalid_0's binary_logloss: 0.370391\n",
      "[120]\tvalid_0's auc: 0.770593\tvalid_0's binary_logloss: 0.370178\n",
      "[121]\tvalid_0's auc: 0.770673\tvalid_0's binary_logloss: 0.369987\n",
      "[122]\tvalid_0's auc: 0.770789\tvalid_0's binary_logloss: 0.369804\n",
      "[123]\tvalid_0's auc: 0.770908\tvalid_0's binary_logloss: 0.369617\n",
      "[124]\tvalid_0's auc: 0.771008\tvalid_0's binary_logloss: 0.369426\n",
      "[125]\tvalid_0's auc: 0.771141\tvalid_0's binary_logloss: 0.369245\n",
      "[126]\tvalid_0's auc: 0.771242\tvalid_0's binary_logloss: 0.369062\n",
      "[127]\tvalid_0's auc: 0.771486\tvalid_0's binary_logloss: 0.368857\n",
      "[128]\tvalid_0's auc: 0.771611\tvalid_0's binary_logloss: 0.36868\n"
     ]
    },
    {
     "name": "stdout",
     "output_type": "stream",
     "text": [
      "[129]\tvalid_0's auc: 0.771705\tvalid_0's binary_logloss: 0.368504\n",
      "[130]\tvalid_0's auc: 0.771847\tvalid_0's binary_logloss: 0.368335\n",
      "[131]\tvalid_0's auc: 0.77199\tvalid_0's binary_logloss: 0.368161\n",
      "[132]\tvalid_0's auc: 0.772143\tvalid_0's binary_logloss: 0.36797\n",
      "[133]\tvalid_0's auc: 0.772341\tvalid_0's binary_logloss: 0.367774\n",
      "[134]\tvalid_0's auc: 0.772487\tvalid_0's binary_logloss: 0.367608\n",
      "[135]\tvalid_0's auc: 0.772606\tvalid_0's binary_logloss: 0.367447\n",
      "[136]\tvalid_0's auc: 0.772714\tvalid_0's binary_logloss: 0.367275\n",
      "[137]\tvalid_0's auc: 0.772846\tvalid_0's binary_logloss: 0.367129\n",
      "[138]\tvalid_0's auc: 0.772982\tvalid_0's binary_logloss: 0.366957\n",
      "[139]\tvalid_0's auc: 0.773096\tvalid_0's binary_logloss: 0.366794\n",
      "[140]\tvalid_0's auc: 0.773235\tvalid_0's binary_logloss: 0.366631\n",
      "[141]\tvalid_0's auc: 0.773336\tvalid_0's binary_logloss: 0.366486\n",
      "[142]\tvalid_0's auc: 0.773438\tvalid_0's binary_logloss: 0.366348\n",
      "[143]\tvalid_0's auc: 0.77352\tvalid_0's binary_logloss: 0.366199\n",
      "[144]\tvalid_0's auc: 0.773653\tvalid_0's binary_logloss: 0.366049\n",
      "[145]\tvalid_0's auc: 0.773727\tvalid_0's binary_logloss: 0.36591\n",
      "[146]\tvalid_0's auc: 0.773935\tvalid_0's binary_logloss: 0.365722\n",
      "[147]\tvalid_0's auc: 0.774023\tvalid_0's binary_logloss: 0.365592\n",
      "[148]\tvalid_0's auc: 0.774163\tvalid_0's binary_logloss: 0.365439\n",
      "[149]\tvalid_0's auc: 0.774306\tvalid_0's binary_logloss: 0.365292\n",
      "[150]\tvalid_0's auc: 0.77444\tvalid_0's binary_logloss: 0.365146\n",
      "[151]\tvalid_0's auc: 0.774517\tvalid_0's binary_logloss: 0.365016\n",
      "[152]\tvalid_0's auc: 0.774645\tvalid_0's binary_logloss: 0.364875\n",
      "[153]\tvalid_0's auc: 0.774719\tvalid_0's binary_logloss: 0.364748\n",
      "[154]\tvalid_0's auc: 0.774786\tvalid_0's binary_logloss: 0.364621\n",
      "[155]\tvalid_0's auc: 0.774845\tvalid_0's binary_logloss: 0.364498\n",
      "[156]\tvalid_0's auc: 0.774934\tvalid_0's binary_logloss: 0.36437\n",
      "[157]\tvalid_0's auc: 0.775063\tvalid_0's binary_logloss: 0.364232\n",
      "[158]\tvalid_0's auc: 0.775179\tvalid_0's binary_logloss: 0.3641\n",
      "[159]\tvalid_0's auc: 0.7753\tvalid_0's binary_logloss: 0.363957\n",
      "[160]\tvalid_0's auc: 0.775426\tvalid_0's binary_logloss: 0.363827\n",
      "[161]\tvalid_0's auc: 0.775547\tvalid_0's binary_logloss: 0.363695\n",
      "[162]\tvalid_0's auc: 0.775676\tvalid_0's binary_logloss: 0.363561\n",
      "[163]\tvalid_0's auc: 0.77577\tvalid_0's binary_logloss: 0.36344\n",
      "[164]\tvalid_0's auc: 0.775885\tvalid_0's binary_logloss: 0.363306\n",
      "[165]\tvalid_0's auc: 0.776022\tvalid_0's binary_logloss: 0.363177\n",
      "[166]\tvalid_0's auc: 0.776136\tvalid_0's binary_logloss: 0.363061\n",
      "[167]\tvalid_0's auc: 0.776231\tvalid_0's binary_logloss: 0.362943\n",
      "[168]\tvalid_0's auc: 0.776356\tvalid_0's binary_logloss: 0.362814\n",
      "[169]\tvalid_0's auc: 0.776434\tvalid_0's binary_logloss: 0.362705\n",
      "[170]\tvalid_0's auc: 0.776519\tvalid_0's binary_logloss: 0.362605\n",
      "[171]\tvalid_0's auc: 0.776659\tvalid_0's binary_logloss: 0.36248\n",
      "[172]\tvalid_0's auc: 0.776776\tvalid_0's binary_logloss: 0.362366\n",
      "[173]\tvalid_0's auc: 0.77691\tvalid_0's binary_logloss: 0.362252\n",
      "[174]\tvalid_0's auc: 0.777037\tvalid_0's binary_logloss: 0.362142\n",
      "[175]\tvalid_0's auc: 0.777142\tvalid_0's binary_logloss: 0.362041\n",
      "[176]\tvalid_0's auc: 0.777207\tvalid_0's binary_logloss: 0.361946\n",
      "[177]\tvalid_0's auc: 0.777268\tvalid_0's binary_logloss: 0.361853\n",
      "[178]\tvalid_0's auc: 0.777402\tvalid_0's binary_logloss: 0.361735\n",
      "[179]\tvalid_0's auc: 0.777556\tvalid_0's binary_logloss: 0.361617\n",
      "[180]\tvalid_0's auc: 0.777676\tvalid_0's binary_logloss: 0.361508\n",
      "[181]\tvalid_0's auc: 0.777765\tvalid_0's binary_logloss: 0.361399\n",
      "[182]\tvalid_0's auc: 0.777809\tvalid_0's binary_logloss: 0.361317\n",
      "[183]\tvalid_0's auc: 0.77794\tvalid_0's binary_logloss: 0.361208\n",
      "[184]\tvalid_0's auc: 0.777995\tvalid_0's binary_logloss: 0.361122\n",
      "[185]\tvalid_0's auc: 0.778089\tvalid_0's binary_logloss: 0.361017\n",
      "[186]\tvalid_0's auc: 0.778223\tvalid_0's binary_logloss: 0.360908\n",
      "[187]\tvalid_0's auc: 0.778355\tvalid_0's binary_logloss: 0.3608\n",
      "[188]\tvalid_0's auc: 0.778478\tvalid_0's binary_logloss: 0.360696\n",
      "[189]\tvalid_0's auc: 0.778567\tvalid_0's binary_logloss: 0.360613\n",
      "[190]\tvalid_0's auc: 0.778649\tvalid_0's binary_logloss: 0.36052\n",
      "[191]\tvalid_0's auc: 0.778793\tvalid_0's binary_logloss: 0.36041\n",
      "[192]\tvalid_0's auc: 0.77887\tvalid_0's binary_logloss: 0.360326\n",
      "[193]\tvalid_0's auc: 0.77899\tvalid_0's binary_logloss: 0.360224\n",
      "[194]\tvalid_0's auc: 0.779055\tvalid_0's binary_logloss: 0.360143\n",
      "[195]\tvalid_0's auc: 0.779139\tvalid_0's binary_logloss: 0.360054\n",
      "[196]\tvalid_0's auc: 0.779214\tvalid_0's binary_logloss: 0.359967\n",
      "[197]\tvalid_0's auc: 0.779306\tvalid_0's binary_logloss: 0.359889\n",
      "[198]\tvalid_0's auc: 0.779402\tvalid_0's binary_logloss: 0.35981\n",
      "[199]\tvalid_0's auc: 0.779495\tvalid_0's binary_logloss: 0.359722\n",
      "[200]\tvalid_0's auc: 0.77956\tvalid_0's binary_logloss: 0.359643\n",
      "[201]\tvalid_0's auc: 0.779645\tvalid_0's binary_logloss: 0.359558\n",
      "[202]\tvalid_0's auc: 0.779712\tvalid_0's binary_logloss: 0.359476\n",
      "[203]\tvalid_0's auc: 0.779799\tvalid_0's binary_logloss: 0.359385\n",
      "[204]\tvalid_0's auc: 0.779869\tvalid_0's binary_logloss: 0.359295\n",
      "[205]\tvalid_0's auc: 0.779944\tvalid_0's binary_logloss: 0.359207\n",
      "[206]\tvalid_0's auc: 0.780026\tvalid_0's binary_logloss: 0.359129\n",
      "[207]\tvalid_0's auc: 0.780136\tvalid_0's binary_logloss: 0.359045\n",
      "[208]\tvalid_0's auc: 0.780225\tvalid_0's binary_logloss: 0.358969\n",
      "[209]\tvalid_0's auc: 0.780361\tvalid_0's binary_logloss: 0.358871\n",
      "[210]\tvalid_0's auc: 0.780457\tvalid_0's binary_logloss: 0.358787\n",
      "[211]\tvalid_0's auc: 0.780556\tvalid_0's binary_logloss: 0.358701\n",
      "[212]\tvalid_0's auc: 0.780669\tvalid_0's binary_logloss: 0.358611\n",
      "[213]\tvalid_0's auc: 0.78078\tvalid_0's binary_logloss: 0.358527\n",
      "[214]\tvalid_0's auc: 0.780849\tvalid_0's binary_logloss: 0.35846\n",
      "[215]\tvalid_0's auc: 0.780963\tvalid_0's binary_logloss: 0.35838\n",
      "[216]\tvalid_0's auc: 0.781078\tvalid_0's binary_logloss: 0.358286\n",
      "[217]\tvalid_0's auc: 0.781162\tvalid_0's binary_logloss: 0.3582\n",
      "[218]\tvalid_0's auc: 0.781279\tvalid_0's binary_logloss: 0.358123\n",
      "[219]\tvalid_0's auc: 0.781346\tvalid_0's binary_logloss: 0.358056\n",
      "[220]\tvalid_0's auc: 0.78141\tvalid_0's binary_logloss: 0.357976\n",
      "[221]\tvalid_0's auc: 0.781479\tvalid_0's binary_logloss: 0.357902\n",
      "[222]\tvalid_0's auc: 0.781536\tvalid_0's binary_logloss: 0.357829\n",
      "[223]\tvalid_0's auc: 0.781627\tvalid_0's binary_logloss: 0.357752\n",
      "[224]\tvalid_0's auc: 0.781711\tvalid_0's binary_logloss: 0.35768\n",
      "[225]\tvalid_0's auc: 0.781798\tvalid_0's binary_logloss: 0.357605\n",
      "[226]\tvalid_0's auc: 0.78188\tvalid_0's binary_logloss: 0.357525\n",
      "[227]\tvalid_0's auc: 0.78196\tvalid_0's binary_logloss: 0.357443\n",
      "[228]\tvalid_0's auc: 0.782053\tvalid_0's binary_logloss: 0.357362\n",
      "[229]\tvalid_0's auc: 0.782153\tvalid_0's binary_logloss: 0.357292\n",
      "[230]\tvalid_0's auc: 0.782221\tvalid_0's binary_logloss: 0.357223\n",
      "[231]\tvalid_0's auc: 0.782264\tvalid_0's binary_logloss: 0.357163\n",
      "[232]\tvalid_0's auc: 0.782366\tvalid_0's binary_logloss: 0.35708\n",
      "[233]\tvalid_0's auc: 0.782441\tvalid_0's binary_logloss: 0.357005\n",
      "[234]\tvalid_0's auc: 0.782482\tvalid_0's binary_logloss: 0.356948\n",
      "[235]\tvalid_0's auc: 0.782593\tvalid_0's binary_logloss: 0.356861\n",
      "[236]\tvalid_0's auc: 0.782715\tvalid_0's binary_logloss: 0.356786\n",
      "[237]\tvalid_0's auc: 0.782783\tvalid_0's binary_logloss: 0.356717\n",
      "[238]\tvalid_0's auc: 0.78287\tvalid_0's binary_logloss: 0.356643\n",
      "[239]\tvalid_0's auc: 0.782978\tvalid_0's binary_logloss: 0.356558\n",
      "[240]\tvalid_0's auc: 0.783053\tvalid_0's binary_logloss: 0.356492\n",
      "[241]\tvalid_0's auc: 0.783129\tvalid_0's binary_logloss: 0.356426\n",
      "[242]\tvalid_0's auc: 0.783231\tvalid_0's binary_logloss: 0.356353\n",
      "[243]\tvalid_0's auc: 0.78332\tvalid_0's binary_logloss: 0.356281\n",
      "[244]\tvalid_0's auc: 0.783404\tvalid_0's binary_logloss: 0.356214\n",
      "[245]\tvalid_0's auc: 0.783478\tvalid_0's binary_logloss: 0.356154\n",
      "[246]\tvalid_0's auc: 0.783568\tvalid_0's binary_logloss: 0.356087\n",
      "[247]\tvalid_0's auc: 0.783664\tvalid_0's binary_logloss: 0.356001\n",
      "[248]\tvalid_0's auc: 0.783765\tvalid_0's binary_logloss: 0.355921\n",
      "[249]\tvalid_0's auc: 0.783832\tvalid_0's binary_logloss: 0.355861\n",
      "[250]\tvalid_0's auc: 0.783901\tvalid_0's binary_logloss: 0.355803\n",
      "[251]\tvalid_0's auc: 0.783984\tvalid_0's binary_logloss: 0.355739\n",
      "[252]\tvalid_0's auc: 0.784039\tvalid_0's binary_logloss: 0.355687\n",
      "[253]\tvalid_0's auc: 0.784093\tvalid_0's binary_logloss: 0.355637\n",
      "[254]\tvalid_0's auc: 0.784182\tvalid_0's binary_logloss: 0.355573\n",
      "[255]\tvalid_0's auc: 0.78429\tvalid_0's binary_logloss: 0.3555\n"
     ]
    },
    {
     "name": "stdout",
     "output_type": "stream",
     "text": [
      "[256]\tvalid_0's auc: 0.78435\tvalid_0's binary_logloss: 0.355445\n",
      "[257]\tvalid_0's auc: 0.784431\tvalid_0's binary_logloss: 0.355383\n",
      "[258]\tvalid_0's auc: 0.784502\tvalid_0's binary_logloss: 0.355323\n",
      "[259]\tvalid_0's auc: 0.784565\tvalid_0's binary_logloss: 0.355272\n",
      "[260]\tvalid_0's auc: 0.784632\tvalid_0's binary_logloss: 0.355212\n",
      "[261]\tvalid_0's auc: 0.784692\tvalid_0's binary_logloss: 0.355161\n",
      "[262]\tvalid_0's auc: 0.784803\tvalid_0's binary_logloss: 0.355086\n",
      "[263]\tvalid_0's auc: 0.784881\tvalid_0's binary_logloss: 0.355029\n",
      "[264]\tvalid_0's auc: 0.784946\tvalid_0's binary_logloss: 0.354981\n",
      "[265]\tvalid_0's auc: 0.785032\tvalid_0's binary_logloss: 0.354926\n",
      "[266]\tvalid_0's auc: 0.785103\tvalid_0's binary_logloss: 0.354878\n",
      "[267]\tvalid_0's auc: 0.785206\tvalid_0's binary_logloss: 0.354808\n",
      "[268]\tvalid_0's auc: 0.785289\tvalid_0's binary_logloss: 0.354739\n",
      "[269]\tvalid_0's auc: 0.785348\tvalid_0's binary_logloss: 0.35469\n",
      "[270]\tvalid_0's auc: 0.785448\tvalid_0's binary_logloss: 0.354621\n",
      "[271]\tvalid_0's auc: 0.785503\tvalid_0's binary_logloss: 0.354571\n",
      "[272]\tvalid_0's auc: 0.785611\tvalid_0's binary_logloss: 0.3545\n",
      "[273]\tvalid_0's auc: 0.785671\tvalid_0's binary_logloss: 0.354455\n",
      "[274]\tvalid_0's auc: 0.785763\tvalid_0's binary_logloss: 0.354394\n",
      "[275]\tvalid_0's auc: 0.785811\tvalid_0's binary_logloss: 0.354354\n",
      "[276]\tvalid_0's auc: 0.785891\tvalid_0's binary_logloss: 0.354292\n",
      "[277]\tvalid_0's auc: 0.785967\tvalid_0's binary_logloss: 0.354238\n",
      "[278]\tvalid_0's auc: 0.786026\tvalid_0's binary_logloss: 0.354185\n",
      "[279]\tvalid_0's auc: 0.786123\tvalid_0's binary_logloss: 0.354116\n",
      "[280]\tvalid_0's auc: 0.786189\tvalid_0's binary_logloss: 0.354065\n",
      "[281]\tvalid_0's auc: 0.786242\tvalid_0's binary_logloss: 0.354026\n",
      "[282]\tvalid_0's auc: 0.786317\tvalid_0's binary_logloss: 0.353976\n"
     ]
    }
   ],
   "source": [
    "# model_lgb.fit(X_train, y_train, \n",
    "#                   eval_names=['train'],\n",
    "#                   eval_metric=['logloss','auc'],\n",
    "#                   eval_set=eval_set,\n",
    "#                   early_stopping_rounds=10)\n",
    "gbm = lgb.train(params, \n",
    "                train_set_lgb, \n",
    "                valid_sets=eval_set_lgb, \n",
    "                early_stopping_rounds=10,\n",
    "                num_boost_round = 2000\n",
    "               )"
   ]
  },
  {
   "cell_type": "code",
   "execution_count": null,
   "metadata": {},
   "outputs": [],
   "source": [
    "import pickle\n",
    "pickle.dump(gbm, open('model/gbm.pkl', 'wb'))"
   ]
  },
  {
   "cell_type": "code",
   "execution_count": null,
   "metadata": {},
   "outputs": [],
   "source": [
    "y_pred = gbm.predict(X_test)\n",
    "print(y_pred.shape)\n",
    "result_append['answer'] = y_pred\n",
    "result_append.to_csv('result.txt', index=False, header=False, sep='\\t')"
   ]
  },
  {
   "cell_type": "code",
   "execution_count": null,
   "metadata": {
    "scrolled": true
   },
   "outputs": [],
   "source": [
    "list(used_data.columns)"
   ]
  },
  {
   "cell_type": "code",
   "execution_count": null,
   "metadata": {},
   "outputs": [],
   "source": [
    "col = list(used_data.columns)\n",
    "del col[0]\n",
    "importance = gbm.feature_importance()\n",
    "# importance\n",
    "# print(col)\n",
    "# print(importance)"
   ]
  },
  {
   "cell_type": "code",
   "execution_count": null,
   "metadata": {},
   "outputs": [],
   "source": [
    "importance_df = pd.DataFrame({'col':col, 'imp': importance})\n",
    "importance_df['imp_rate'] = (importance_df['imp'] / importance_df['imp'].sum()).apply(lambda x: format(x, '.2%'))\n",
    "importance_df"
   ]
  },
  {
   "cell_type": "code",
   "execution_count": null,
   "metadata": {},
   "outputs": [],
   "source": []
  }
 ],
 "metadata": {
  "kernelspec": {
   "display_name": "Python 3",
   "language": "python",
   "name": "python3"
  },
  "language_info": {
   "codemirror_mode": {
    "name": "ipython",
    "version": 3
   },
   "file_extension": ".py",
   "mimetype": "text/x-python",
   "name": "python",
   "nbconvert_exporter": "python",
   "pygments_lexer": "ipython3",
   "version": "3.6.9"
  }
 },
 "nbformat": 4,
 "nbformat_minor": 2
}
