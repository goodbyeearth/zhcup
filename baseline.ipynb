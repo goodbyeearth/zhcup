{
 "cells": [
  {
   "cell_type": "code",
   "execution_count": 7,
   "metadata": {},
   "outputs": [],
   "source": [
    "import pandas as pd\n",
    "\n",
    "# 用户信息\n",
    "user_info = pd.read_csv('data/member_info_0926.txt', header=None, sep='\\t')\n",
    "user_info.columns = ['uid','gender','visit_freq','u_2_cat_a','u_2_cat_b','u_2_cat_c','u_2_cat_d',\n",
    "                     'u_2_cat_e','u_multi_cat_a','u_multi_cat_b','u_multi_cat_c','u_multi_cat_d',\n",
    "                     'u_multi_cat_e','u_salt_value','u_focus_topic','u_like_topic']\n",
    "\n",
    "# 问题信息\n",
    "question_info = pd.read_csv('data/question_info_0926.txt', header=None, sep='\\t')\n",
    "question_info.columns = ['qid','q_start_date','q_head_sw','q_head_w','q_desc_sw','q_desc_w',\n",
    "                         'q_topic']\n",
    "\n",
    "# 训练数据\n",
    "train = pd.read_csv('data/invite_info_0926.txt', header=None, sep='\\t')\n",
    "train.columns = ['qid', 'uid', 'i_start_date','answer']\n",
    "train = pd.merge(train, user_info, how='left', on='uid')\n",
    "train = pd.merge(train, question_info, how='left', on='qid')\n",
    "\n",
    "# 测试数据\n",
    "test = pd.read_csv('data/invite_info_evaluate_0926.txt', header=None, sep='\\t')\n",
    "test.columns = ['qid', 'uid', 'i_start_date']\n",
    "test = pd.merge(test, user_info, how='left', on='uid')\n",
    "test = pd.merge(test, question_info, how='left', on='qid')"
   ]
  },
  {
   "cell_type": "code",
   "execution_count": 90,
   "metadata": {},
   "outputs": [],
   "source": [
    "# 数据合并\n",
    "data = pd.concat([train, test], axis=0, sort=True)"
   ]
  },
  {
   "cell_type": "code",
   "execution_count": 91,
   "metadata": {},
   "outputs": [],
   "source": [
    "# 用于保存提交结果\n",
    "result_append = data[['qid', 'uid', 'i_start_date']][train.shape[0]:]"
   ]
  },
  {
   "cell_type": "code",
   "execution_count": 92,
   "metadata": {},
   "outputs": [],
   "source": [
    "# 时间解析\n",
    "data['i_start_day'] = data['i_start_date'].apply(lambda x: int(x.split('-')[0].split('D')[1]))\n",
    "data['i_start_hour'] = data['i_start_date'].apply(lambda x: int(x.split('-')[1].split('H')[1]))\n",
    "\n",
    "data['q_start_day'] = data['q_start_date'].apply(lambda x: int(x.split('-')[0].split('D')[1]))\n",
    "data['q_start_hour'] = data['q_start_date'].apply(lambda x: int(x.split('-')[1].split('H')[1]))"
   ]
  },
  {
   "cell_type": "code",
   "execution_count": 93,
   "metadata": {},
   "outputs": [],
   "source": [
    "# 答案\n",
    "answer_info = pd.read_csv('data/answer_info_0926.txt', header=None, sep='\\t')\n",
    "answer_info.columns = ['aid', 'qid', 'uid', 'a_start_date', 'a_sw', 'a_w', 'good', 'recommend', \n",
    "                       'round_table', 'picture', 'video', 'num_word', 'num_agree', 'num_cancel',\n",
    "                       'num_commend', 'num_collect', 'num_thank', 'num_report', 'num_helpless', 'num_disagree']\n",
    "\n",
    "answer_info = answer_info.drop(['aid', 'a_start_date', 'a_sw', 'a_w', 'good', 'recommend', 'round_table', \n",
    "                                'picture', 'video'], axis=1)"
   ]
  },
  {
   "cell_type": "code",
   "execution_count": 97,
   "metadata": {
    "scrolled": true
   },
   "outputs": [
    {
     "data": {
      "text/plain": [
       "['num_word',\n",
       " 'num_agree',\n",
       " 'num_cancel',\n",
       " 'num_commend',\n",
       " 'num_collect',\n",
       " 'num_thank',\n",
       " 'num_report',\n",
       " 'num_helpless',\n",
       " 'num_disagree']"
      ]
     },
     "execution_count": 97,
     "metadata": {},
     "output_type": "execute_result"
    }
   ],
   "source": [
    "int_columns"
   ]
  },
  {
   "cell_type": "code",
   "execution_count": 100,
   "metadata": {
    "scrolled": false
   },
   "outputs": [
    {
     "data": {
      "text/plain": [
       "Index(['answer', 'gender', 'i_start_date', 'q_desc_sw', 'q_desc_w',\n",
       "       'q_head_sw', 'q_head_w', 'q_start_date', 'q_topic', 'qid', 'u_2_cat_a',\n",
       "       'u_2_cat_b', 'u_2_cat_c', 'u_2_cat_d', 'u_2_cat_e', 'u_focus_topic',\n",
       "       'u_like_topic', 'u_multi_cat_a', 'u_multi_cat_b', 'u_multi_cat_c',\n",
       "       'u_multi_cat_d', 'u_multi_cat_e', 'u_salt_value', 'uid', 'visit_freq',\n",
       "       'i_start_day', 'i_start_hour', 'q_start_day', 'q_start_hour'],\n",
       "      dtype='object')"
      ]
     },
     "execution_count": 100,
     "metadata": {},
     "output_type": "execute_result"
    }
   ],
   "source": [
    "data.columns"
   ]
  },
  {
   "cell_type": "code",
   "execution_count": 101,
   "metadata": {},
   "outputs": [],
   "source": [
    "# 该条邀请的回答详情，包括各种点赞数等所有数量（若无回答，补0）\n",
    "data = data.merge(answer_info, on=['qid', 'uid'], how='left').fillna(0)\n",
    "\n",
    "# 数据类型转换\n",
    "int_columns = ['num_word', 'num_agree', 'num_cancel','num_commend', 'num_collect', \n",
    "               'num_thank', 'num_report', 'num_helpless', 'num_disagree']\n",
    "data[int_columns] = data[int_columns].astype('int64')"
   ]
  },
  {
   "cell_type": "code",
   "execution_count": 102,
   "metadata": {},
   "outputs": [],
   "source": [
    "# 用户历史回答统计特征\n",
    "user_stat_raw = pd.read_csv('feature/user_stat_raw.txt', sep='\\t')"
   ]
  },
  {
   "cell_type": "code",
   "execution_count": 103,
   "metadata": {},
   "outputs": [],
   "source": [
    "data = data.merge(user_stat_raw, on='uid', how='left')\n",
    "\n",
    "# 数据类型转换\n",
    "u_stat_columns = ['u_total_word_raw', 'u_total_agree_raw', 'u_total_cancel_raw','u_total_commend_raw', \n",
    "                'u_total_collect_raw', 'u_total_thank_raw','u_total_report_raw', 'u_total_helpless_raw', \n",
    "                'u_total_disagree_raw', 'u_total_invite_raw']\n",
    "data[u_stat_columns] = data[u_stat_columns].fillna(0).astype('int64')"
   ]
  },
  {
   "cell_type": "code",
   "execution_count": 104,
   "metadata": {},
   "outputs": [],
   "source": [
    "# 防标签泄露\n",
    "for c in u_stat_columns[:-1]:\n",
    "    temp = c.split('_')\n",
    "    c_1 = 'num_' + temp[2]    # 当前 num\n",
    "    c_2 = '_'.join([temp[0], temp[1], temp[2]])   # 处理后的新列名\n",
    "    \n",
    "    # total raw 减去当前的 num\n",
    "    data[c_2] = data[c] - data[c_1]\n"
   ]
  },
  {
   "cell_type": "code",
   "execution_count": 105,
   "metadata": {},
   "outputs": [
    {
     "data": {
      "text/plain": [
       "Index(['answer', 'gender', 'i_start_date', 'q_desc_sw', 'q_desc_w',\n",
       "       'q_head_sw', 'q_head_w', 'q_start_date', 'q_topic', 'qid', 'u_2_cat_a',\n",
       "       'u_2_cat_b', 'u_2_cat_c', 'u_2_cat_d', 'u_2_cat_e', 'u_focus_topic',\n",
       "       'u_like_topic', 'u_multi_cat_a', 'u_multi_cat_b', 'u_multi_cat_c',\n",
       "       'u_multi_cat_d', 'u_multi_cat_e', 'u_salt_value', 'uid', 'visit_freq',\n",
       "       'i_start_day', 'i_start_hour', 'q_start_day', 'q_start_hour',\n",
       "       'num_word', 'num_agree', 'num_cancel', 'num_commend', 'num_collect',\n",
       "       'num_thank', 'num_report', 'num_helpless', 'num_disagree',\n",
       "       'u_total_word_raw', 'u_total_agree_raw', 'u_total_cancel_raw',\n",
       "       'u_total_commend_raw', 'u_total_collect_raw', 'u_total_thank_raw',\n",
       "       'u_total_report_raw', 'u_total_helpless_raw', 'u_total_disagree_raw',\n",
       "       'u_total_invite_raw', 'u_total_word', 'u_total_agree', 'u_total_cancel',\n",
       "       'u_total_commend', 'u_total_collect', 'u_total_thank', 'u_total_report',\n",
       "       'u_total_helpless', 'u_total_disagree'],\n",
       "      dtype='object')"
      ]
     },
     "execution_count": 105,
     "metadata": {},
     "output_type": "execute_result"
    }
   ],
   "source": [
    "data.columns"
   ]
  },
  {
   "cell_type": "code",
   "execution_count": 106,
   "metadata": {},
   "outputs": [],
   "source": [
    "data['answer'] = data['answer'].astype('int64')"
   ]
  },
  {
   "cell_type": "code",
   "execution_count": 107,
   "metadata": {},
   "outputs": [],
   "source": [
    "# 类别特征 encoding\n",
    "from sklearn.preprocessing import LabelEncoder\n",
    "class_feat = ['uid','qid','gender', 'visit_freq','u_multi_cat_a','u_multi_cat_b',\n",
    "              'u_multi_cat_c','u_multi_cat_d','u_multi_cat_e']\n",
    "encoder = LabelEncoder()\n",
    "for feat in class_feat:\n",
    "    encoder.fit(data[feat])\n",
    "    data[feat] = encoder.transform(data[feat])"
   ]
  },
  {
   "cell_type": "code",
   "execution_count": 108,
   "metadata": {},
   "outputs": [],
   "source": [
    "# 计数特征\n",
    "for feat in ['uid','qid','gender', 'visit_freq','u_2_cat_a', 'u_2_cat_b', 'u_2_cat_c', 'u_2_cat_d',\n",
    "       'u_2_cat_e','u_multi_cat_a','u_multi_cat_b','u_multi_cat_c','u_multi_cat_d','u_multi_cat_e']:\n",
    "    col_name = '{}_count'.format(feat)\n",
    "    data[col_name] = data[feat].map(data[feat].value_counts().astype(int))\n",
    "    data.loc[data[col_name] < 2, feat] = -1\n",
    "    data[feat] += 1\n",
    "    data[col_name] = data[feat].map(data[feat].value_counts().astype(int))\n",
    "    data[col_name] = (data[col_name] - data[col_name].min()) / (data[col_name].max() - data[col_name].min())"
   ]
  },
  {
   "cell_type": "code",
   "execution_count": 110,
   "metadata": {},
   "outputs": [
    {
     "name": "stdout",
     "output_type": "stream",
     "text": [
      "used columns: Index(['answer', 'gender', 'qid', 'u_2_cat_a', 'u_2_cat_b', 'u_2_cat_c',\n",
      "       'u_2_cat_d', 'u_2_cat_e', 'u_multi_cat_a', 'u_multi_cat_b',\n",
      "       'u_multi_cat_c', 'u_multi_cat_d', 'u_multi_cat_e', 'u_salt_value',\n",
      "       'uid', 'visit_freq', 'i_start_day', 'i_start_hour', 'q_start_day',\n",
      "       'q_start_hour', 'u_total_word_raw', 'u_total_agree_raw',\n",
      "       'u_total_cancel_raw', 'u_total_commend_raw', 'u_total_collect_raw',\n",
      "       'u_total_thank_raw', 'u_total_report_raw', 'u_total_helpless_raw',\n",
      "       'u_total_disagree_raw', 'u_total_invite_raw', 'uid_count', 'qid_count',\n",
      "       'gender_count', 'visit_freq_count', 'u_2_cat_a_count',\n",
      "       'u_2_cat_b_count', 'u_2_cat_c_count', 'u_2_cat_d_count',\n",
      "       'u_2_cat_e_count', 'u_multi_cat_a_count', 'u_multi_cat_b_count',\n",
      "       'u_multi_cat_c_count', 'u_multi_cat_d_count', 'u_multi_cat_e_count'],\n",
      "      dtype='object')\n"
     ]
    }
   ],
   "source": [
    "# 去掉特征\n",
    "drop_feat = ['q_head_sw','q_head_w','q_desc_sw','q_desc_w','q_topic', \n",
    "             'u_focus_topic','u_like_topic','q_start_date','i_start_date', \n",
    "#              '性别_count', \n",
    "#              '用户二分类特征a_count', '用户二分类特征b_count', '用户二分类特征c_count', \n",
    "#              '用户二分类特征d_count','用户二分类特征e_count'\n",
    "            ]\n",
    "\n",
    "# 去掉 answer_info\n",
    "drop_feat += ['num_word', 'num_agree', 'num_cancel','num_commend', 'num_collect', \n",
    "              'num_thank', 'num_report', 'num_helpless', 'num_disagree']\n",
    "\n",
    "# 去掉历史回答的 raw 统计特征\n",
    "# drop_feat += ['u_total_word_raw', 'u_total_agree_raw', 'u_total_cancel_raw','u_total_commend_raw', \n",
    "#               'u_total_collect_raw', 'u_total_thank_raw','u_total_report_raw', 'u_total_helpless_raw', \n",
    "#               'u_total_disagree_raw']\n",
    "\n",
    "# 去掉历史回答处理后的统计特征\n",
    "drop_feat += ['u_total_word', 'u_total_agree', 'u_total_cancel','u_total_commend', \n",
    "              'u_total_collect', 'u_total_thank','u_total_report', 'u_total_helpless', \n",
    "              'u_total_disagree']\n",
    "\n",
    "used_data = data.drop(drop_feat, axis=1)\n",
    "print('used columns:', used_data.columns)"
   ]
  },
  {
   "cell_type": "code",
   "execution_count": 113,
   "metadata": {},
   "outputs": [],
   "source": [
    "# 划分数据集\n",
    "from lightgbm import LGBMClassifier\n",
    "import lightgbm as lgb\n",
    "\n",
    "is_eval = True   # 若为 true，取训练集中的后面的 days_eval 天作为验证集\n",
    "days_eval = 1\n",
    "\n",
    "if not is_eval:\n",
    "    y_train = used_data[:train.shape[0]]['answer']\n",
    "    X_train = used_data[:train.shape[0]].drop(['answer'], axis=1)\n",
    "    \n",
    "    train_set_lgb = lgb.Dataset(X_train, y_train, free_raw_data=False, categorical_feature=class_feat)\n",
    "    eval_set_lgb = None\n",
    "#     eval_set = [(X_train, y_train)] \n",
    "else:\n",
    "    train_idx = used_data[:train.shape[0]]['i_start_day'] < (3867 - days_eval + 1)\n",
    "    y_train = used_data[:train.shape[0]][train_idx]['answer']\n",
    "    X_train = used_data[:train.shape[0]][train_idx].drop(['answer'], axis=1)\n",
    "    \n",
    "    y_eval = used_data[:train.shape[0]][~train_idx]['answer']\n",
    "    X_eval = used_data[:train.shape[0]][~train_idx].drop(['answer'], axis=1)\n",
    "    \n",
    "    train_set_lgb = lgb.Dataset(X_train, y_train, free_raw_data=False, categorical_feature=class_feat)\n",
    "    eval_set_lgb = lgb.Dataset(X_eval, y_eval, free_raw_data=False, categorical_feature=class_feat, reference=train_set_lgb)\n",
    "#     eval_set = [(X_eval, y_eval)]\n",
    "X_test = used_data[train.shape[0]:].drop(['answer'], axis=1)"
   ]
  },
  {
   "cell_type": "code",
   "execution_count": 114,
   "metadata": {},
   "outputs": [
    {
     "name": "stdout",
     "output_type": "stream",
     "text": [
      "(9141216,)\n",
      "(9141216, 43)\n",
      "(347946,)\n",
      "(347946, 43)\n"
     ]
    }
   ],
   "source": [
    "print(y_train.shape)\n",
    "print(X_train.shape)\n",
    "\n",
    "print(y_eval.shape)\n",
    "print(X_eval.shape)"
   ]
  },
  {
   "cell_type": "code",
   "execution_count": 115,
   "metadata": {},
   "outputs": [],
   "source": [
    "# model_lgb = LGBMClassifier(boosting_type='gbdt', num_leaves=64, learning_rate=0.01, n_estimators=200,\n",
    "#                            max_bin=425, subsample_for_bin=50000, objective='binary', min_split_gain=0,\n",
    "#                            min_child_weight=5, min_child_samples=10, subsample=0.8, subsample_freq=1,\n",
    "#                            colsample_bytree=1, reg_alpha=3, reg_lambda=5, seed=1000, n_jobs=-1, silent=True)\n",
    "params = {\n",
    "    'boosting_type': 'gbdt', \n",
    "    'num_leaves': 64, \n",
    "    'learning_rate': 0.01, \n",
    "    'n_estimators': 200,\n",
    "    'max_bin': 425, \n",
    "    'subsample_for_bin': 50000, \n",
    "    'objective': 'binary', \n",
    "    'min_split_gain': 0,\n",
    "    'min_child_weight': 5,\n",
    "    'min_child_samples': 10, \n",
    "    'subsample': 0.8, \n",
    "    'subsample_freq': 1,\n",
    "    'colsample_bytree': 1, \n",
    "    'reg_alpha': 3, \n",
    "    'reg_lambda': 5, \n",
    "    'seed': 1000, \n",
    "    'n_jobs': -1, \n",
    "    'silent': True,\n",
    "    'metric': ['auc', 'binary_logloss'],\n",
    "}"
   ]
  },
  {
   "cell_type": "code",
   "execution_count": null,
   "metadata": {
    "scrolled": true
   },
   "outputs": [
    {
     "name": "stderr",
     "output_type": "stream",
     "text": [
      "/root/anaconda3/envs/zhcup/lib/python3.6/site-packages/lightgbm/engine.py:148: UserWarning: Found `n_estimators` in params. Will use it instead of argument\n",
      "  warnings.warn(\"Found `{}` in params. Will use it instead of argument\".format(alias))\n",
      "/root/anaconda3/envs/zhcup/lib/python3.6/site-packages/lightgbm/basic.py:1243: UserWarning: Using categorical_feature in Dataset.\n",
      "  warnings.warn('Using categorical_feature in Dataset.')\n",
      "/root/anaconda3/envs/zhcup/lib/python3.6/site-packages/lightgbm/basic.py:794: UserWarning: silent keyword has been found in `params` and will be ignored.\n",
      "Please use silent argument of the Dataset constructor to pass this parameter.\n",
      "  .format(key))\n"
     ]
    },
    {
     "name": "stdout",
     "output_type": "stream",
     "text": [
      "[1]\tvalid_0's auc: 0.725229\tvalid_0's binary_logloss: 0.432742\n",
      "Training until validation scores don't improve for 10 rounds\n",
      "[2]\tvalid_0's auc: 0.725207\tvalid_0's binary_logloss: 0.431542\n",
      "[3]\tvalid_0's auc: 0.725191\tvalid_0's binary_logloss: 0.430387\n",
      "[4]\tvalid_0's auc: 0.727722\tvalid_0's binary_logloss: 0.429318\n",
      "[5]\tvalid_0's auc: 0.727146\tvalid_0's binary_logloss: 0.428212\n",
      "[6]\tvalid_0's auc: 0.727667\tvalid_0's binary_logloss: 0.427154\n",
      "[7]\tvalid_0's auc: 0.728532\tvalid_0's binary_logloss: 0.426131\n",
      "[8]\tvalid_0's auc: 0.730707\tvalid_0's binary_logloss: 0.425133\n",
      "[9]\tvalid_0's auc: 0.730903\tvalid_0's binary_logloss: 0.424179\n",
      "[10]\tvalid_0's auc: 0.730499\tvalid_0's binary_logloss: 0.423254\n",
      "[11]\tvalid_0's auc: 0.73068\tvalid_0's binary_logloss: 0.422328\n",
      "[12]\tvalid_0's auc: 0.732197\tvalid_0's binary_logloss: 0.421427\n",
      "[13]\tvalid_0's auc: 0.732398\tvalid_0's binary_logloss: 0.420531\n",
      "[14]\tvalid_0's auc: 0.733354\tvalid_0's binary_logloss: 0.419639\n",
      "[15]\tvalid_0's auc: 0.734128\tvalid_0's binary_logloss: 0.418796\n",
      "[16]\tvalid_0's auc: 0.734499\tvalid_0's binary_logloss: 0.41795\n",
      "[17]\tvalid_0's auc: 0.739075\tvalid_0's binary_logloss: 0.417123\n",
      "[18]\tvalid_0's auc: 0.739192\tvalid_0's binary_logloss: 0.41631\n",
      "[19]\tvalid_0's auc: 0.739347\tvalid_0's binary_logloss: 0.41554\n",
      "[20]\tvalid_0's auc: 0.740613\tvalid_0's binary_logloss: 0.414775\n",
      "[21]\tvalid_0's auc: 0.741393\tvalid_0's binary_logloss: 0.414036\n",
      "[22]\tvalid_0's auc: 0.741808\tvalid_0's binary_logloss: 0.413312\n",
      "[23]\tvalid_0's auc: 0.742246\tvalid_0's binary_logloss: 0.412582\n",
      "[24]\tvalid_0's auc: 0.742596\tvalid_0's binary_logloss: 0.411878\n",
      "[25]\tvalid_0's auc: 0.742662\tvalid_0's binary_logloss: 0.411201\n",
      "[26]\tvalid_0's auc: 0.743047\tvalid_0's binary_logloss: 0.410517\n",
      "[27]\tvalid_0's auc: 0.74333\tvalid_0's binary_logloss: 0.409851\n",
      "[28]\tvalid_0's auc: 0.743481\tvalid_0's binary_logloss: 0.409185\n",
      "[29]\tvalid_0's auc: 0.74361\tvalid_0's binary_logloss: 0.408554\n",
      "[30]\tvalid_0's auc: 0.743954\tvalid_0's binary_logloss: 0.4079\n",
      "[31]\tvalid_0's auc: 0.744067\tvalid_0's binary_logloss: 0.407296\n",
      "[32]\tvalid_0's auc: 0.744407\tvalid_0's binary_logloss: 0.406706\n",
      "[33]\tvalid_0's auc: 0.744731\tvalid_0's binary_logloss: 0.406078\n",
      "[34]\tvalid_0's auc: 0.745099\tvalid_0's binary_logloss: 0.405469\n",
      "[35]\tvalid_0's auc: 0.745476\tvalid_0's binary_logloss: 0.404889\n",
      "[36]\tvalid_0's auc: 0.745715\tvalid_0's binary_logloss: 0.404317\n",
      "[37]\tvalid_0's auc: 0.746119\tvalid_0's binary_logloss: 0.403733\n",
      "[38]\tvalid_0's auc: 0.746628\tvalid_0's binary_logloss: 0.403162\n",
      "[39]\tvalid_0's auc: 0.746903\tvalid_0's binary_logloss: 0.402605\n",
      "[40]\tvalid_0's auc: 0.747126\tvalid_0's binary_logloss: 0.402065\n",
      "[41]\tvalid_0's auc: 0.747467\tvalid_0's binary_logloss: 0.401527\n",
      "[42]\tvalid_0's auc: 0.74772\tvalid_0's binary_logloss: 0.401018\n",
      "[43]\tvalid_0's auc: 0.748083\tvalid_0's binary_logloss: 0.400501\n",
      "[44]\tvalid_0's auc: 0.74837\tvalid_0's binary_logloss: 0.399994\n",
      "[45]\tvalid_0's auc: 0.748633\tvalid_0's binary_logloss: 0.399491\n",
      "[46]\tvalid_0's auc: 0.748797\tvalid_0's binary_logloss: 0.399002\n",
      "[47]\tvalid_0's auc: 0.749071\tvalid_0's binary_logloss: 0.398542\n",
      "[48]\tvalid_0's auc: 0.749222\tvalid_0's binary_logloss: 0.398084\n"
     ]
    }
   ],
   "source": [
    "# model_lgb.fit(X_train, y_train, \n",
    "#                   eval_names=['train'],\n",
    "#                   eval_metric=['logloss','auc'],\n",
    "#                   eval_set=eval_set,\n",
    "#                   early_stopping_rounds=10)\n",
    "gbm = lgb.train(params, train_set_lgb, valid_sets=eval_set_lgb, early_stopping_rounds=10)"
   ]
  },
  {
   "cell_type": "code",
   "execution_count": 30,
   "metadata": {},
   "outputs": [
    {
     "name": "stdout",
     "output_type": "stream",
     "text": [
      "(1141683,)\n"
     ]
    }
   ],
   "source": [
    "y_pred = gbm.predict(X_test)\n",
    "print(y_pred.shape)\n",
    "result_append['answer'] = y_pred\n",
    "result_append.to_csv('result.txt', index=False, header=False, sep='\\t')"
   ]
  },
  {
   "cell_type": "code",
   "execution_count": 31,
   "metadata": {},
   "outputs": [
    {
     "data": {
      "text/plain": [
       "array([ 282,  666,    0,    0,    0,    9,    0,   32,   29,    0,   20,\n",
       "          0, 2331,  132,   27,  735, 1096, 1717,  234, 1618, 2225,    0,\n",
       "       1443,    0,    0,    0,    0,    0,    4,    0,    0,    0,    0],\n",
       "      dtype=int32)"
      ]
     },
     "execution_count": 31,
     "metadata": {},
     "output_type": "execute_result"
    }
   ],
   "source": [
    "col = list(used_data.columns)\n",
    "del col[1]\n",
    "importance = gbm.feature_importance()\n",
    "importance\n",
    "# print(col)\n",
    "# print(importance)"
   ]
  },
  {
   "cell_type": "code",
   "execution_count": 35,
   "metadata": {},
   "outputs": [
    {
     "data": {
      "text/html": [
       "<div>\n",
       "<style scoped>\n",
       "    .dataframe tbody tr th:only-of-type {\n",
       "        vertical-align: middle;\n",
       "    }\n",
       "\n",
       "    .dataframe tbody tr th {\n",
       "        vertical-align: top;\n",
       "    }\n",
       "\n",
       "    .dataframe thead th {\n",
       "        text-align: right;\n",
       "    }\n",
       "</style>\n",
       "<table border=\"1\" class=\"dataframe\">\n",
       "  <thead>\n",
       "    <tr style=\"text-align: right;\">\n",
       "      <th></th>\n",
       "      <th>col</th>\n",
       "      <th>imp</th>\n",
       "      <th>imp_rate</th>\n",
       "    </tr>\n",
       "  </thead>\n",
       "  <tbody>\n",
       "    <tr>\n",
       "      <th>0</th>\n",
       "      <td>answer</td>\n",
       "      <td>282</td>\n",
       "      <td>2.24%</td>\n",
       "    </tr>\n",
       "    <tr>\n",
       "      <th>1</th>\n",
       "      <td>qid</td>\n",
       "      <td>666</td>\n",
       "      <td>5.29%</td>\n",
       "    </tr>\n",
       "    <tr>\n",
       "      <th>2</th>\n",
       "      <td>u_2_cat_a</td>\n",
       "      <td>0</td>\n",
       "      <td>0.00%</td>\n",
       "    </tr>\n",
       "    <tr>\n",
       "      <th>3</th>\n",
       "      <td>u_2_cat_b</td>\n",
       "      <td>0</td>\n",
       "      <td>0.00%</td>\n",
       "    </tr>\n",
       "    <tr>\n",
       "      <th>4</th>\n",
       "      <td>u_2_cat_c</td>\n",
       "      <td>0</td>\n",
       "      <td>0.00%</td>\n",
       "    </tr>\n",
       "    <tr>\n",
       "      <th>5</th>\n",
       "      <td>u_2_cat_d</td>\n",
       "      <td>9</td>\n",
       "      <td>0.07%</td>\n",
       "    </tr>\n",
       "    <tr>\n",
       "      <th>6</th>\n",
       "      <td>u_2_cat_e</td>\n",
       "      <td>0</td>\n",
       "      <td>0.00%</td>\n",
       "    </tr>\n",
       "    <tr>\n",
       "      <th>7</th>\n",
       "      <td>u_multi_cat_a</td>\n",
       "      <td>32</td>\n",
       "      <td>0.25%</td>\n",
       "    </tr>\n",
       "    <tr>\n",
       "      <th>8</th>\n",
       "      <td>u_multi_cat_b</td>\n",
       "      <td>29</td>\n",
       "      <td>0.23%</td>\n",
       "    </tr>\n",
       "    <tr>\n",
       "      <th>9</th>\n",
       "      <td>u_multi_cat_c</td>\n",
       "      <td>0</td>\n",
       "      <td>0.00%</td>\n",
       "    </tr>\n",
       "    <tr>\n",
       "      <th>10</th>\n",
       "      <td>u_multi_cat_d</td>\n",
       "      <td>20</td>\n",
       "      <td>0.16%</td>\n",
       "    </tr>\n",
       "    <tr>\n",
       "      <th>11</th>\n",
       "      <td>u_multi_cat_e</td>\n",
       "      <td>0</td>\n",
       "      <td>0.00%</td>\n",
       "    </tr>\n",
       "    <tr>\n",
       "      <th>12</th>\n",
       "      <td>u_salt_value</td>\n",
       "      <td>2331</td>\n",
       "      <td>18.50%</td>\n",
       "    </tr>\n",
       "    <tr>\n",
       "      <th>13</th>\n",
       "      <td>uid</td>\n",
       "      <td>132</td>\n",
       "      <td>1.05%</td>\n",
       "    </tr>\n",
       "    <tr>\n",
       "      <th>14</th>\n",
       "      <td>visit_freq</td>\n",
       "      <td>27</td>\n",
       "      <td>0.21%</td>\n",
       "    </tr>\n",
       "    <tr>\n",
       "      <th>15</th>\n",
       "      <td>i_start_day</td>\n",
       "      <td>735</td>\n",
       "      <td>5.83%</td>\n",
       "    </tr>\n",
       "    <tr>\n",
       "      <th>16</th>\n",
       "      <td>i_start_hour</td>\n",
       "      <td>1096</td>\n",
       "      <td>8.70%</td>\n",
       "    </tr>\n",
       "    <tr>\n",
       "      <th>17</th>\n",
       "      <td>q_start_day</td>\n",
       "      <td>1717</td>\n",
       "      <td>13.63%</td>\n",
       "    </tr>\n",
       "    <tr>\n",
       "      <th>18</th>\n",
       "      <td>q_start_hour</td>\n",
       "      <td>234</td>\n",
       "      <td>1.86%</td>\n",
       "    </tr>\n",
       "    <tr>\n",
       "      <th>19</th>\n",
       "      <td>uid_count</td>\n",
       "      <td>1618</td>\n",
       "      <td>12.84%</td>\n",
       "    </tr>\n",
       "    <tr>\n",
       "      <th>20</th>\n",
       "      <td>qid_count</td>\n",
       "      <td>2225</td>\n",
       "      <td>17.66%</td>\n",
       "    </tr>\n",
       "    <tr>\n",
       "      <th>21</th>\n",
       "      <td>gender_count</td>\n",
       "      <td>0</td>\n",
       "      <td>0.00%</td>\n",
       "    </tr>\n",
       "    <tr>\n",
       "      <th>22</th>\n",
       "      <td>visit_freq_count</td>\n",
       "      <td>1443</td>\n",
       "      <td>11.45%</td>\n",
       "    </tr>\n",
       "    <tr>\n",
       "      <th>23</th>\n",
       "      <td>u_2_cat_a_count</td>\n",
       "      <td>0</td>\n",
       "      <td>0.00%</td>\n",
       "    </tr>\n",
       "    <tr>\n",
       "      <th>24</th>\n",
       "      <td>u_2_cat_b_count</td>\n",
       "      <td>0</td>\n",
       "      <td>0.00%</td>\n",
       "    </tr>\n",
       "    <tr>\n",
       "      <th>25</th>\n",
       "      <td>u_2_cat_c_count</td>\n",
       "      <td>0</td>\n",
       "      <td>0.00%</td>\n",
       "    </tr>\n",
       "    <tr>\n",
       "      <th>26</th>\n",
       "      <td>u_2_cat_d_count</td>\n",
       "      <td>0</td>\n",
       "      <td>0.00%</td>\n",
       "    </tr>\n",
       "    <tr>\n",
       "      <th>27</th>\n",
       "      <td>u_2_cat_e_count</td>\n",
       "      <td>0</td>\n",
       "      <td>0.00%</td>\n",
       "    </tr>\n",
       "    <tr>\n",
       "      <th>28</th>\n",
       "      <td>u_multi_cat_a_count</td>\n",
       "      <td>4</td>\n",
       "      <td>0.03%</td>\n",
       "    </tr>\n",
       "    <tr>\n",
       "      <th>29</th>\n",
       "      <td>u_multi_cat_b_count</td>\n",
       "      <td>0</td>\n",
       "      <td>0.00%</td>\n",
       "    </tr>\n",
       "    <tr>\n",
       "      <th>30</th>\n",
       "      <td>u_multi_cat_c_count</td>\n",
       "      <td>0</td>\n",
       "      <td>0.00%</td>\n",
       "    </tr>\n",
       "    <tr>\n",
       "      <th>31</th>\n",
       "      <td>u_multi_cat_d_count</td>\n",
       "      <td>0</td>\n",
       "      <td>0.00%</td>\n",
       "    </tr>\n",
       "    <tr>\n",
       "      <th>32</th>\n",
       "      <td>u_multi_cat_e_count</td>\n",
       "      <td>0</td>\n",
       "      <td>0.00%</td>\n",
       "    </tr>\n",
       "  </tbody>\n",
       "</table>\n",
       "</div>"
      ],
      "text/plain": [
       "                    col   imp imp_rate\n",
       "0                answer   282    2.24%\n",
       "1                   qid   666    5.29%\n",
       "2             u_2_cat_a     0    0.00%\n",
       "3             u_2_cat_b     0    0.00%\n",
       "4             u_2_cat_c     0    0.00%\n",
       "5             u_2_cat_d     9    0.07%\n",
       "6             u_2_cat_e     0    0.00%\n",
       "7         u_multi_cat_a    32    0.25%\n",
       "8         u_multi_cat_b    29    0.23%\n",
       "9         u_multi_cat_c     0    0.00%\n",
       "10        u_multi_cat_d    20    0.16%\n",
       "11        u_multi_cat_e     0    0.00%\n",
       "12         u_salt_value  2331   18.50%\n",
       "13                  uid   132    1.05%\n",
       "14           visit_freq    27    0.21%\n",
       "15          i_start_day   735    5.83%\n",
       "16         i_start_hour  1096    8.70%\n",
       "17          q_start_day  1717   13.63%\n",
       "18         q_start_hour   234    1.86%\n",
       "19            uid_count  1618   12.84%\n",
       "20            qid_count  2225   17.66%\n",
       "21         gender_count     0    0.00%\n",
       "22     visit_freq_count  1443   11.45%\n",
       "23      u_2_cat_a_count     0    0.00%\n",
       "24      u_2_cat_b_count     0    0.00%\n",
       "25      u_2_cat_c_count     0    0.00%\n",
       "26      u_2_cat_d_count     0    0.00%\n",
       "27      u_2_cat_e_count     0    0.00%\n",
       "28  u_multi_cat_a_count     4    0.03%\n",
       "29  u_multi_cat_b_count     0    0.00%\n",
       "30  u_multi_cat_c_count     0    0.00%\n",
       "31  u_multi_cat_d_count     0    0.00%\n",
       "32  u_multi_cat_e_count     0    0.00%"
      ]
     },
     "execution_count": 35,
     "metadata": {},
     "output_type": "execute_result"
    }
   ],
   "source": [
    "importance_df = pd.DataFrame({'col':col, 'imp': importance})\n",
    "importance_df['imp_rate'] = (importance_df['imp'] / importance_df['imp'].sum()).apply(lambda x: format(x, '.2%'))\n",
    "importance_df"
   ]
  },
  {
   "cell_type": "code",
   "execution_count": null,
   "metadata": {},
   "outputs": [],
   "source": []
  }
 ],
 "metadata": {
  "kernelspec": {
   "display_name": "Python 3",
   "language": "python",
   "name": "python3"
  },
  "language_info": {
   "codemirror_mode": {
    "name": "ipython",
    "version": 3
   },
   "file_extension": ".py",
   "mimetype": "text/x-python",
   "name": "python",
   "nbconvert_exporter": "python",
   "pygments_lexer": "ipython3",
   "version": "3.6.9"
  }
 },
 "nbformat": 4,
 "nbformat_minor": 2
}
