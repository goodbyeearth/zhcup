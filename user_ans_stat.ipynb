{
 "cells": [
  {
   "cell_type": "code",
   "execution_count": null,
   "metadata": {},
   "outputs": [],
   "source": [
    "\"\"\"\n",
    "统计用户过去两个月的回答情况（除当前记录，防穿越）；\n",
    "这些情况包括回答过的收藏数等的总和以及平均。\n",
    "也包括回答总数。\n",
    "\"\"\""
   ]
  },
  {
   "cell_type": "code",
   "execution_count": 4,
   "metadata": {},
   "outputs": [],
   "source": [
    "import pandas as pd\n",
    "import logging\n",
    "\n",
    "log_fmt = \"[%(asctime)s] %(levelname)s in %(module)s: %(message)s\"\n",
    "logging.basicConfig(format=log_fmt, level=logging.INFO)"
   ]
  },
  {
   "cell_type": "code",
   "execution_count": 5,
   "metadata": {},
   "outputs": [],
   "source": [
    "base_path = './data'\n",
    "feature_path = './feature'"
   ]
  },
  {
   "cell_type": "code",
   "execution_count": 6,
   "metadata": {},
   "outputs": [
    {
     "name": "stderr",
     "output_type": "stream",
     "text": [
      "[2019-11-30 10:43:08,363] INFO in <ipython-input-6-af34e33feb4f>: invite (9489162, 4)\n",
      "[2019-11-30 10:43:09,774] INFO in <ipython-input-6-af34e33feb4f>: test (1141683, 3)\n"
     ]
    }
   ],
   "source": [
    "train = pd.read_csv(f'{base_path}/invite_info_0926.txt', sep='\\t', header=None)\n",
    "train.columns = ['qid', 'uid', 'dt', 'label']\n",
    "logging.info(\"invite %s\", train.shape)\n",
    "\n",
    "test = pd.read_csv(f'{base_path}/invite_info_evaluate_0926.txt', sep='\\t', header=None)\n",
    "test.columns = ['qid', 'uid', 'dt']\n",
    "logging.info(\"test %s\", test.shape)"
   ]
  },
  {
   "cell_type": "code",
   "execution_count": 7,
   "metadata": {},
   "outputs": [],
   "source": [
    "def extract_day(s):\n",
    "    return s.apply(lambda x: int(x.split('-')[0][1:]))\n",
    "\n",
    "\n",
    "def extract_hour(s):\n",
    "    return s.apply(lambda x: int(x.split('-')[1][1:]))\n",
    "\n",
    "train['day'] = extract_day(train['dt'])\n",
    "train['hour'] = extract_hour(train['dt'])\n",
    "\n",
    "test['day'] = extract_day(test['dt'])\n",
    "test['hour'] = extract_hour(test['dt'])\n",
    "\n",
    "del train['dt'], test['dt']"
   ]
  },
  {
   "cell_type": "code",
   "execution_count": 8,
   "metadata": {},
   "outputs": [
    {
     "name": "stderr",
     "output_type": "stream",
     "text": [
      "[2019-11-30 10:44:09,404] INFO in <ipython-input-8-9063dae39e17>: ques (1829900, 3)\n"
     ]
    }
   ],
   "source": [
    "# 加载问题\n",
    "ques = pd.read_csv(f'{base_path}/question_info_0926.txt', header=None, sep='\\t')\n",
    "ques.columns = ['qid', 'q_dt', 'title_t1', 'title_t2', 'desc_t1', 'desc_t2', 'topic']\n",
    "del ques['title_t1'], ques['title_t2'], ques['desc_t1'], ques['desc_t2']\n",
    "logging.info(\"ques %s\", ques.shape)\n",
    "\n",
    "ques['q_day'] = extract_day(ques['q_dt'])\n",
    "ques['q_hour'] = extract_hour(ques['q_dt'])\n",
    "\n",
    "del ques['q_dt']"
   ]
  },
  {
   "cell_type": "code",
   "execution_count": 9,
   "metadata": {},
   "outputs": [
    {
     "name": "stderr",
     "output_type": "stream",
     "text": [
      "[2019-11-30 10:45:35,740] INFO in <ipython-input-9-cdaa443c2e7e>: ans (4513735, 18)\n"
     ]
    }
   ],
   "source": [
    "# 加载回答\n",
    "ans = pd.read_csv(f'{base_path}/answer_info_0926.txt', header=None, sep='\\t')\n",
    "ans.columns = ['aid', 'qid', 'uid', 'ans_dt', 'ans_t1', 'ans_t2', 'is_good', 'is_rec', 'is_dest', 'has_img',\n",
    "               'has_video', 'word_count', 'reci_cheer', 'reci_uncheer', 'reci_comment', 'reci_mark', 'reci_tks',\n",
    "               'reci_xxx', 'reci_no_help', 'reci_dis']\n",
    "del ans['ans_t1'], ans['ans_t2']\n",
    "logging.info(\"ans %s\", ans.shape)\n",
    "\n",
    "ans['a_day'] = extract_day(ans['ans_dt'])\n",
    "ans['a_hour'] = extract_hour(ans['ans_dt'])\n",
    "del ans['ans_dt']\n",
    "\n",
    "ans = pd.merge(ans, ques, on='qid', how='left')\n",
    "del ques\n",
    "\n",
    "# 回答距提问的天数、总小时数\n",
    "ans['diff_qa_days'] = ans['a_day'] - ans['q_day']\n",
    "ans['diff_qa_hours'] = ans['diff_qa_days'] * 24 + (ans['a_hour'] - ans['q_hour'])"
   ]
  },
  {
   "cell_type": "code",
   "execution_count": 31,
   "metadata": {},
   "outputs": [],
   "source": [
    "extract_feat = ['is_good', 'is_rec', 'is_dest', 'has_img', 'has_video', 'word_count',\n",
    "              'reci_cheer', 'reci_uncheer', 'reci_comment', 'reci_mark', 'reci_tks',\n",
    "              'reci_xxx', 'reci_no_help', 'reci_dis', 'diff_qa_days', 'diff_qa_hours']\n",
    "u_group = ans[['uid'] + extract_feat].groupby('uid')\n",
    "\n",
    "u_sum_stat_raw = u_group[extract_feat].sum()\n",
    "u_sum_stat_raw.columns = ['u_total_' + feat + '_raw' for feat in extract_feat]"
   ]
  },
  {
   "cell_type": "code",
   "execution_count": 32,
   "metadata": {
    "scrolled": true
   },
   "outputs": [],
   "source": [
    "# answer info 里的每个用户的回答数量\n",
    "u_sum_stat_raw['u_total_answer_raw'] = u_group['is_good'].count()"
   ]
  },
  {
   "cell_type": "code",
   "execution_count": 34,
   "metadata": {},
   "outputs": [],
   "source": [
    "train = pd.merge(train, ans, on=['qid', 'uid'], how='left')\n",
    "train = pd.merge(train, u_sum_stat_raw, on='uid', how='left')"
   ]
  },
  {
   "cell_type": "code",
   "execution_count": 42,
   "metadata": {},
   "outputs": [],
   "source": [
    "# test = pd.merge(test, ans, on=['qid', 'uid'], how='left')\n",
    "test = pd.merge(test, u_sum_stat_raw, on='uid', how='left')"
   ]
  },
  {
   "cell_type": "code",
   "execution_count": 41,
   "metadata": {},
   "outputs": [],
   "source": [
    "# 防穿越特征\n",
    "careful_feat_1 = ['is_good', 'is_rec', 'is_dest', 'has_img', 'has_video', 'word_count', \n",
    "                  'reci_cheer', 'reci_uncheer', 'reci_comment', 'reci_mark', 'reci_tks',\n",
    "                  'reci_xxx', 'reci_no_help', 'reci_dis']         # 空值补零\n",
    "careful_feat_2 = ['diff_qa_days', 'diff_qa_hours']       # 空值不补\n",
    "careful_feat_3 = ['answer']      # 空值补零，但需要特殊处理\n",
    "\n",
    "careful_feat = careful_feat_1 + careful_feat_2 + careful_feat_3 "
   ]
  },
  {
   "cell_type": "code",
   "execution_count": 75,
   "metadata": {},
   "outputs": [],
   "source": [
    "# 有些空值补零， 有的不做处理\n",
    "for feat in careful_feat_1:\n",
    "    total_raw_feat = 'u_total_' + feat + '_raw'\n",
    "    # train\n",
    "    train[feat] = train[feat].fillna(0)\n",
    "    train[total_raw_feat] = train[total_raw_feat].fillna(0)\n",
    "    # test\n",
    "    test[total_raw_feat] = test[total_raw_feat].fillna(0)\n",
    "\n",
    "train['u_total_answer_raw'] = train['u_total_answer_raw'].fillna(0)\n",
    "test['u_total_answer_raw'] = test['u_total_answer_raw'].fillna(0)\n",
    "\n",
    "train['diff_qa_days'] = train['diff_qa_days'].fillna(0)\n",
    "train['diff_qa_hours'] = train['diff_qa_hours'].fillna(0)"
   ]
  },
  {
   "cell_type": "code",
   "execution_count": 86,
   "metadata": {},
   "outputs": [],
   "source": [
    "# 原表防穿越处理\n",
    "for feat in careful_feat:\n",
    "    new_name = 'u_total_' + feat\n",
    "    old_name = 'u_total_' + feat + '_raw'\n",
    "    \n",
    "    if feat == 'answer':\n",
    "        train[new_name] = train[old_name] - train['label']\n",
    "        train[new_name] = train[new_name].replace(-1, 0)\n",
    "    else:\n",
    "        train[new_name] = train[old_name] - train[feat]\n",
    "    \n",
    "    test[new_name] = test[old_name]\n",
    "    \n",
    "    # 压缩数据\n",
    "    if feat not in careful_feat_2:\n",
    "        train[new_name] = train[new_name].astype('int32')\n",
    "        test[new_name] = test[new_name].astype('int32')\n",
    "    else:\n",
    "        train[new_name] = train[new_name].astype('float32')\n",
    "        test[new_name] = test[new_name].astype('float32')"
   ]
  },
  {
   "cell_type": "code",
   "execution_count": 88,
   "metadata": {},
   "outputs": [],
   "source": [
    "# 平均\n",
    "for feat in careful_feat:\n",
    "    if feat == 'answer':\n",
    "        continue\n",
    "    new_name = 'u_mean_' + feat\n",
    "    old_name = 'u_total_' + feat\n",
    "    \n",
    "    train[new_name] = train[old_name] / (train['u_total_answer']+1)   # 伪平均\n",
    "    test[new_name] = test[old_name] / (test['u_total_answer']+1) \n",
    "    \n",
    "    # 压缩数据\n",
    "    train[new_name] = train[new_name].astype('float32')\n",
    "    test[new_name] = test[new_name].astype('float32')"
   ]
  },
  {
   "cell_type": "code",
   "execution_count": 93,
   "metadata": {
    "collapsed": true
   },
   "outputs": [
    {
     "data": {
      "text/html": [
       "<div>\n",
       "<style scoped>\n",
       "    .dataframe tbody tr th:only-of-type {\n",
       "        vertical-align: middle;\n",
       "    }\n",
       "\n",
       "    .dataframe tbody tr th {\n",
       "        vertical-align: top;\n",
       "    }\n",
       "\n",
       "    .dataframe thead th {\n",
       "        text-align: right;\n",
       "    }\n",
       "</style>\n",
       "<table border=\"1\" class=\"dataframe\">\n",
       "  <thead>\n",
       "    <tr style=\"text-align: right;\">\n",
       "      <th></th>\n",
       "      <th>u_total_answer</th>\n",
       "      <th>u_total_word_count</th>\n",
       "      <th>u_mean_word_count</th>\n",
       "    </tr>\n",
       "  </thead>\n",
       "  <tbody>\n",
       "    <tr>\n",
       "      <th>0</th>\n",
       "      <td>2</td>\n",
       "      <td>2052</td>\n",
       "      <td>684.000000</td>\n",
       "    </tr>\n",
       "    <tr>\n",
       "      <th>1</th>\n",
       "      <td>0</td>\n",
       "      <td>0</td>\n",
       "      <td>0.000000</td>\n",
       "    </tr>\n",
       "    <tr>\n",
       "      <th>2</th>\n",
       "      <td>4</td>\n",
       "      <td>568</td>\n",
       "      <td>113.599998</td>\n",
       "    </tr>\n",
       "    <tr>\n",
       "      <th>3</th>\n",
       "      <td>1</td>\n",
       "      <td>28</td>\n",
       "      <td>14.000000</td>\n",
       "    </tr>\n",
       "    <tr>\n",
       "      <th>4</th>\n",
       "      <td>0</td>\n",
       "      <td>0</td>\n",
       "      <td>0.000000</td>\n",
       "    </tr>\n",
       "    <tr>\n",
       "      <th>5</th>\n",
       "      <td>2</td>\n",
       "      <td>237</td>\n",
       "      <td>79.000000</td>\n",
       "    </tr>\n",
       "    <tr>\n",
       "      <th>6</th>\n",
       "      <td>0</td>\n",
       "      <td>0</td>\n",
       "      <td>0.000000</td>\n",
       "    </tr>\n",
       "    <tr>\n",
       "      <th>7</th>\n",
       "      <td>5</td>\n",
       "      <td>315</td>\n",
       "      <td>52.500000</td>\n",
       "    </tr>\n",
       "    <tr>\n",
       "      <th>8</th>\n",
       "      <td>7</td>\n",
       "      <td>578</td>\n",
       "      <td>72.250000</td>\n",
       "    </tr>\n",
       "    <tr>\n",
       "      <th>9</th>\n",
       "      <td>14</td>\n",
       "      <td>1114</td>\n",
       "      <td>74.266670</td>\n",
       "    </tr>\n",
       "    <tr>\n",
       "      <th>10</th>\n",
       "      <td>16</td>\n",
       "      <td>465</td>\n",
       "      <td>27.352942</td>\n",
       "    </tr>\n",
       "    <tr>\n",
       "      <th>11</th>\n",
       "      <td>3</td>\n",
       "      <td>466</td>\n",
       "      <td>116.500000</td>\n",
       "    </tr>\n",
       "    <tr>\n",
       "      <th>12</th>\n",
       "      <td>38</td>\n",
       "      <td>2208</td>\n",
       "      <td>56.615383</td>\n",
       "    </tr>\n",
       "    <tr>\n",
       "      <th>13</th>\n",
       "      <td>0</td>\n",
       "      <td>0</td>\n",
       "      <td>0.000000</td>\n",
       "    </tr>\n",
       "    <tr>\n",
       "      <th>14</th>\n",
       "      <td>1</td>\n",
       "      <td>15</td>\n",
       "      <td>7.500000</td>\n",
       "    </tr>\n",
       "    <tr>\n",
       "      <th>15</th>\n",
       "      <td>52</td>\n",
       "      <td>6079</td>\n",
       "      <td>114.698112</td>\n",
       "    </tr>\n",
       "    <tr>\n",
       "      <th>16</th>\n",
       "      <td>0</td>\n",
       "      <td>0</td>\n",
       "      <td>0.000000</td>\n",
       "    </tr>\n",
       "    <tr>\n",
       "      <th>17</th>\n",
       "      <td>0</td>\n",
       "      <td>0</td>\n",
       "      <td>0.000000</td>\n",
       "    </tr>\n",
       "    <tr>\n",
       "      <th>18</th>\n",
       "      <td>4</td>\n",
       "      <td>510</td>\n",
       "      <td>102.000000</td>\n",
       "    </tr>\n",
       "    <tr>\n",
       "      <th>19</th>\n",
       "      <td>0</td>\n",
       "      <td>0</td>\n",
       "      <td>0.000000</td>\n",
       "    </tr>\n",
       "    <tr>\n",
       "      <th>20</th>\n",
       "      <td>20</td>\n",
       "      <td>11149</td>\n",
       "      <td>530.904785</td>\n",
       "    </tr>\n",
       "    <tr>\n",
       "      <th>21</th>\n",
       "      <td>7</td>\n",
       "      <td>130</td>\n",
       "      <td>16.250000</td>\n",
       "    </tr>\n",
       "    <tr>\n",
       "      <th>22</th>\n",
       "      <td>0</td>\n",
       "      <td>0</td>\n",
       "      <td>0.000000</td>\n",
       "    </tr>\n",
       "    <tr>\n",
       "      <th>23</th>\n",
       "      <td>0</td>\n",
       "      <td>0</td>\n",
       "      <td>0.000000</td>\n",
       "    </tr>\n",
       "    <tr>\n",
       "      <th>24</th>\n",
       "      <td>0</td>\n",
       "      <td>0</td>\n",
       "      <td>0.000000</td>\n",
       "    </tr>\n",
       "    <tr>\n",
       "      <th>25</th>\n",
       "      <td>0</td>\n",
       "      <td>0</td>\n",
       "      <td>0.000000</td>\n",
       "    </tr>\n",
       "    <tr>\n",
       "      <th>26</th>\n",
       "      <td>12</td>\n",
       "      <td>871</td>\n",
       "      <td>67.000000</td>\n",
       "    </tr>\n",
       "    <tr>\n",
       "      <th>27</th>\n",
       "      <td>1</td>\n",
       "      <td>68</td>\n",
       "      <td>34.000000</td>\n",
       "    </tr>\n",
       "    <tr>\n",
       "      <th>28</th>\n",
       "      <td>4</td>\n",
       "      <td>472</td>\n",
       "      <td>94.400002</td>\n",
       "    </tr>\n",
       "    <tr>\n",
       "      <th>29</th>\n",
       "      <td>3</td>\n",
       "      <td>471</td>\n",
       "      <td>117.750000</td>\n",
       "    </tr>\n",
       "  </tbody>\n",
       "</table>\n",
       "</div>"
      ],
      "text/plain": [
       "    u_total_answer  u_total_word_count  u_mean_word_count\n",
       "0                2                2052         684.000000\n",
       "1                0                   0           0.000000\n",
       "2                4                 568         113.599998\n",
       "3                1                  28          14.000000\n",
       "4                0                   0           0.000000\n",
       "5                2                 237          79.000000\n",
       "6                0                   0           0.000000\n",
       "7                5                 315          52.500000\n",
       "8                7                 578          72.250000\n",
       "9               14                1114          74.266670\n",
       "10              16                 465          27.352942\n",
       "11               3                 466         116.500000\n",
       "12              38                2208          56.615383\n",
       "13               0                   0           0.000000\n",
       "14               1                  15           7.500000\n",
       "15              52                6079         114.698112\n",
       "16               0                   0           0.000000\n",
       "17               0                   0           0.000000\n",
       "18               4                 510         102.000000\n",
       "19               0                   0           0.000000\n",
       "20              20               11149         530.904785\n",
       "21               7                 130          16.250000\n",
       "22               0                   0           0.000000\n",
       "23               0                   0           0.000000\n",
       "24               0                   0           0.000000\n",
       "25               0                   0           0.000000\n",
       "26              12                 871          67.000000\n",
       "27               1                  68          34.000000\n",
       "28               4                 472          94.400002\n",
       "29               3                 471         117.750000"
      ]
     },
     "execution_count": 93,
     "metadata": {},
     "output_type": "execute_result"
    }
   ],
   "source": [
    "test[['u_total_answer','u_total_word_count', 'u_mean_word_count']][:30]"
   ]
  },
  {
   "cell_type": "code",
   "execution_count": 91,
   "metadata": {
    "collapsed": true
   },
   "outputs": [
    {
     "data": {
      "text/plain": [
       "Index(['qid', 'uid', 'label', 'day', 'hour', 'aid', 'is_good', 'is_rec',\n",
       "       'is_dest', 'has_img', 'has_video', 'word_count', 'reci_cheer',\n",
       "       'reci_uncheer', 'reci_comment', 'reci_mark', 'reci_tks', 'reci_xxx',\n",
       "       'reci_no_help', 'reci_dis', 'a_day', 'a_hour', 'topic', 'q_day',\n",
       "       'q_hour', 'diff_qa_days', 'diff_qa_hours', 'u_total_is_good_raw',\n",
       "       'u_total_is_rec_raw', 'u_total_is_dest_raw', 'u_total_has_img_raw',\n",
       "       'u_total_has_video_raw', 'u_total_word_count_raw',\n",
       "       'u_total_reci_cheer_raw', 'u_total_reci_uncheer_raw',\n",
       "       'u_total_reci_comment_raw', 'u_total_reci_mark_raw',\n",
       "       'u_total_reci_tks_raw', 'u_total_reci_xxx_raw',\n",
       "       'u_total_reci_no_help_raw', 'u_total_reci_dis_raw',\n",
       "       'u_total_diff_qa_days_raw', 'u_total_diff_qa_hours_raw',\n",
       "       'u_total_answer_raw', 'u_total_is_good', 'u_total_is_rec',\n",
       "       'u_total_is_dest', 'u_total_has_img', 'u_total_has_video',\n",
       "       'u_total_word_count', 'u_total_reci_cheer', 'u_total_reci_uncheer',\n",
       "       'u_total_reci_comment', 'u_total_reci_mark', 'u_total_reci_tks',\n",
       "       'u_total_reci_xxx', 'u_total_reci_no_help', 'u_total_reci_dis',\n",
       "       'u_total_diff_qa_days', 'u_total_diff_qa_hours', 'u_total_answer',\n",
       "       'u_mean_is_good', 'u_mean_is_rec', 'u_mean_is_dest', 'u_mean_has_img',\n",
       "       'u_mean_has_video', 'u_mean_word_count', 'u_mean_reci_cheer',\n",
       "       'u_mean_reci_uncheer', 'u_mean_reci_comment', 'u_mean_reci_mark',\n",
       "       'u_mean_reci_tks', 'u_mean_reci_xxx', 'u_mean_reci_no_help',\n",
       "       'u_mean_reci_dis', 'u_mean_diff_qa_days', 'u_mean_diff_qa_hours'],\n",
       "      dtype='object')"
      ]
     },
     "execution_count": 91,
     "metadata": {},
     "output_type": "execute_result"
    }
   ],
   "source": [
    "train.columns"
   ]
  },
  {
   "cell_type": "code",
   "execution_count": 94,
   "metadata": {
    "collapsed": true
   },
   "outputs": [
    {
     "data": {
      "text/plain": [
       "u_total_is_good            0.000000\n",
       "u_total_is_rec             0.000000\n",
       "u_total_is_dest            0.000000\n",
       "u_total_has_img            0.000000\n",
       "u_total_has_video          0.000000\n",
       "u_total_word_count         0.000000\n",
       "u_total_reci_cheer         0.000000\n",
       "u_total_reci_uncheer       0.000000\n",
       "u_total_reci_comment       0.000000\n",
       "u_total_reci_mark          0.000000\n",
       "u_total_reci_tks           0.000000\n",
       "u_total_reci_xxx           0.000000\n",
       "u_total_reci_no_help       0.000000\n",
       "u_total_reci_dis           0.000000\n",
       "u_total_diff_qa_days      -6.000000\n",
       "u_total_diff_qa_hours   -145.000000\n",
       "u_total_answer             0.000000\n",
       "u_mean_is_good             0.000000\n",
       "u_mean_is_rec              0.000000\n",
       "u_mean_is_dest             0.000000\n",
       "u_mean_has_img             0.000000\n",
       "u_mean_has_video           0.000000\n",
       "u_mean_word_count          0.000000\n",
       "u_mean_reci_cheer          0.000000\n",
       "u_mean_reci_uncheer        0.000000\n",
       "u_mean_reci_comment        0.000000\n",
       "u_mean_reci_mark           0.000000\n",
       "u_mean_reci_tks            0.000000\n",
       "u_mean_reci_xxx            0.000000\n",
       "u_mean_reci_no_help        0.000000\n",
       "u_mean_reci_dis            0.000000\n",
       "u_mean_diff_qa_days       -2.000000\n",
       "u_mean_diff_qa_hours     -48.333332\n",
       "dtype: float64"
      ]
     },
     "execution_count": 94,
     "metadata": {},
     "output_type": "execute_result"
    }
   ],
   "source": [
    "save_feat = ['u_total_is_good', 'u_total_is_rec',\n",
    "       'u_total_is_dest', 'u_total_has_img', 'u_total_has_video',\n",
    "       'u_total_word_count', 'u_total_reci_cheer', 'u_total_reci_uncheer',\n",
    "       'u_total_reci_comment', 'u_total_reci_mark', 'u_total_reci_tks',\n",
    "       'u_total_reci_xxx', 'u_total_reci_no_help', 'u_total_reci_dis',\n",
    "       'u_total_diff_qa_days', 'u_total_diff_qa_hours', 'u_total_answer']\n",
    "save_feat += ['u_mean_is_good', 'u_mean_is_rec', 'u_mean_is_dest', 'u_mean_has_img',\n",
    "       'u_mean_has_video', 'u_mean_word_count', 'u_mean_reci_cheer',\n",
    "       'u_mean_reci_uncheer', 'u_mean_reci_comment', 'u_mean_reci_mark',\n",
    "       'u_mean_reci_tks', 'u_mean_reci_xxx', 'u_mean_reci_no_help',\n",
    "       'u_mean_reci_dis', 'u_mean_diff_qa_days', 'u_mean_diff_qa_hours']\n",
    "train[save_feat].min()"
   ]
  },
  {
   "cell_type": "code",
   "execution_count": 95,
   "metadata": {
    "collapsed": true
   },
   "outputs": [
    {
     "data": {
      "text/plain": [
       "u_total_is_good            int32\n",
       "u_total_is_rec             int32\n",
       "u_total_is_dest            int32\n",
       "u_total_has_img            int32\n",
       "u_total_has_video          int32\n",
       "u_total_word_count         int32\n",
       "u_total_reci_cheer         int32\n",
       "u_total_reci_uncheer       int32\n",
       "u_total_reci_comment       int32\n",
       "u_total_reci_mark          int32\n",
       "u_total_reci_tks           int32\n",
       "u_total_reci_xxx           int32\n",
       "u_total_reci_no_help       int32\n",
       "u_total_reci_dis           int32\n",
       "u_total_diff_qa_days     float32\n",
       "u_total_diff_qa_hours    float32\n",
       "u_total_answer             int32\n",
       "u_mean_is_good           float32\n",
       "u_mean_is_rec            float32\n",
       "u_mean_is_dest           float32\n",
       "u_mean_has_img           float32\n",
       "u_mean_has_video         float32\n",
       "u_mean_word_count        float32\n",
       "u_mean_reci_cheer        float32\n",
       "u_mean_reci_uncheer      float32\n",
       "u_mean_reci_comment      float32\n",
       "u_mean_reci_mark         float32\n",
       "u_mean_reci_tks          float32\n",
       "u_mean_reci_xxx          float32\n",
       "u_mean_reci_no_help      float32\n",
       "u_mean_reci_dis          float32\n",
       "u_mean_diff_qa_days      float32\n",
       "u_mean_diff_qa_hours     float32\n",
       "dtype: object"
      ]
     },
     "execution_count": 95,
     "metadata": {},
     "output_type": "execute_result"
    }
   ],
   "source": [
    "train[save_feat].dtypes"
   ]
  },
  {
   "cell_type": "code",
   "execution_count": 97,
   "metadata": {
    "collapsed": true
   },
   "outputs": [
    {
     "data": {
      "text/plain": [
       "u_total_is_good            int32\n",
       "u_total_is_rec             int32\n",
       "u_total_is_dest            int32\n",
       "u_total_has_img            int32\n",
       "u_total_has_video          int32\n",
       "u_total_word_count         int32\n",
       "u_total_reci_cheer         int32\n",
       "u_total_reci_uncheer       int32\n",
       "u_total_reci_comment       int32\n",
       "u_total_reci_mark          int32\n",
       "u_total_reci_tks           int32\n",
       "u_total_reci_xxx           int32\n",
       "u_total_reci_no_help       int32\n",
       "u_total_reci_dis           int32\n",
       "u_total_diff_qa_days     float32\n",
       "u_total_diff_qa_hours    float32\n",
       "u_total_answer             int32\n",
       "u_mean_is_good           float32\n",
       "u_mean_is_rec            float32\n",
       "u_mean_is_dest           float32\n",
       "u_mean_has_img           float32\n",
       "u_mean_has_video         float32\n",
       "u_mean_word_count        float32\n",
       "u_mean_reci_cheer        float32\n",
       "u_mean_reci_uncheer      float32\n",
       "u_mean_reci_comment      float32\n",
       "u_mean_reci_mark         float32\n",
       "u_mean_reci_tks          float32\n",
       "u_mean_reci_xxx          float32\n",
       "u_mean_reci_no_help      float32\n",
       "u_mean_reci_dis          float32\n",
       "u_mean_diff_qa_days      float32\n",
       "u_mean_diff_qa_hours     float32\n",
       "dtype: object"
      ]
     },
     "execution_count": 97,
     "metadata": {},
     "output_type": "execute_result"
    }
   ],
   "source": [
    "test[save_feat].dtypes"
   ]
  },
  {
   "cell_type": "code",
   "execution_count": 98,
   "metadata": {},
   "outputs": [],
   "source": [
    "train[save_feat].to_csv(f'{feature_path}/train_ua_feature.txt', index=False, sep='\\t')"
   ]
  },
  {
   "cell_type": "code",
   "execution_count": 99,
   "metadata": {},
   "outputs": [],
   "source": [
    "test[save_feat].to_csv(f'{feature_path}/test_ua_feature.txt', index=False, sep='\\t')"
   ]
  }
 ],
 "metadata": {
  "kernelspec": {
   "display_name": "Python 3",
   "language": "python",
   "name": "python3"
  },
  "language_info": {
   "codemirror_mode": {
    "name": "ipython",
    "version": 3
   },
   "file_extension": ".py",
   "mimetype": "text/x-python",
   "name": "python",
   "nbconvert_exporter": "python",
   "pygments_lexer": "ipython3",
   "version": "3.6.9"
  }
 },
 "nbformat": 4,
 "nbformat_minor": 2
}
